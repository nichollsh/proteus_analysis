{
 "cells": [
  {
   "cell_type": "code",
   "execution_count": 1,
   "metadata": {},
   "outputs": [],
   "source": [
    "import matplotlib as mpl\n",
    "mpl.rcParams.update({'font.size': 12})\n",
    "mpl.rcParams['axes.formatter.useoffset'] = False\n",
    "\n",
    "import matplotlib.pyplot as plt\n",
    "import matplotlib.patches as mpatches\n",
    "import numpy as np\n"
   ]
  },
  {
   "cell_type": "code",
   "execution_count": 2,
   "metadata": {},
   "outputs": [],
   "source": [
    "import utils.load_grid as lg\n",
    "from utils.load_cmaps import *"
   ]
  },
  {
   "cell_type": "code",
   "execution_count": 3,
   "metadata": {},
   "outputs": [],
   "source": [
    "pgrid_dir = \"data/shared/hd63433d_v5\"\n",
    "cases = lg.get_cases(pgrid_dir)"
   ]
  },
  {
   "cell_type": "code",
   "execution_count": 4,
   "metadata": {},
   "outputs": [
    {
     "name": "stderr",
     "output_type": "stream",
     "text": [
      "Configs: 100%|██████████| 22/22 [00:00<00:00, 443.65it/s]\n",
      "Helpfiles: 100%|██████████| 22/22 [00:00<00:00, 106.88it/s]\n"
     ]
    },
    {
     "name": "stdout",
     "output_type": "stream",
     "text": [
      "Done\n"
     ]
    }
   ],
   "source": [
    "# Collect netcdf files\n",
    "stts = lg.get_statuses(pgrid_dir)\n",
    "# endn = lg.load_netcdfs_end(cases)\n",
    "\n",
    "# Configuration variables\n",
    "cvars = lg.load_cvars(cases)\n",
    "\n",
    "# Helpfiles\n",
    "helps, hvars = lg.load_helpfiles(cases)\n",
    "\n",
    "print(\"Done\")"
   ]
  },
  {
   "cell_type": "code",
   "execution_count": 5,
   "metadata": {},
   "outputs": [],
   "source": [
    "# %matplotlib widget\n",
    "%matplotlib inline"
   ]
  },
  {
   "cell_type": "markdown",
   "metadata": {},
   "source": [
    "### Plot mixing ratio as bar chart for each species, along one variable axis"
   ]
  },
  {
   "cell_type": "code",
   "execution_count": 18,
   "metadata": {},
   "outputs": [],
   "source": [
    "def make_bars_by_species(x,x_lbl, control, plot_controls=False, legend=True):\n",
    "    # Make plot\n",
    "    x_plt = np.array([], dtype=float) # x variable\n",
    "    c_plt = np.array([], dtype=int)   # case number\n",
    "    g_plt = np.array([], dtype=bool)  # case finished with success? (good)\n",
    "    g_plt = np.array([], dtype=bool)  # case finished with failure? (bad)\n",
    "    for i in range(len(x)):\n",
    "        skip_this = False\n",
    "        for k in control.keys():\n",
    "            if k in cvars.keys():\n",
    "                if not np.isclose(cvars[k][i],control[k]):\n",
    "                    skip_this = True\n",
    "                    break\n",
    "        if skip_this:\n",
    "            continue\n",
    "        x_plt = np.append(x_plt, x[i])\n",
    "        c_plt = np.append(c_plt, i)\n",
    "        g_plt = np.append(g_plt, bool( 10 <= stts[i] <= 19))\n",
    "    if len(x_plt) == 0:\n",
    "        print(\"WARNING: No data left after applying control variables!\")\n",
    "        return\n",
    "\n",
    "    sort_mask = np.argsort(x_plt)\n",
    "    x_plt = x_plt[sort_mask]\n",
    "    c_plt = c_plt[sort_mask]\n",
    "    g_plt = g_plt[sort_mask]\n",
    "\n",
    "    fig,ax = plt.subplots(1,1, figsize=(7,5))\n",
    "\n",
    "    present = np.full(len(lg.volatile_species), False)\n",
    "    for j,v in enumerate(lg.volatile_species):\n",
    "        for i in range(len(x_plt)):\n",
    "            r = lg.access_hvars(hvars,v+\"_bar\",-1)[c_plt[i]]\n",
    "            if r > 1.0e-30:\n",
    "                present[j] = True\n",
    "\n",
    "    # Make each bar chart\n",
    "    norm = mpl.colors.Normalize(vmin=x_plt[0], vmax=x_plt[-1])\n",
    "    sm = plt.cm.ScalarMappable(cmap=sci_colormaps['batlowK_r'], norm=norm)\n",
    "    sm.set_array([])\n",
    "\n",
    "    # Initial\n",
    "    offset = 1/np.count_nonzero(present)\n",
    "    gap = 1.5\n",
    "    for i in range(len(x_plt)):\n",
    "        ratios = []\n",
    "        names  = []\n",
    "        for j,v in enumerate(lg.volatile_species):\n",
    "            if not present[j]:\n",
    "                continue\n",
    "            r = lg.access_hvars(hvars,v+\"_bar\",5)[c_plt[i]]\n",
    "            names.append(v)\n",
    "            ratios.append(r)\n",
    "        x_base = np.linspace(0, len(x_plt)+gap-1, len(ratios)) + i*offset\n",
    "        ax.scatter(x_base,ratios,color='#333333',marker='_', zorder=6, s=70)\n",
    "\n",
    "    ax.set_xticks(x_base-offset*2)\n",
    "    ax.set_xticklabels(names)\n",
    "\n",
    "    # Final\n",
    "    offset = 1/np.count_nonzero(present)\n",
    "    gap = 1.5\n",
    "    for i in range(len(x_plt)):\n",
    "        ratios = []\n",
    "        names  = []\n",
    "        for j,v in enumerate(lg.volatile_species):\n",
    "            if not present[j]:\n",
    "                continue\n",
    "            r = lg.access_hvars(hvars,v+\"_bar\",-1)[c_plt[i]]\n",
    "            names.append(v)\n",
    "            ratios.append(r)\n",
    "        x_base = np.linspace(0, len(x_plt)+gap-1, len(ratios)) + i*offset\n",
    "        c = sm.to_rgba(x_plt[i])\n",
    "        l = \"%g\"%x_plt[i]\n",
    "        ax.bar(x_base,ratios, width=offset, label=l, color=c, zorder=3)\n",
    "\n",
    "    if plot_controls:\n",
    "        control_str = \"Control variables:\\n\"\n",
    "        for k in control.keys():\n",
    "            control_str += \"  %s=%g\\n\" % (k,control[k])\n",
    "        control_str = control_str[:-1]\n",
    "        axt = ax.text(0.05, 0.95, control_str,\n",
    "                horizontalalignment='left', verticalalignment='top', transform=ax.transAxes, fontsize=10)\n",
    "        axt.set_bbox(dict(facecolor='white', alpha=0.5, linewidth=0))\n",
    "\n",
    "    # ax.set_xlabel(\"Species\")\n",
    "    ax.set_ylabel(\"Partial pressure [bar]\")\n",
    "    ax.set_yscale(\"log\")\n",
    "    ax.set_ylim(bottom=1e-4)\n",
    "    if legend:\n",
    "        ax.legend(loc='center left', bbox_to_anchor=(1, 0.5), title=x_lbl)\n",
    "    ax.grid(axis='y', zorder=1)\n",
    "\n",
    "    fig.savefig(\"output/recent_composition-bars.pdf\", bbox_inches='tight')\n",
    "    plt.show()"
   ]
  },
  {
   "cell_type": "code",
   "execution_count": 19,
   "metadata": {},
   "outputs": [
    {
     "data": {
      "image/png": "[encoded data removed]",
      "text/plain": [
       "<Figure size 700x500 with 1 Axes>"
      ]
     },
     "metadata": {},
     "output_type": "display_data"
    }
   ],
   "source": [
    "# Variables\n",
    "x = cvars[\"fO2_shift_IW\"];  x_lbl = \"log$_{10}$ (fO$_{2}$ / IW)\"\n",
    "# control = {\"mean_distance\":1.0, \"CH_ratio\":2.0, \"hydrogen_earth_oceans\":10.0}\n",
    "control = {\"atmosphere_model\":1}\n",
    "\n",
    "plot_controls = True\n",
    "make_bars_by_species(x,x_lbl,control, plot_controls=plot_controls)\n"
   ]
  },
  {
   "cell_type": "markdown",
   "metadata": {},
   "source": [
    "### Plot mixing ratio (for all species), along one variable axis, as a stacked chart"
   ]
  },
  {
   "cell_type": "code",
   "execution_count": 15,
   "metadata": {},
   "outputs": [],
   "source": [
    "def make_bars_by_axis(x,x_lbl, control, plot_controls=False):\n",
    "    # Make plot\n",
    "    x_plt = np.array([], dtype=float) # x variable\n",
    "    c_plt = np.array([], dtype=int)   # case number\n",
    "    g_plt = np.array([], dtype=bool)  # case finished with success? (good)\n",
    "    g_plt = np.array([], dtype=bool)  # case finished with failure? (bad)\n",
    "    for i in range(len(x)):\n",
    "        skip_this = False\n",
    "        for k in control.keys():\n",
    "            if k in cvars.keys():\n",
    "                if not np.isclose(cvars[k][i],control[k]):\n",
    "                    skip_this = True\n",
    "                    break\n",
    "        if skip_this:\n",
    "            continue\n",
    "        x_plt = np.append(x_plt, x[i])\n",
    "        c_plt = np.append(c_plt, i)\n",
    "        g_plt = np.append(g_plt, bool( 10 <= stts[i] <= 19))\n",
    "    if len(x_plt) == 0:\n",
    "        print(\"WARNING: No data left after applying control variables!\")\n",
    "        return\n",
    "\n",
    "    fig,ax = plt.subplots(1,1, figsize=(5,5))\n",
    "\n",
    "    present = np.full(len(lg.volatile_species), False)\n",
    "    for j,v in enumerate(lg.volatile_species):\n",
    "        for i in range(len(x_plt)):\n",
    "            r = lg.access_hvars(hvars,v+\"_atm_bar\",-1)[c_plt[i]]\n",
    "            if r > 1.0e-30:\n",
    "                present[j] = True\n",
    "\n",
    "    # Make bar charts\n",
    "    vmr_last = np.zeros(len(x_plt))\n",
    "    for j,v in enumerate(lg.volatile_species[:3]):\n",
    "        if not present[j]:\n",
    "            continue\n",
    "        vmr = []\n",
    "        for i in range(len(x_plt)):\n",
    "            vmr.append(lg.access_hvars(hvars,v+\"_atm_bar\",-1)[c_plt[i]])\n",
    "        ax.bar(x_plt, vmr, bottom=vmr_last, color=lg.volatile_colors[v], label=v)\n",
    "        vmr_last += vmr\n",
    "\n",
    "    if plot_controls:\n",
    "        control_str = \"Control variables:\\n\"\n",
    "        for k in control.keys():\n",
    "            control_str += \"  %s=%g\\n\" % (k,control[k])\n",
    "        control_str = control_str[:-1]\n",
    "        axt = ax.text(0.05, 0.95, control_str,\n",
    "                horizontalalignment='left', verticalalignment='top', transform=ax.transAxes, fontsize=10)\n",
    "        axt.set_bbox(dict(facecolor='white', alpha=0.5, linewidth=0))\n",
    "\n",
    "    ax.set_xlabel(x_lbl)\n",
    "    ax.set_ylabel(\"Partial pressure [bar]\")\n",
    "    # ax.set_yscale(\"log\")\n",
    "\n",
    "    # Legend\n",
    "    patches = []\n",
    "    for j,v in enumerate(lg.volatile_species):\n",
    "        if present[j]:\n",
    "            patches.append(mpatches.Patch(color=lg.volatile_colors[v], label=v))\n",
    "    ax.legend(handles=patches,loc='center left', bbox_to_anchor=(1, 0.5), title=\"Species\")\n",
    "\n",
    "    plt.show()"
   ]
  },
  {
   "cell_type": "code",
   "execution_count": 16,
   "metadata": {},
   "outputs": [
    {
     "name": "stdout",
     "output_type": "stream",
     "text": [
      "WARNING: No data left after applying control variables!\n"
     ]
    }
   ],
   "source": [
    "# Variables\n",
    "x = cvars[\"fO2_shift_IW\"];  x_lbl = \"log10 fO2 - IW\"\n",
    "control = {\"mean_distance\":1.0, \"CH_ratio\":0.1}\n",
    "\n",
    "plot_controls = True\n",
    "\n",
    "make_bars_by_axis(x,x_lbl,control, plot_controls=plot_controls)\n"
   ]
  },
  {
   "cell_type": "code",
   "execution_count": null,
   "metadata": {},
   "outputs": [],
   "source": []
  }
 ],
 "metadata": {
  "kernelspec": {
   "display_name": "proteus",
   "language": "python",
   "name": "python3"
  },
  "language_info": {
   "codemirror_mode": {
    "name": "ipython",
    "version": 3
   },
   "file_extension": ".py",
   "mimetype": "text/x-python",
   "name": "python",
   "nbconvert_exporter": "python",
   "pygments_lexer": "ipython3",
   "version": "3.12.5"
  }
 },
 "nbformat": 4,
 "nbformat_minor": 2
}
