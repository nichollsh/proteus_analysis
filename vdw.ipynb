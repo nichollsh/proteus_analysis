{
 "cells": [
  {
   "cell_type": "code",
   "execution_count": 1,
   "metadata": {},
   "outputs": [
    {
     "name": "stdout",
     "output_type": "stream",
     "text": [
      "[-(b**(-2) - 3*(b*p + r*t)/(a*b))/(3*(sqrt(-4*(b**(-2) - 3*(b*p + r*t)/(a*b))**3 + (-2/b**3 - 27*p/(a*b) + 9*(b*p + r*t)/(a*b**2))**2)/2 - 1/b**3 - 27*p/(2*a*b) + 9*(b*p + r*t)/(2*a*b**2))**(1/3)) - (sqrt(-4*(b**(-2) - 3*(b*p + r*t)/(a*b))**3 + (-2/b**3 - 27*p/(a*b) + 9*(b*p + r*t)/(a*b**2))**2)/2 - 1/b**3 - 27*p/(2*a*b) + 9*(b*p + r*t)/(2*a*b**2))**(1/3)/3 + 1/(3*b), -(b**(-2) - 3*(b*p + r*t)/(a*b))/(3*(-1/2 - sqrt(3)*I/2)*(sqrt(-4*(b**(-2) - 3*(b*p + r*t)/(a*b))**3 + (-2/b**3 - 27*p/(a*b) + 9*(b*p + r*t)/(a*b**2))**2)/2 - 1/b**3 - 27*p/(2*a*b) + 9*(b*p + r*t)/(2*a*b**2))**(1/3)) - (-1/2 - sqrt(3)*I/2)*(sqrt(-4*(b**(-2) - 3*(b*p + r*t)/(a*b))**3 + (-2/b**3 - 27*p/(a*b) + 9*(b*p + r*t)/(a*b**2))**2)/2 - 1/b**3 - 27*p/(2*a*b) + 9*(b*p + r*t)/(2*a*b**2))**(1/3)/3 + 1/(3*b), -(b**(-2) - 3*(b*p + r*t)/(a*b))/(3*(-1/2 + sqrt(3)*I/2)*(sqrt(-4*(b**(-2) - 3*(b*p + r*t)/(a*b))**3 + (-2/b**3 - 27*p/(a*b) + 9*(b*p + r*t)/(a*b**2))**2)/2 - 1/b**3 - 27*p/(2*a*b) + 9*(b*p + r*t)/(2*a*b**2))**(1/3)) - (-1/2 + sqrt(3)*I/2)*(sqrt(-4*(b**(-2) - 3*(b*p + r*t)/(a*b))**3 + (-2/b**3 - 27*p/(a*b) + 9*(b*p + r*t)/(a*b**2))**2)/2 - 1/b**3 - 27*p/(2*a*b) + 9*(b*p + r*t)/(2*a*b**2))**(1/3)/3 + 1/(3*b)]\n"
     ]
    }
   ],
   "source": [
    "from sympy.abc import a, b, p, t, r, x\n",
    "from sympy import solve\n",
    "from math import sqrt\n",
    "\n",
    "f = (p + a * x ** 2) * (1 / x - b) - r * t\n",
    "rho = solve(f, x)\n",
    "print(rho)\n",
    "\n",
    "# real part:\n",
    "# rho = -(b**(-2) - 3*(b*p + r*t)/(a*b))/(3*(sqrt(-4*(b**(-2) - 3*(b*p + r*t)/(a*b))**3 + (-2/b**3 - 27*p/(a*b) + 9*(b*p + r*t)/(a*b**2))**2)/2 - 1/b**3 - 27*p/(2*a*b) + 9*(b*p + r*t)/(2*a*b**2))**(1/3)) - (sqrt(-4*(b**(-2) - 3*(b*p + r*t)/(a*b))**3 + (-2/b**3 - 27*p/(a*b) + 9*(b*p + r*t)/(a*b**2))**2)/2 - 1/b**3 - 27*p/(2*a*b) + 9*(b*p + r*t)/(2*a*b**2))**(1/3)/3 + 1/(3*b)\n"
   ]
  },
  {
   "cell_type": "code",
   "execution_count": 17,
   "metadata": {},
   "outputs": [],
   "source": [
    "import matplotlib.pyplot as plt\n",
    "import numpy as np"
   ]
  },
  {
   "cell_type": "code",
   "execution_count": 2,
   "metadata": {},
   "outputs": [
    {
     "name": "stdout",
     "output_type": "stream",
     "text": [
      "-(b**(-2) - 3*(b*p + r*t)/(a*b))/(3*(sqrt(-4*(b**(-2) - 3*(b*p + r*t)/(a*b))**3 + (-2/b**3 - 27*p/(a*b) + 9*(b*p + r*t)/(a*b**2))**2)/2 - 1/b**3 - 27*p/(2*a*b) + 9*(b*p + r*t)/(2*a*b**2))**(1/3)) - (sqrt(-4*(b**(-2) - 3*(b*p + r*t)/(a*b))**3 + (-2/b**3 - 27*p/(a*b) + 9*(b*p + r*t)/(a*b**2))**2)/2 - 1/b**3 - 27*p/(2*a*b) + 9*(b*p + r*t)/(2*a*b**2))**(1/3)/3 + 1/(3*b)\n",
      "-(b**(-2) - 3*(b*p + r*t)/(a*b))/(3*(-1/2 - sqrt(3)*I/2)*(sqrt(-4*(b**(-2) - 3*(b*p + r*t)/(a*b))**3 + (-2/b**3 - 27*p/(a*b) + 9*(b*p + r*t)/(a*b**2))**2)/2 - 1/b**3 - 27*p/(2*a*b) + 9*(b*p + r*t)/(2*a*b**2))**(1/3)) - (-1/2 - sqrt(3)*I/2)*(sqrt(-4*(b**(-2) - 3*(b*p + r*t)/(a*b))**3 + (-2/b**3 - 27*p/(a*b) + 9*(b*p + r*t)/(a*b**2))**2)/2 - 1/b**3 - 27*p/(2*a*b) + 9*(b*p + r*t)/(2*a*b**2))**(1/3)/3 + 1/(3*b)\n",
      "-(b**(-2) - 3*(b*p + r*t)/(a*b))/(3*(-1/2 + sqrt(3)*I/2)*(sqrt(-4*(b**(-2) - 3*(b*p + r*t)/(a*b))**3 + (-2/b**3 - 27*p/(a*b) + 9*(b*p + r*t)/(a*b**2))**2)/2 - 1/b**3 - 27*p/(2*a*b) + 9*(b*p + r*t)/(2*a*b**2))**(1/3)) - (-1/2 + sqrt(3)*I/2)*(sqrt(-4*(b**(-2) - 3*(b*p + r*t)/(a*b))**3 + (-2/b**3 - 27*p/(a*b) + 9*(b*p + r*t)/(a*b**2))**2)/2 - 1/b**3 - 27*p/(2*a*b) + 9*(b*p + r*t)/(2*a*b**2))**(1/3)/3 + 1/(3*b)\n"
     ]
    }
   ],
   "source": [
    "print(rho[0])\n",
    "print(rho[1])\n",
    "print(rho[2])"
   ]
  },
  {
   "cell_type": "code",
   "execution_count": 118,
   "metadata": {},
   "outputs": [],
   "source": [
    "def eval(p,t,_a,_b,part=0):\n",
    "    _r = 8.314/18\n",
    "    match part :\n",
    "        case 0:\n",
    "            return -(_b**(-2) - 3*(_b*p + _r*t)/(_a*_b))/(3*(sqrt(-4*(_b**(-2) - 3*(_b*p + _r*t)/(_a*_b))**3 + (-2/_b**3 - 27*p/(_a*_b) + 9*(_b*p + _r*t)/(_a*_b**2))**2)/2 - 1/_b**3 - 27*p/(2*_a*_b) + 9*(_b*p + _r*t)/(2*_a*_b**2))**(1/3)) - (sqrt(-4*(_b**(-2) - 3*(_b*p + _r*t)/(_a*_b))**3 + (-2/_b**3 - 27*p/(_a*_b) + 9*(_b*p + _r*t)/(_a*_b**2))**2)/2 - 1/_b**3 - 27*p/(2*_a*_b) + 9*(_b*p + _r*t)/(2*_a*_b**2))**(1/3)/3 + 1/(3*_b)\n",
    "        case 1:\n",
    "            return np.real(-(_b**(-2) - 3*(_b*p + _r*t)/(_a*_b))/(3*(-1/2 - sqrt(3)*1j/2)*(sqrt(-4*(_b**(-2) - 3*(_b*p + _r*t)/(_a*_b))**3 + (-2/_b**3 - 27*p/(_a*_b) + 9*(_b*p + _r*t)/(_a*_b**2))**2)/2 - 1/_b**3 - 27*p/(2*_a*_b) + 9*(_b*p + _r*t)/(2*_a*_b**2))**(1/3)) - (-1/2 - sqrt(3)*1j/2)*(sqrt(-4*(_b**(-2) - 3*(_b*p + _r*t)/(_a*_b))**3 + (-2/_b**3 - 27*p/(_a*_b) + 9*(_b*p + _r*t)/(_a*_b**2))**2)/2 - 1/_b**3 - 27*p/(2*_a*_b) + 9*(_b*p + _r*t)/(2*_a*_b**2))**(1/3)/3 + 1/(3*_b))\n",
    "        case 2:\n",
    "            return np.real(-(_b**(-2) - 3*(_b*p + _r*t)/(_a*_b))/(3*(-1/2 + sqrt(3)*1j/2)*(sqrt(-4*(_b**(-2) - 3*(_b*p + _r*t)/(_a*_b))**3 + (-2/_b**3 - 27*p/(_a*_b) + 9*(_b*p + _r*t)/(_a*_b**2))**2)/2 - 1/_b**3 - 27*p/(2*_a*_b) + 9*(_b*p + _r*t)/(2*_a*_b**2))**(1/3)) - (-1/2 + sqrt(3)*1j/2)*(sqrt(-4*(_b**(-2) - 3*(_b*p + _r*t)/(_a*_b))**3 + (-2/_b**3 - 27*p/(_a*_b) + 9*(_b*p + _r*t)/(_a*_b**2))**2)/2 - 1/_b**3 - 27*p/(2*_a*_b) + 9*(_b*p + _r*t)/(2*_a*_b**2))**(1/3)/3 + 1/(3*_b))"
   ]
  },
  {
   "cell_type": "code",
   "execution_count": 119,
   "metadata": {},
   "outputs": [],
   "source": [
    "# water\n",
    "vdw_a = 5.536\n",
    "vdw_b = 0.03049"
   ]
  },
  {
   "cell_type": "code",
   "execution_count": 120,
   "metadata": {},
   "outputs": [
    {
     "data": {
      "text/plain": [
       "0.004329923413305181"
      ]
     },
     "execution_count": 120,
     "metadata": {},
     "output_type": "execute_result"
    }
   ],
   "source": [
    "eval(1, 500, vdw_a, vdw_b, part=0)"
   ]
  },
  {
   "cell_type": "code",
   "execution_count": 123,
   "metadata": {},
   "outputs": [],
   "source": [
    "p_arr = np.logspace(-1, 6, 20)\n",
    "t_arr = np.linspace(200, 5000, 20)\n",
    "\n",
    "x_arr = []\n",
    "y_arr = []\n",
    "z_arr = []\n",
    "for i in range(len(p_arr)):\n",
    "    for j in range(len(t_arr)):\n",
    "        x_arr.append(p_arr[i])\n",
    "        y_arr.append(t_arr[j])\n",
    "        z_arr.append(eval(p_arr[i],t_arr[j], vdw_a, vdw_b, part=0))\n"
   ]
  },
  {
   "cell_type": "code",
   "execution_count": 124,
   "metadata": {},
   "outputs": [
    {
     "data": {
      "image/png": "[encoded data removed]",
      "text/plain": [
       "<Figure size 640x480 with 2 Axes>"
      ]
     },
     "metadata": {},
     "output_type": "display_data"
    }
   ],
   "source": [
    "fig,ax = plt.subplots(1,1)\n",
    "\n",
    "sm = ax.tricontourf(x_arr, y_arr, np.array(z_arr).T)\n",
    "\n",
    "ax.set_xscale(\"log\")\n",
    "ax.set_xlabel(\"Pressure [bar]\")\n",
    "\n",
    "ax.set_xscale(\"log\")\n",
    "ax.set_ylabel(\"Temperature [K]\")\n",
    "\n",
    "cbar = fig.colorbar(sm)\n",
    "\n",
    "plt.show()"
   ]
  }
 ],
 "metadata": {
  "kernelspec": {
   "display_name": "py313",
   "language": "python",
   "name": "python3"
  },
  "language_info": {
   "codemirror_mode": {
    "name": "ipython",
    "version": 3
   },
   "file_extension": ".py",
   "mimetype": "text/x-python",
   "name": "python",
   "nbconvert_exporter": "python",
   "pygments_lexer": "ipython3",
   "version": "3.13.0"
  }
 },
 "nbformat": 4,
 "nbformat_minor": 2
}
