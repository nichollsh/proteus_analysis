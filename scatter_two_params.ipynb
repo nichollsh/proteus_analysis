{
 "cells": [
  {
   "cell_type": "code",
   "execution_count": 1,
   "metadata": {},
   "outputs": [],
   "source": [
    "import matplotlib as mpl\n",
    "mpl.rcParams.update({'font.size': 12})\n",
    "mpl.rcParams['axes.formatter.useoffset'] = False\n",
    "\n",
    "import matplotlib.pyplot as plt\n",
    "from mpl_toolkits.axes_grid1 import make_axes_locatable\n",
    "import numpy as np\n",
    "\n",
    "#%config InlineBackend.figure_format='retina'"
   ]
  },
  {
   "cell_type": "code",
   "execution_count": 2,
   "metadata": {},
   "outputs": [],
   "source": [
    "import utils.load_grid as lg\n",
    "from utils.load_cmaps import *"
   ]
  },
  {
   "cell_type": "markdown",
   "metadata": {},
   "source": [
    "### Read data"
   ]
  },
  {
   "cell_type": "code",
   "execution_count": 3,
   "metadata": {},
   "outputs": [],
   "source": [
    "pgrid_dir = \"data/shared/pgrid_earth_gridtest_14\"\n",
    "cases = lg.get_cases(pgrid_dir)\n",
    "ncases = len(cases)"
   ]
  },
  {
   "cell_type": "code",
   "execution_count": 4,
   "metadata": {},
   "outputs": [
    {
     "name": "stderr",
     "output_type": "stream",
     "text": [
      "NetCDFs: 100%|██████████| 96/96 [02:13<00:00,  1.39s/it]\n",
      "Configs: 100%|██████████| 96/96 [00:01<00:00, 61.85it/s] \n",
      "Helpfiles: 100%|██████████| 96/96 [00:02<00:00, 32.17it/s]\n"
     ]
    },
    {
     "name": "stdout",
     "output_type": "stream",
     "text": [
      "Done\n"
     ]
    }
   ],
   "source": [
    "# Collect netcdf files\n",
    "stts = lg.get_statuses(pgrid_dir)\n",
    "endn = lg.load_netcdfs_end(cases)\n",
    "\n",
    "# Configuration variables\n",
    "cvars = lg.load_cvars(cases)\n",
    "\n",
    "# Helpfiles\n",
    "helps, hvars = lg.load_helpfiles(cases)\n",
    "\n",
    "print(\"Done\")"
   ]
  },
  {
   "cell_type": "markdown",
   "metadata": {},
   "source": [
    "### Function to plot z vs x,y scatter graphs"
   ]
  },
  {
   "cell_type": "code",
   "execution_count": 22,
   "metadata": {},
   "outputs": [],
   "source": [
    "def make_s2d(x,x_lbl, y,y_lbl, z,z_lbl, control, \n",
    "             plot_scatter=True, plot_casenums=False, plot_controls=False,  \n",
    "             logx=False,logy=False,logz=False, minz=None, maxz=None,\n",
    "             interp='none', hatch_solid=False):\n",
    "    \n",
    "    # Plotting parameters\n",
    "    norm_lev = 10       # contour levels\n",
    "    marker_e = 'none'   # scatter edge color\n",
    "    marker_s = 220      # scatter size\n",
    "    hatch_c  = 'white'  # hatch color\n",
    "    hatch_t  = '/'      # hatch type\n",
    "    hatch_w  = 1.5      # hatch line width\n",
    "    h_thresh = 0.006    # hatch threshold for phi_global\n",
    "\n",
    "    # Gather the data\n",
    "    x_plt = np.array([], dtype=float) # x variable\n",
    "    y_plt = np.array([], dtype=float) # y variable \n",
    "    z_plt = np.array([], dtype=float) # z variable\n",
    "    h_plt = np.array([], dtype=float) # hatch variable (i.e. melt fraction)\n",
    "    c_plt = np.array([], dtype=int)   # case number\n",
    "    g_plt = np.array([], dtype=bool)  # case finished with success? (good)\n",
    "    g_plt = np.array([], dtype=bool)  # case finished with failure? (bad)\n",
    "    for i in range(len(x)):\n",
    "        skip_this = False\n",
    "        for k in control.keys():\n",
    "            if k in cvars.keys():\n",
    "                if not np.isclose(cvars[k][i],control[k]):\n",
    "                    skip_this = True\n",
    "                    break\n",
    "        if skip_this:\n",
    "            continue \n",
    "        x_plt = np.append(x_plt, x[i])\n",
    "        y_plt = np.append(y_plt, y[i])\n",
    "        z_plt = np.append(z_plt, z[i])\n",
    "        h_plt = np.append(h_plt, lg.access_hvars(hvars, \"Phi_global\", -1)[i])\n",
    "        c_plt = np.append(c_plt, i)\n",
    "        g_plt = np.append(g_plt, bool( 10 <= stts[i] <= 19))\n",
    "    if len(z_plt) == 0:\n",
    "        print(\"WARNING: No data left after applying control variables!\")\n",
    "        return\n",
    "    b_plt = np.invert(g_plt)\n",
    "    \n",
    "    # Do interpolation on z-variable\n",
    "    interp_npts = 1000\n",
    "    interp = interp.lower().strip()\n",
    "    do_interp = interp in ['contour', 'mesh']\n",
    "    if do_interp:\n",
    "        marker_e='white'\n",
    "        x_inp = sorted(list(set(x_plt)))\n",
    "        y_inp = sorted(list(set(y_plt)))\n",
    "        z_2d = np.reshape(z_plt, (len(x_inp),len(y_inp)))\n",
    "        _,_,xxi,yyi,zzi = lg.interp_2d(x_inp,y_inp,z_2d, interp_npts, method='linear')\n",
    "\n",
    "    # Hatch solid cases (if allowing interpolation)\n",
    "    hatch_solid = hatch_solid and do_interp\n",
    "    if hatch_solid:\n",
    "        h_2d = np.reshape(h_plt, (len(x_inp),len(y_inp)))\n",
    "        _,_,_,_,hhi = lg.interp_2d(x_inp,y_inp,h_2d, interp_npts, method='linear')\n",
    "    \n",
    "    # Colour mapping\n",
    "    if minz == None:\n",
    "        minz = np.amin(z_plt)\n",
    "    if maxz == None:\n",
    "        maxz = np.amax(z_plt)\n",
    "    if minz > maxz:\n",
    "        minz, maxz = maxz, minz\n",
    "    if not logz:\n",
    "        norm = mpl.colors.Normalize(vmin=minz, vmax=maxz)\n",
    "    else:\n",
    "        norm = mpl.colors.LogNorm(vmin=minz, vmax=maxz)\n",
    "    cmap = sci_colormaps['batlow']\n",
    "    sm = plt.cm.ScalarMappable(cmap=cmap, norm=norm)\n",
    "    sm.set_array([])\n",
    "    cm = sm # mappable for colorbar\n",
    "\n",
    "    # Make the plot\n",
    "    fig,ax = plt.subplots(1,1, figsize=(5,4))\n",
    "\n",
    "    #    plot interpolation\n",
    "    if do_interp:\n",
    "        match interp:\n",
    "            case 'contour':\n",
    "                cm = ax.contourf(xxi,yyi,zzi, cmap=cmap, norm=norm, levels=norm_lev)\n",
    "            case 'mesh':\n",
    "                ax.pcolormesh(xxi,yyi,zzi, cmap=cmap, norm=norm)\n",
    "\n",
    "    #    plot hatches\n",
    "    if hatch_solid:\n",
    "        if np.any(hhi < h_thresh):\n",
    "            mpl.rcParams['hatch.linewidth'] = hatch_w\n",
    "            mpl.rcParams['hatch.color'] = hatch_c\n",
    "            ax.contourf(xxi,yyi,hhi, alpha=0.0, levels=[-1,h_thresh,1],hatches=[hatch_t,''], zorder=3, extend='upper')\n",
    "            ax.contour( xxi,yyi,hhi, alpha=1.0, levels=[-1,h_thresh,1],colors=[hatch_c]*3, zorder=3, extend='upper',linewidths=[hatch_w]*3)\n",
    "    \n",
    "    #    plot the raw values\n",
    "    if plot_scatter:\n",
    "        ax.scatter(x_plt[g_plt], y_plt[g_plt], c=z_plt[g_plt], norm=norm, cmap=cmap, marker='s', s=marker_s, edgecolors=marker_e, zorder=4)\n",
    "        ax.scatter(x_plt[b_plt], y_plt[b_plt], c=z_plt[b_plt], norm=norm, cmap=cmap, marker='o', s=marker_s, edgecolors=marker_e, zorder=4)\n",
    "\n",
    "    #    plot case numbers (debugging)\n",
    "    if plot_casenums:\n",
    "        for i in range(len(x_plt)):\n",
    "            ax.text(x_plt[i],y_plt[i],c_plt[i],fontsize=7, color='magenta', horizontalalignment='center', verticalalignment='center')\n",
    "\n",
    "    #    plot control variable text box (debugging)\n",
    "    if plot_controls:\n",
    "        control_str = \"Control variables:\\n\"\n",
    "        for k in control.keys():\n",
    "            control_str += \"  %s=%g\\n\" % (k,control[k])\n",
    "        control_str = control_str[:-1]\n",
    "        axt = ax.text(0.05, 0.95, control_str, \n",
    "                horizontalalignment='left', verticalalignment='top', transform=ax.transAxes, fontsize=10)\n",
    "        axt.set_bbox(dict(facecolor='white', alpha=0.5, linewidth=0))\n",
    "\n",
    "    #    finalise\n",
    "    ax.set_xlabel(x_lbl)\n",
    "    ax.set_ylabel(y_lbl)\n",
    "    if logx:\n",
    "        ax.set_xscale(\"log\")\n",
    "    if logy:\n",
    "        ax.set_yscale(\"log\")\n",
    "    cax = make_axes_locatable(ax).append_axes('right', size='5%', pad=0.05)\n",
    "    fig.colorbar(cm, cax=cax, orientation='vertical').set_label(z_lbl) \n",
    "\n",
    "    return fig,ax"
   ]
  },
  {
   "cell_type": "code",
   "execution_count": 26,
   "metadata": {},
   "outputs": [
    {
     "data": {
      "image/png": "[encoded data removed]",
      "text/plain": [
       "<Figure size 500x400 with 2 Axes>"
      ]
     },
     "metadata": {},
     "output_type": "display_data"
    }
   ],
   "source": [
    "x = cvars[\"fO2_shift_IW\"];  x_lbl = \"log$_{10}$ (fO$_{2}$ - IW)\"; logx = False \n",
    "y = cvars[\"CH_ratio\"];      y_lbl = \"C/H ratio\";    logy = True\n",
    "\n",
    "# z = lg.access_hvars(hvars,\"P_surf\",-1); z_lbl = \"Surface pressure [bar]\"\n",
    "# z = lg.access_hvars(hvars,\"Time\",-1);  z_lbl = \"Termination [Myr]\"\n",
    "# z = lg.access_hvars(hvars,\"Phi_global\",-1);  z_lbl = \"Melt fraction\"\n",
    "# z = lg.access_hvars(hvars,\"H2O_mr\",-1) * 100; z_lbl = \"H2O VMR [%]\"\n",
    "z = np.array([ endn[i][\"fl_U_LW\"][0] for i in range(ncases) ]); z_lbl = \"OLR [W m-2]\"\n",
    "control = {\"mean_distance\":1.0}\n",
    "\n",
    "logz          = False\n",
    "plot_controls = False\n",
    "plot_casenums = False\n",
    "plot_scatter  = False \n",
    "interp        = 'contour'\n",
    "hatch_solid   = True\n",
    "\n",
    "make_s2d(x,x_lbl, y,y_lbl, z,z_lbl, control, \n",
    "         plot_scatter=plot_scatter,plot_casenums=plot_casenums, plot_controls=plot_controls, \n",
    "         logx=logx, logy=logy, logz=logz, #minz=0, maxz=100,\n",
    "         interp=interp, hatch_solid=hatch_solid,\n",
    "         )\n",
    "plt.show()\n"
   ]
  },
  {
   "cell_type": "code",
   "execution_count": null,
   "metadata": {},
   "outputs": [],
   "source": []
  },
  {
   "cell_type": "code",
   "execution_count": null,
   "metadata": {},
   "outputs": [],
   "source": []
  },
  {
   "cell_type": "code",
   "execution_count": null,
   "metadata": {},
   "outputs": [],
   "source": []
  },
  {
   "cell_type": "markdown",
   "metadata": {},
   "source": [
    "### Function to plot z vs x using line graphs"
   ]
  },
  {
   "cell_type": "code",
   "execution_count": 24,
   "metadata": {},
   "outputs": [],
   "source": [
    "def make_p1d(x,x_lbl, z,z_lbl, control, plot_controls=False, logx=False, logz=False):\n",
    "    # Make plot\n",
    "    x_plt = np.array([], dtype=float) # x variable\n",
    "    z_plt = np.array([], dtype=float) # z variable\n",
    "    c_plt = np.array([], dtype=int)   # case number\n",
    "    g_plt = np.array([], dtype=bool)  # case finished with success? (good)\n",
    "    g_plt = np.array([], dtype=bool)  # case finished with failure? (bad)\n",
    "    for i in range(len(x)):\n",
    "        skip_this = False\n",
    "        for k in control.keys():\n",
    "            if k in cvars.keys():\n",
    "                if not np.isclose(cvars[k][i],control[k]):\n",
    "                    skip_this = True\n",
    "                    break\n",
    "        if skip_this:\n",
    "            continue \n",
    "        x_plt = np.append(x_plt, x[i])\n",
    "        z_plt = np.append(z_plt, z[i])\n",
    "        c_plt = np.append(c_plt, i)\n",
    "        g_plt = np.append(g_plt, bool( 10 <= stts[i] <= 19))\n",
    "    if len(z_plt) == 0:\n",
    "        print(\"WARNING: No data left after applying control variables!\")\n",
    "        return\n",
    "\n",
    "    b_plt = np.invert(g_plt)\n",
    "        \n",
    "    fig,ax = plt.subplots(1,1, figsize=(5,4))\n",
    "\n",
    "    x_mask = np.argsort(x_plt)\n",
    "    x_srt = x_plt[x_mask]\n",
    "    z_srt = z_plt[x_mask]\n",
    "\n",
    "    ax.plot(x_srt, z_srt, color='k', lw=3, zorder=3)\n",
    "    ax.scatter(x_srt, z_srt, marker='s', s=30, zorder=4)\n",
    "    ax.scatter(x_plt[b_plt], z_plt[b_plt], marker='x', s=30, zorder=4)\n",
    "\n",
    "    if plot_controls:\n",
    "        control_str = \"Control variables:\\n\"\n",
    "        for k in control.keys():\n",
    "            control_str += \"  %s=%g\\n\" % (k,control[k])\n",
    "        control_str = control_str[:-1]\n",
    "        axt = ax.text(0.05, 0.95, control_str, \n",
    "                horizontalalignment='left', verticalalignment='top', transform=ax.transAxes, fontsize=10)\n",
    "        axt.set_bbox(dict(facecolor='white', alpha=0.5, linewidth=0))\n",
    "\n",
    "    ax.set_xlabel(x_lbl)\n",
    "    ax.set_ylabel(z_lbl)\n",
    "    if logz:\n",
    "        ax.set_yscale(\"log\")\n",
    "    if logx:\n",
    "        ax.set_xscale(\"log\")\n",
    "\n",
    "    return fig,ax\n",
    "\n"
   ]
  },
  {
   "cell_type": "code",
   "execution_count": 25,
   "metadata": {},
   "outputs": [
    {
     "data": {
      "image/png": "[encoded data removed]",
      "text/plain": [
       "<Figure size 500x400 with 1 Axes>"
      ]
     },
     "metadata": {},
     "output_type": "display_data"
    }
   ],
   "source": [
    "x = cvars[\"mean_distance\"];  x_lbl = \"Orbital separation [AU]\"; logx = False\n",
    "z = np.array([ endn[i][\"fl_U_LW\"][0] for i in range(ncases) ]); z_lbl = \"OLR [W m-2]\"\n",
    "# z = endt * 1.0e-3; z_lbl = \"Termination time [yr]\"\n",
    "control = {\"fO2_shift_IW\":0, \"CH_ratio\":0.1}\n",
    "\n",
    "plot_controls = True\n",
    "logz = True\n",
    "\n",
    "fig,ax = make_p1d(x,x_lbl, z,z_lbl, control, plot_controls=plot_controls, logx=logx, logz=logz)\n",
    "ax.axhline(y=280, linestyle='dashed',zorder=2, label=\"SN Limit\", color='tab:red')\n",
    "plt.show()\n",
    "\n"
   ]
  }
 ],
 "metadata": {
  "kernelspec": {
   "display_name": "proteus",
   "language": "python",
   "name": "python3"
  },
  "language_info": {
   "codemirror_mode": {
    "name": "ipython",
    "version": 3
   },
   "file_extension": ".py",
   "mimetype": "text/x-python",
   "name": "python",
   "nbconvert_exporter": "python",
   "pygments_lexer": "ipython3",
   "version": "3.10.9"
  }
 },
 "nbformat": 4,
 "nbformat_minor": 2
}
