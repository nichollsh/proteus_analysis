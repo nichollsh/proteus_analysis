{
 "cells": [
  {
   "cell_type": "code",
   "execution_count": 1,
   "metadata": {},
   "outputs": [],
   "source": [
    "import matplotlib as mpl\n",
    "import matplotlib.pyplot as plt\n",
    "from mpl_toolkits.axes_grid1 import make_axes_locatable\n",
    "import numpy as np\n",
    "\n",
    "# %config InlineBackend.figure_format='retina'"
   ]
  },
  {
   "cell_type": "code",
   "execution_count": 2,
   "metadata": {},
   "outputs": [],
   "source": [
    "import utils.load_grid as lg\n",
    "from utils.load_cmaps import *"
   ]
  },
  {
   "cell_type": "code",
   "execution_count": 3,
   "metadata": {},
   "outputs": [],
   "source": [
    "pgrid_dir = \"data/scratch/pgrid_earth_gridtest_3\"\n",
    "cases = lg.get_cases(pgrid_dir)"
   ]
  },
  {
   "cell_type": "code",
   "execution_count": 4,
   "metadata": {},
   "outputs": [],
   "source": [
    "# Manual variables\n",
    "endt = np.array([lg.get_nc_years(c)[-1] for c in cases])\n",
    "endp = np.array([lg.read_nc(c+\"/data/%d_atm.nc\" % endt[i])[\"psurf\"] for i,c in enumerate(cases)])\n",
    "stts = lg.get_statuses(pgrid_dir)\n",
    "\n",
    "# Configuration variables\n",
    "cfgs = [lg.read_config(c) for c in cases]\n",
    "keys = cfgs[0].keys()\n",
    "cvars = {}\n",
    "for k in keys:\n",
    "    values = []\n",
    "    for i in range(len(cases)):\n",
    "        v = cfgs[i][k]\n",
    "        if lg.is_float(v):\n",
    "            values.append(v)\n",
    "    if len(values) > 0:\n",
    "        cvars[k] = np.array(values)\n",
    "\n",
    "# Helpfiles\n",
    "helps = []\n",
    "for c in cases:\n",
    "    helps.append(lg.read_helpfile(c))\n",
    "for v in lg.volatile_species:\n",
    "    v_arr = []\n",
    "    for h in helps:\n",
    "        v_arr.append(h.iloc[-1][v+\"_mr\"])\n",
    "    cvars[v+\"_surf\"] = np.array(v_arr)"
   ]
  },
  {
   "cell_type": "code",
   "execution_count": 10,
   "metadata": {},
   "outputs": [],
   "source": [
    "def make_s2d(x,x_lbl, y,y_lbl, z,z_lbl, control,plot_casenums=False,plot_controls=False):\n",
    "    # Make plot\n",
    "    x_plt = np.array([], dtype=float) # x variable\n",
    "    y_plt = np.array([], dtype=float) # y variable \n",
    "    z_plt = np.array([], dtype=float) # z variable\n",
    "    c_plt = np.array([], dtype=int)   # case number\n",
    "    g_plt = np.array([], dtype=bool)  # case finished with success? (good)\n",
    "    g_plt = np.array([], dtype=bool)  # case finished with failure? (bad)\n",
    "    for i in range(len(x)):\n",
    "        skip_this = False\n",
    "        for k in control.keys():\n",
    "            if k in cvars.keys():\n",
    "                if not np.isclose(cvars[k][i],control[k]):\n",
    "                    skip_this = True\n",
    "                    break\n",
    "        if skip_this:\n",
    "            continue \n",
    "        x_plt = np.append(x_plt, x[i])\n",
    "        y_plt = np.append(y_plt, y[i])\n",
    "        z_plt = np.append(z_plt, z[i])\n",
    "        c_plt = np.append(c_plt, i)\n",
    "        g_plt = np.append(g_plt, bool( 10 <= stts[i] <= 19))\n",
    "    if len(z_plt) == 0:\n",
    "        print(\"WARNING: No data left after applying control variables!\")\n",
    "        return\n",
    "\n",
    "    b_plt = np.invert(g_plt)\n",
    "        \n",
    "        \n",
    "    fig,ax = plt.subplots(1,1, figsize=(5,4))\n",
    "\n",
    "    norm = mpl.colors.Normalize(vmin=np.amin(z_plt), vmax=np.amax(z_plt))\n",
    "    cmap = 'viridis_r'\n",
    "    sm = plt.cm.ScalarMappable(cmap=cmap, norm=norm)\n",
    "    sm.set_array([])\n",
    "\n",
    "    ax.scatter(x_plt[g_plt], y_plt[g_plt], c=z_plt[g_plt], norm=norm, cmap=cmap, marker='s', s=240)\n",
    "    ax.scatter(x_plt[b_plt], y_plt[b_plt], c=z_plt[b_plt], norm=norm, cmap=cmap, marker='x', s=240)\n",
    "\n",
    "    if plot_casenums:\n",
    "        for i in range(len(x_plt)):\n",
    "            ax.text(x_plt[i],y_plt[i],c_plt[i],fontsize=7, color='magenta', horizontalalignment='center', verticalalignment='center')\n",
    "\n",
    "    if plot_controls:\n",
    "        control_str = \"Control variables:\\n\"\n",
    "        for k in control.keys():\n",
    "            control_str += \"  %s=%g\\n\" % (k,control[k])\n",
    "        control_str = control_str[:-1]\n",
    "        axt = ax.text(0.05, 0.95, control_str, \n",
    "                horizontalalignment='left', verticalalignment='top', transform=ax.transAxes, fontsize=10)\n",
    "        axt.set_bbox(dict(facecolor='white', alpha=0.5, linewidth=0))\n",
    "\n",
    "    ax.set_xlabel(x_lbl)\n",
    "    ax.set_ylabel(y_lbl)\n",
    "    ax.set_yscale(\"log\")\n",
    "\n",
    "    cax = make_axes_locatable(ax).append_axes('right', size='5%', pad=0.05)\n",
    "    fig.colorbar(sm, cax=cax, orientation='vertical').set_label(z_lbl) \n",
    "\n",
    "    plt.show()"
   ]
  },
  {
   "cell_type": "code",
   "execution_count": 12,
   "metadata": {},
   "outputs": [
    {
     "data": {
      "image/png": "[encoded data removed]",
      "text/plain": [
       "<Figure size 500x400 with 2 Axes>"
      ]
     },
     "metadata": {},
     "output_type": "display_data"
    }
   ],
   "source": [
    "# Variables\n",
    "x = cvars[\"fO2_shift_IW\"];  x_lbl = \"log10 fO2 - IW\"\n",
    "y = cvars[\"CH_ratio\"];      y_lbl = \"C/H ratio\"\n",
    "\n",
    "z = endp * 1.0e-5; z_lbl = \"Surface pressure [bar]\"\n",
    "z = endt;  z_lbl = \"Termination [yr]\"\n",
    "# z = cvars[\"N2_surf\"]; z_lbl = \"N2 VMR\"\n",
    "control = {\"mean_distance\":1.0}\n",
    "\n",
    "plot_controls = True\n",
    "plot_casenums = True\n",
    "\n",
    "make_s2d(x,x_lbl, y,y_lbl, z,z_lbl, control, plot_casenums=plot_casenums, plot_controls=plot_controls)\n"
   ]
  },
  {
   "cell_type": "code",
   "execution_count": null,
   "metadata": {},
   "outputs": [],
   "source": []
  },
  {
   "cell_type": "code",
   "execution_count": null,
   "metadata": {},
   "outputs": [],
   "source": []
  },
  {
   "cell_type": "code",
   "execution_count": null,
   "metadata": {},
   "outputs": [],
   "source": []
  },
  {
   "cell_type": "code",
   "execution_count": null,
   "metadata": {},
   "outputs": [],
   "source": []
  }
 ],
 "metadata": {
  "kernelspec": {
   "display_name": "proteus",
   "language": "python",
   "name": "python3"
  },
  "language_info": {
   "codemirror_mode": {
    "name": "ipython",
    "version": 3
   },
   "file_extension": ".py",
   "mimetype": "text/x-python",
   "name": "python",
   "nbconvert_exporter": "python",
   "pygments_lexer": "ipython3",
   "version": "3.10.9"
  }
 },
 "nbformat": 4,
 "nbformat_minor": 2
}
