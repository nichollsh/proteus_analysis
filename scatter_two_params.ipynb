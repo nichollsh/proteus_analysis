{
 "cells": [
  {
   "cell_type": "code",
   "execution_count": 2,
   "metadata": {},
   "outputs": [],
   "source": [
    "import matplotlib as mpl\n",
    "mpl.rcParams.update({'font.size': 12})\n",
    "mpl.rcParams['axes.formatter.useoffset'] = False\n",
    "\n",
    "import matplotlib.pyplot as plt\n",
    "from mpl_toolkits.axes_grid1 import make_axes_locatable\n",
    "from matplotlib.ticker import LinearLocator, LogLocator, MaxNLocator, FormatStrFormatter\n",
    "import numpy as np\n",
    "import copy\n",
    "from cmcrameri import cm"
   ]
  },
  {
   "cell_type": "code",
   "execution_count": 3,
   "metadata": {},
   "outputs": [],
   "source": [
    "import utils.load_grid as lg\n",
    "from proteus.config import read_config"
   ]
  },
  {
   "cell_type": "markdown",
   "metadata": {},
   "source": [
    "### Read data"
   ]
  },
  {
   "cell_type": "code",
   "execution_count": 13,
   "metadata": {},
   "outputs": [],
   "source": [
    "pgrid_dir = \"data/output/LOV_c/\"\n",
    "cases = lg.get_cases(pgrid_dir)\n",
    "ncases = len(cases)"
   ]
  },
  {
   "cell_type": "code",
   "execution_count": 14,
   "metadata": {},
   "outputs": [],
   "source": [
    "# Case numbers\n",
    "cnums = [\"%d\"%int(s.split(\"_\")[-1]) for s in cases]"
   ]
  },
  {
   "cell_type": "code",
   "execution_count": 15,
   "metadata": {},
   "outputs": [
    {
     "name": "stderr",
     "output_type": "stream",
     "text": [
      "Helpfiles: 100%|██████████| 100/100 [00:03<00:00, 31.57it/s]\n"
     ]
    },
    {
     "name": "stdout",
     "output_type": "stream",
     "text": [
      "Done\n"
     ]
    }
   ],
   "source": [
    "stts = lg.get_statuses(pgrid_dir)\n",
    "\n",
    "# Helpfiles\n",
    "helps, hvars = lg.load_helpfiles(cases)\n",
    "\n",
    "\n",
    "# Configuration variables\n",
    "conf = []\n",
    "for f in cases:\n",
    "    conf.append( read_config(f+\"/init_coupler.toml\") )\n",
    "\n",
    "print(\"Done\")"
   ]
  },
  {
   "cell_type": "code",
   "execution_count": 16,
   "metadata": {},
   "outputs": [
    {
     "name": "stdout",
     "output_type": "stream",
     "text": [
      "Solidification threshold = 2.020%\n"
     ]
    }
   ],
   "source": [
    "solid_thresh = float(lg.descend_get(conf[0],\"params.stop.solid.phi_crit\"))*1.01\n",
    "print(\"Solidification threshold = %.3f%%\"%(solid_thresh*100))"
   ]
  },
  {
   "cell_type": "code",
   "execution_count": 17,
   "metadata": {},
   "outputs": [],
   "source": [
    "# %matplotlib widget\n",
    "\n",
    "%matplotlib inline\n",
    "%config InlineBackend.figure_format='retina'"
   ]
  },
  {
   "cell_type": "markdown",
   "metadata": {},
   "source": [
    "### Function to plot z vs x,y scatter graphs"
   ]
  },
  {
   "cell_type": "code",
   "execution_count": 18,
   "metadata": {},
   "outputs": [],
   "source": [
    "def make_s2d(x,x_lbl, y,y_lbl, z,z_lbl, control,\n",
    "             title=\"\",\n",
    "             figscale=1.0, figsize=(5.0,4.0),\n",
    "             show_cbar=True, annotate=\"\",\n",
    "             plot_scatter=True, plot_casenums=False, plot_controls=False,\n",
    "             xscale=\"linear\", xmult=1.0,\n",
    "             yscale=\"linear\",ymult=1.0, fmt_cbar=\"%g\", marker_s = 100,\n",
    "             zscale=\"linear\", zmult=1.0, minz=None, maxz=None,\n",
    "             interp='none', hatch_solid=False, symmetric=False, extend='both'):\n",
    "\n",
    "    # Plotting parameters\n",
    "    norm_lev = 11       # contour levels\n",
    "    marker_e = 'none'   # scatter edge color\n",
    "    hatch_c  = 'white'  # hatch color\n",
    "    hatch_t  = '//'      # hatch type\n",
    "    hatch_w  = 1.0      # hatch line width\n",
    "\n",
    "    # Check params\n",
    "    if symmetric and (zscale == \"log\"):\n",
    "        print(\"WARNING: Cannot do symmetric colour-mapping with log-norm\")\n",
    "        return\n",
    "\n",
    "    # Gather the data\n",
    "    print(\"Gather data\")\n",
    "    x_plt = np.array([], dtype=float) # x variable\n",
    "    y_plt = np.array([], dtype=float) # y variable\n",
    "    z_plt = np.array([], dtype=float) # z variable\n",
    "    h_plt = np.array([], dtype=float) # hatch variable (i.e. melt fraction)\n",
    "    c_plt = np.array([], dtype=str)   # case number\n",
    "    g_plt = np.array([], dtype=bool)  # case finished with success? (good)\n",
    "    for i in range(ncases):\n",
    "        keep_this = True\n",
    "        for k in control.keys():\n",
    "            if not (lg.descend_get(conf[i],k) == control[k]):\n",
    "                keep_this = False\n",
    "        if not keep_this:\n",
    "            continue\n",
    "\n",
    "        cn = cnums[i]\n",
    "\n",
    "        # duplicates?\n",
    "        this_x =  lg.descend_get(conf[i],x)\n",
    "        this_y = lg.descend_get(conf[i],y)\n",
    "        for j in range(len(x_plt)):\n",
    "            if np.isclose(this_x, x_plt[j]) and np.isclose(this_y, y_plt[j]):\n",
    "                print(\"WARNING: Duplicate point added to array (case=%s, x=%g, y=%g)\"%(cn, this_x, this_y))\n",
    "\n",
    "        # add point\n",
    "        x_plt = np.append(x_plt, xmult*this_x)\n",
    "        y_plt = np.append(y_plt, ymult*this_y)\n",
    "        z_plt = np.append(z_plt, zmult*lg.access_hvars(hvars, z, -1)[i])\n",
    "        h_plt = np.append(h_plt, lg.access_hvars(hvars, \"Phi_global\", -1)[i])\n",
    "        c_plt = np.append(c_plt, cn)\n",
    "        g_plt = np.append(g_plt, bool( 10 <= stts[i] <= 19))\n",
    "    if len(z_plt) == 0:\n",
    "        print(\"WARNING: No data left after applying control variables!\")\n",
    "        return\n",
    "    b_plt = np.invert(g_plt)\n",
    "\n",
    "    print(\"shape x:\",np.shape(x_plt))\n",
    "    print(\"shape y:\",np.shape(y_plt))\n",
    "    print(\"shape z:\",np.shape(z_plt))\n",
    "\n",
    "    # Do interpolation on z-variable\n",
    "    interp_npts = 40\n",
    "    interp = interp.lower().strip()\n",
    "    do_interp = interp in ['contour', 'mesh']\n",
    "    if do_interp:\n",
    "        print(\"Interpolate z\")\n",
    "        marker_e='white'\n",
    "\n",
    "        _,_,xxi,yyi,zzi = lg.interp_2d(x_plt,y_plt,z_plt, interp_npts, method='linear')\n",
    "\n",
    "    # Hatch solid cases (if allowing interpolation)\n",
    "    hatch_solid = hatch_solid and do_interp\n",
    "    if hatch_solid:\n",
    "        print(\"Interpolate phi\")\n",
    "        _,_,_,_,hhi = lg.interp_2d(x_plt, y_plt,h_plt, interp_npts, method='linear')\n",
    "\n",
    "    # Colour mapping\n",
    "    if minz == None:\n",
    "        minz = np.amin(z_plt)\n",
    "    if maxz == None:\n",
    "        maxz = np.amax(z_plt)\n",
    "    if abs(minz-maxz) < 1.0e-20:\n",
    "        print(\"ERROR: minz and maxz are the same\")\n",
    "        return\n",
    "    if minz > maxz:\n",
    "        minz, maxz = maxz, minz\n",
    "    if (zscale == \"linear\"):\n",
    "        if symmetric:\n",
    "            maxz = max(maxz, abs(minz))\n",
    "            minz = -1.0 * maxz\n",
    "        norm = mpl.colors.Normalize(vmin=minz, vmax=maxz)\n",
    "        levels = np.linspace(minz, maxz, norm_lev)\n",
    "    else:\n",
    "        norm = mpl.colors.LogNorm(vmin=minz, vmax=maxz)\n",
    "        levels = norm_lev\n",
    "        # levels = np.logspace(np.log10(minz), np.log10(maxz), norm_lev)\n",
    "\n",
    "    if symmetric:\n",
    "        cmap = copy.deepcopy(cm.roma)\n",
    "    else:\n",
    "        cmap = copy.deepcopy(cm.batlow_r)\n",
    "        cmap.set_under('crimson')\n",
    "        cmap.set_over('slategrey')\n",
    "\n",
    "    sm = plt.cm.ScalarMappable(cmap=cmap, norm=norm)\n",
    "    sm.set_array([])\n",
    "    mappable = sm # mappable for colorbar\n",
    "\n",
    "    # Make the plot\n",
    "    print(\"Plot\")\n",
    "    fig,ax = plt.subplots(1,1, figsize=(figsize[0]*figscale,figsize[1]*figscale))\n",
    "\n",
    "    #    plot interpolation\n",
    "    if do_interp:\n",
    "        zzi = np.clip(zzi, minz*(1+1.0e-10), maxz*(1-1.0e-10))  # avoid numerical artifacts from interpolation + cmapping\n",
    "        match interp:\n",
    "            case 'scatter':\n",
    "                ax.scatter(xxi, yyi, c=zzi,  cmap=cmap, norm=norm,)\n",
    "            case 'contour':\n",
    "                mappable = ax.contourf(xxi,yyi,zzi, cmap=cmap, norm=norm, levels=levels, extend=extend)\n",
    "            case 'mesh':\n",
    "                ax.pcolormesh(xxi,yyi,zzi, cmap=cmap, norm=norm)\n",
    "\n",
    "    #    plot hatches\n",
    "    if hatch_solid:\n",
    "        mpl.rcParams['hatch.linewidth'] = hatch_w\n",
    "        mpl.rcParams['hatch.color'] = hatch_c\n",
    "        if np.any(hhi <= solid_thresh):\n",
    "            # contour hatches\n",
    "            ax.contourf(xxi,yyi,hhi, alpha=0.0, levels=[-1,solid_thresh,1],hatches=[hatch_t,''], zorder=3, extend='upper')\n",
    "            # contour boundary\n",
    "            ax.contour( xxi,yyi,hhi, alpha=1.0, levels=[-1,solid_thresh,1],colors=[hatch_c]*3, zorder=3, extend='upper',linewidths=[hatch_w]*3)\n",
    "\n",
    "    #    plot the raw values\n",
    "    if plot_scatter:\n",
    "        ax.scatter(x_plt[g_plt], y_plt[g_plt], c=z_plt[g_plt], norm=norm, cmap=cmap, marker='s', s=marker_s, edgecolors=marker_e, zorder=4)\n",
    "        ax.scatter(x_plt[b_plt], y_plt[b_plt], c=z_plt[b_plt], norm=norm, cmap=cmap, marker='o', s=marker_s, edgecolors='k', zorder=4, linestyle='dotted')\n",
    "\n",
    "    #    plot case numbers (debugging)\n",
    "    if plot_casenums:\n",
    "        for i in range(len(x_plt)):\n",
    "            ax.text(x_plt[i],y_plt[i],c_plt[i],fontsize=7, color='white', horizontalalignment='center', verticalalignment='center', zorder=10)\n",
    "\n",
    "    #    plot control variable text box (debugging)\n",
    "    if plot_controls:\n",
    "        control_str = \"Control variables:\\n\"\n",
    "        for k in control.keys():\n",
    "            control_str += \"  %s=%g\\n\" % (k,control[k])\n",
    "        control_str = control_str[:-1]\n",
    "        axt = ax.text(0.05, 0.95, control_str, zorder=12,\n",
    "                horizontalalignment='left', verticalalignment='top', transform=ax.transAxes, fontsize=10)\n",
    "        axt.set_bbox(dict(facecolor='white', alpha=0.5, linewidth=0))\n",
    "\n",
    "    #    plot annotation\n",
    "    if len(annotate) > 0:\n",
    "        axt = ax.text(0.95, 0.95, annotate, zorder=12,\n",
    "                horizontalalignment='right', verticalalignment='top', transform=ax.transAxes, fontsize=10)\n",
    "        axt.set_bbox(dict(facecolor='white', alpha=0.5, linewidth=0))\n",
    "\n",
    "    #    colorbar\n",
    "    if show_cbar:\n",
    "        cax = make_axes_locatable(ax).append_axes('right', size='5%', pad=0.05)\n",
    "        cbar = fig.colorbar(mappable, cax=cax, orientation='vertical',  extend=extend)\n",
    "        cbar.set_label(z_lbl)\n",
    "        cbar.ax.yaxis.set_major_formatter(FormatStrFormatter(fmt_cbar))\n",
    "\n",
    "\n",
    "    #    finalise\n",
    "    ax.set_xlabel(x_lbl)\n",
    "    ax.set_ylabel(y_lbl)\n",
    "    if (title != None) and (len(title) > 0):\n",
    "        ax.set_title(title)\n",
    "\n",
    "    if xscale == \"symlog\":\n",
    "        ax.set_xscale(xscale, linthresh=np.amin(x_plt[x_plt>0]))\n",
    "    else:\n",
    "        ax.set_xscale(xscale)\n",
    "\n",
    "    if yscale == \"symlog\":\n",
    "        ax.set_yscale(yscale, linthresh=np.amin(y_plt[y_plt>0]))\n",
    "    else:\n",
    "        ax.set_yscale(yscale)\n",
    "\n",
    "    return fig,ax"
   ]
  },
  {
   "cell_type": "code",
   "execution_count": 40,
   "metadata": {},
   "outputs": [
    {
     "name": "stdout",
     "output_type": "stream",
     "text": [
      "Gather data\n",
      "shape x: (100,)\n",
      "shape y: (100,)\n",
      "shape z: (100,)\n",
      "Interpolate z\n",
      "Interpolate phi\n",
      "Plot\n"
     ]
    },
    {
     "data": {
      "image/png": "[encoded data removed]",
      "text/plain": [
       "<Figure size 550x220 with 2 Axes>"
      ]
     },
     "metadata": {
      "image/png": {
       "height": 246,
       "width": 565
      }
     },
     "output_type": "display_data"
    },
    {
     "name": "stdout",
     "output_type": "stream",
     "text": [
      "data/output/LOV_c/\n"
     ]
    }
   ],
   "source": [
    "# -----------\n",
    "# Reset\n",
    "plt.close(\"all\")\n",
    "minz, maxz = None, None\n",
    "xmult, ymult, zmult = 1.0, 1.0, 1.0\n",
    "extend = \"neither\"\n",
    "title = \"\"\n",
    "fmt_cbar = \"%g\"\n",
    "control = {}\n",
    "marker_s = 220\n",
    "annotate = \"\"\n",
    "outpath = \"output/s2d_recent.pdf\"\n",
    "\n",
    "# -----------\n",
    "# Variables\n",
    "\n",
    "x = \"outgas.fO2_shift_IW\";  x_lbl = \"log$_{10}$ (fO$_{2}$ / IW)\"; xscale=\"linear\"\n",
    "# x = \"delivery.elements.H_ppmw\";   x_lbl = \"Hydrogen [ppmw]\"; xscale=\"linear\"\n",
    "\n",
    "y = \"struct.corefrac\";   y_lbl = \"Core fraction [%]\"; yscale=\"linear\"; ymult=100\n",
    "# y = \"delivery.elements.H_ppmw\";   y_lbl = \"Total hydrogen [ppmw]\"; yscale=\"linear\"\n",
    "# y = \"orbit.dummy.H_tide\";   y_lbl = \"$H_{tide}$ [W kg$^{-1}$]\"; yscale=\"symlog\"\n",
    "\n",
    "# control[\"orbit.dummy.H_tide\"] = 1e-5\n",
    "# control[\"delivery.elements.H_ppmw\"] = 100.0\n",
    "# control[\"outgas.fO2_shift_IW\"] = 0\n",
    "\n",
    "\n",
    "# z = \"T_surf\"; z_lbl = \"Surface temperature [K]\"; zscale=\"linear\"; fmt_cbar = \"%d\"\n",
    "# z = \"Phi_global\"; z_lbl = \"Melt fraction [%]\"; zscale=\"linear\"; zmult=100; minz=0; maxz=100#; extend='min'\n",
    "# z = \"Time\"; z_lbl = \"Time [Myr]\"; zmult=1e-6; zscale=\"linear\"; fmt_cbar=\"%.0f\"; maxz=100; minz=0; extend='max'\n",
    "z = \"F_tidal\"; z_lbl = r\"Tidal heat flux [W m$^{-2}$]\"; zscale=\"linear\"; fmt_cbar=\"%.0f\"; minz=0\n",
    "# z = \"F_atm\"; z_lbl = r\"Net heat flux [W m$^{-2}$]\"; zscale=\"linear\"; fmt_cbar=\"%.0f\"; minz=0\n",
    "# z = \"transit_depth\"; z_lbl = r\"Transit depth [ppm]\"; zscale=\"linear\"; zmult=1e6; fmt_cbar=\"%d\"\n",
    "# z = \"contrast_ratio\"; z_lbl = r\"Contrast ratio [ppm]\"; zscale=\"linear\"; zmult=1e6; fmt_cbar=\"%.1f\"\n",
    "# z = \"bond_albedo\"; z_lbl = r\"Bond albedo [%]\"; zscale=\"linear\"; zmult=100; fmt_cbar=\"%.1f\"; minz=0; maxz=10\n",
    "\n",
    "# -----------\n",
    "# Make plot\n",
    "figsize       = (5,2)\n",
    "plot_controls = False\n",
    "plot_casenums = False\n",
    "plot_scatter  = False\n",
    "hatch_solid   = True\n",
    "figscale      = 1.1\n",
    "show_cbar     = True\n",
    "interp        = 'contour'\n",
    "\n",
    "# outpath       = \"output/%s-%s.pdf\"%(pgrid_dir.split(\"/\")[-2],z)\n",
    "# annotate      = \"Planet b\"\n",
    "\n",
    "fig,ax = make_s2d(x,x_lbl, y,y_lbl, z,z_lbl, control, title=title,\n",
    "         plot_scatter=plot_scatter,plot_casenums=plot_casenums, plot_controls=plot_controls,\n",
    "         xscale=xscale, xmult=xmult,\n",
    "         yscale=yscale, ymult=ymult,\n",
    "         zscale=zscale, zmult=zmult, minz=minz, maxz=maxz,\n",
    "         show_cbar=show_cbar, fmt_cbar=fmt_cbar, marker_s=marker_s, extend=extend,\n",
    "         interp=interp, hatch_solid=hatch_solid,\n",
    "         figscale=figscale, figsize=figsize, annotate=annotate\n",
    "         )\n",
    "\n",
    "fig.savefig(outpath, bbox_inches='tight')\n",
    "plt.show()\n",
    "\n",
    "print(pgrid_dir)"
   ]
  }
 ],
 "metadata": {
  "kernelspec": {
   "display_name": "py313",
   "language": "python",
   "name": "python3"
  },
  "language_info": {
   "codemirror_mode": {
    "name": "ipython",
    "version": 3
   },
   "file_extension": ".py",
   "mimetype": "text/x-python",
   "name": "python",
   "nbconvert_exporter": "python",
   "pygments_lexer": "ipython3",
   "version": "3.13.0"
  }
 },
 "nbformat": 4,
 "nbformat_minor": 2
}
