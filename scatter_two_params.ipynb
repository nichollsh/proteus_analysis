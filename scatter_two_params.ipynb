{
 "cells": [
  {
   "cell_type": "code",
   "execution_count": 1,
   "metadata": {},
   "outputs": [],
   "source": [
    "import matplotlib as mpl\n",
    "mpl.rcParams.update({'font.size': 12})\n",
    "mpl.rcParams['axes.formatter.useoffset'] = False\n",
    "\n",
    "import matplotlib.pyplot as plt\n",
    "from mpl_toolkits.axes_grid1 import make_axes_locatable\n",
    "import numpy as np\n",
    "from tqdm import tqdm\n",
    "\n",
    "#%config InlineBackend.figure_format='retina'"
   ]
  },
  {
   "cell_type": "code",
   "execution_count": 2,
   "metadata": {},
   "outputs": [],
   "source": [
    "import utils.load_grid as lg\n",
    "from utils.load_cmaps import *"
   ]
  },
  {
   "cell_type": "markdown",
   "metadata": {},
   "source": [
    "### Read data"
   ]
  },
  {
   "cell_type": "code",
   "execution_count": 3,
   "metadata": {},
   "outputs": [],
   "source": [
    "pgrid_dir = \"data/shared/pgrid_earth_gridtest_13\"\n",
    "cases = lg.get_cases(pgrid_dir)"
   ]
  },
  {
   "cell_type": "code",
   "execution_count": 4,
   "metadata": {},
   "outputs": [
    {
     "name": "stdout",
     "output_type": "stream",
     "text": [
      "Read netcdfs\n"
     ]
    },
    {
     "name": "stderr",
     "output_type": "stream",
     "text": [
      "NetCDFs: 100%|██████████| 80/80 [00:13<00:00,  5.93it/s]\n"
     ]
    },
    {
     "name": "stdout",
     "output_type": "stream",
     "text": [
      "Read configs\n"
     ]
    },
    {
     "name": "stderr",
     "output_type": "stream",
     "text": [
      "Configs: 100%|██████████| 80/80 [00:00<00:00, 458.02it/s]\n"
     ]
    },
    {
     "name": "stdout",
     "output_type": "stream",
     "text": [
      "Read helpfiles\n"
     ]
    },
    {
     "name": "stderr",
     "output_type": "stream",
     "text": [
      "Helpfiles: 100%|██████████| 80/80 [00:11<00:00,  7.21it/s]\n"
     ]
    }
   ],
   "source": [
    "# Collect netcdf files\n",
    "print(\"Read netcdfs\")\n",
    "ncases = len(cases)\n",
    "stts = lg.get_statuses(pgrid_dir)\n",
    "endt = []\n",
    "endn = []\n",
    "endp = []\n",
    "pbar = tqdm(total=ncases)\n",
    "for i in range(ncases):\n",
    "    t = lg.get_nc_years(cases[i])[-1]\n",
    "    n = lg.read_nc(cases[i]+\"/data/%d_atm.nc\" % t)\n",
    "    endt.append(t)\n",
    "    endn.append(n)\n",
    "    endp.append(n[\"psurf\"])\n",
    "    pbar.update(1)\n",
    "pbar.close()\n",
    "endt = np.array(endt)\n",
    "endp = np.array(endp)\n",
    "endn = np.array(endn)\n",
    "\n",
    "# Configuration variables\n",
    "print(\"Read configs\")\n",
    "pbar = tqdm(total=ncases)\n",
    "cfgs = []\n",
    "for i in range(ncases):\n",
    "    cfgs.append(lg.read_config(cases[i]))\n",
    "    pbar.update(1)\n",
    "pbar.close()\n",
    "keys = cfgs[0].keys()\n",
    "cvars = {}\n",
    "for k in keys:\n",
    "    values = []\n",
    "    for i in range(ncases):\n",
    "        v = cfgs[i][k]\n",
    "        if lg.is_float(v):\n",
    "            values.append(v)\n",
    "    if len(values) > 0:\n",
    "        cvars[k] = np.array(values)\n",
    "\n",
    "# Helpfiles\n",
    "print(\"Read helpfiles\")\n",
    "helps = []\n",
    "pbar = tqdm(total=ncases)\n",
    "for i in range(ncases):\n",
    "    helps.append(lg.read_helpfile(cases[i]))\n",
    "    pbar.update(1)\n",
    "pbar.close()\n",
    "for v in lg.volatile_species:\n",
    "    v_arr = []\n",
    "    for h in helps:\n",
    "        v_arr.append(h.iloc[-1][v+\"_mr\"])\n",
    "    cvars[v+\"_surf\"] = np.array(v_arr)\n",
    "\n",
    "print(\"Done\")"
   ]
  },
  {
   "cell_type": "markdown",
   "metadata": {},
   "source": [
    "### Function to plot z vs x,y scatter graphs"
   ]
  },
  {
   "cell_type": "code",
   "execution_count": 5,
   "metadata": {},
   "outputs": [],
   "source": [
    "def make_s2d(x,x_lbl, y,y_lbl, z,z_lbl, control, plot_casenums=False, plot_controls=False, logx=False,logy=False,logz=False):\n",
    "    # Make plot\n",
    "    x_plt = np.array([], dtype=float) # x variable\n",
    "    y_plt = np.array([], dtype=float) # y variable \n",
    "    z_plt = np.array([], dtype=float) # z variable\n",
    "    c_plt = np.array([], dtype=int)   # case number\n",
    "    g_plt = np.array([], dtype=bool)  # case finished with success? (good)\n",
    "    g_plt = np.array([], dtype=bool)  # case finished with failure? (bad)\n",
    "    for i in range(len(x)):\n",
    "        skip_this = False\n",
    "        for k in control.keys():\n",
    "            if k in cvars.keys():\n",
    "                if not np.isclose(cvars[k][i],control[k]):\n",
    "                    skip_this = True\n",
    "                    break\n",
    "        if skip_this:\n",
    "            continue \n",
    "        x_plt = np.append(x_plt, x[i])\n",
    "        y_plt = np.append(y_plt, y[i])\n",
    "        z_plt = np.append(z_plt, z[i])\n",
    "        c_plt = np.append(c_plt, i)\n",
    "        g_plt = np.append(g_plt, bool( 10 <= stts[i] <= 19))\n",
    "    if len(z_plt) == 0:\n",
    "        print(\"WARNING: No data left after applying control variables!\")\n",
    "        return\n",
    "\n",
    "    b_plt = np.invert(g_plt)\n",
    "        \n",
    "        \n",
    "    fig,ax = plt.subplots(1,1, figsize=(5,4))\n",
    "\n",
    "    if not logz:\n",
    "        norm = mpl.colors.Normalize(vmin=np.amin(z_plt), vmax=np.amax(z_plt))\n",
    "    else:\n",
    "        norm = mpl.colors.LogNorm(vmin=np.amin(z_plt), vmax=np.amax(z_plt))\n",
    "    cmap = sci_colormaps['batlow']\n",
    "    sm = plt.cm.ScalarMappable(cmap=cmap, norm=norm)\n",
    "    sm.set_array([])\n",
    "\n",
    "    ax.scatter(x_plt[g_plt], y_plt[g_plt], c=z_plt[g_plt], norm=norm, cmap=cmap, marker='s', s=240)\n",
    "    ax.scatter(x_plt[b_plt], y_plt[b_plt], c=z_plt[b_plt], norm=norm, cmap=cmap, marker='x', s=240)\n",
    "\n",
    "    if plot_casenums:\n",
    "        for i in range(len(x_plt)):\n",
    "            ax.text(x_plt[i],y_plt[i],c_plt[i],fontsize=7, color='magenta', horizontalalignment='center', verticalalignment='center')\n",
    "\n",
    "    if plot_controls:\n",
    "        control_str = \"Control variables:\\n\"\n",
    "        for k in control.keys():\n",
    "            control_str += \"  %s=%g\\n\" % (k,control[k])\n",
    "        control_str = control_str[:-1]\n",
    "        axt = ax.text(0.05, 0.95, control_str, \n",
    "                horizontalalignment='left', verticalalignment='top', transform=ax.transAxes, fontsize=10)\n",
    "        axt.set_bbox(dict(facecolor='white', alpha=0.5, linewidth=0))\n",
    "\n",
    "    ax.set_xlabel(x_lbl)\n",
    "    ax.set_ylabel(y_lbl)\n",
    "    if logx:\n",
    "        ax.set_xscale(\"log\")\n",
    "    if logy:\n",
    "        ax.set_yscale(\"log\")\n",
    "\n",
    "    cax = make_axes_locatable(ax).append_axes('right', size='5%', pad=0.05)\n",
    "    fig.colorbar(sm, cax=cax, orientation='vertical').set_label(z_lbl) \n",
    "\n",
    "    return fig,ax"
   ]
  },
  {
   "cell_type": "markdown",
   "metadata": {},
   "source": [
    "### Function to plot z vs x using line graphs"
   ]
  },
  {
   "cell_type": "code",
   "execution_count": 6,
   "metadata": {},
   "outputs": [],
   "source": [
    "def make_p1d(x,x_lbl, z,z_lbl, control, plot_controls=False, logx=False, logz=False):\n",
    "    # Make plot\n",
    "    x_plt = np.array([], dtype=float) # x variable\n",
    "    z_plt = np.array([], dtype=float) # z variable\n",
    "    c_plt = np.array([], dtype=int)   # case number\n",
    "    g_plt = np.array([], dtype=bool)  # case finished with success? (good)\n",
    "    g_plt = np.array([], dtype=bool)  # case finished with failure? (bad)\n",
    "    for i in range(len(x)):\n",
    "        skip_this = False\n",
    "        for k in control.keys():\n",
    "            if k in cvars.keys():\n",
    "                if not np.isclose(cvars[k][i],control[k]):\n",
    "                    skip_this = True\n",
    "                    break\n",
    "        if skip_this:\n",
    "            continue \n",
    "        x_plt = np.append(x_plt, x[i])\n",
    "        z_plt = np.append(z_plt, z[i])\n",
    "        c_plt = np.append(c_plt, i)\n",
    "        g_plt = np.append(g_plt, bool( 10 <= stts[i] <= 19))\n",
    "    if len(z_plt) == 0:\n",
    "        print(\"WARNING: No data left after applying control variables!\")\n",
    "        return\n",
    "\n",
    "    b_plt = np.invert(g_plt)\n",
    "        \n",
    "    fig,ax = plt.subplots(1,1, figsize=(5,4))\n",
    "\n",
    "    x_mask = np.argsort(x_plt)\n",
    "    x_srt = x_plt[x_mask]\n",
    "    z_srt = z_plt[x_mask]\n",
    "\n",
    "    ax.plot(x_srt, z_srt, color='k', lw=3, zorder=3)\n",
    "    ax.scatter(x_srt, z_srt, marker='s', s=30, zorder=4)\n",
    "    ax.scatter(x_plt[b_plt], z_plt[b_plt], marker='x', s=30, zorder=4)\n",
    "\n",
    "    if plot_controls:\n",
    "        control_str = \"Control variables:\\n\"\n",
    "        for k in control.keys():\n",
    "            control_str += \"  %s=%g\\n\" % (k,control[k])\n",
    "        control_str = control_str[:-1]\n",
    "        axt = ax.text(0.05, 0.95, control_str, \n",
    "                horizontalalignment='left', verticalalignment='top', transform=ax.transAxes, fontsize=10)\n",
    "        axt.set_bbox(dict(facecolor='white', alpha=0.5, linewidth=0))\n",
    "\n",
    "    ax.set_xlabel(x_lbl)\n",
    "    ax.set_ylabel(z_lbl)\n",
    "    if logz:\n",
    "        ax.set_yscale(\"log\")\n",
    "    if logx:\n",
    "        ax.set_xscale(\"log\")\n",
    "\n",
    "    return fig,ax\n",
    "\n"
   ]
  },
  {
   "cell_type": "markdown",
   "metadata": {},
   "source": [
    "### Make the plots"
   ]
  },
  {
   "cell_type": "code",
   "execution_count": 22,
   "metadata": {},
   "outputs": [
    {
     "data": {
      "image/png": "[encoded data removed]",
      "text/plain": [
       "<Figure size 500x400 with 2 Axes>"
      ]
     },
     "metadata": {},
     "output_type": "display_data"
    }
   ],
   "source": [
    "x = cvars[\"fO2_shift_IW\"];  x_lbl = \"fO2_shift_IW\"; logx = False \n",
    "y = cvars[\"CH_ratio\"];      y_lbl = \"C/H ratio\";    logy = True\n",
    "\n",
    "# z = endp * 1.0e-5; z_lbl = \"Surface pressure [bar]\"\n",
    "# z = endt * 1.0e-6;  z_lbl = \"Termination [Myr]\"\n",
    "z = cvars[\"H2O_surf\"] * 100; z_lbl = \"H2O VMR [%]\"\n",
    "control = {\"mean_distance\":1.0}\n",
    "\n",
    "plot_controls = True\n",
    "plot_casenums = True\n",
    "logz = False\n",
    "\n",
    "make_s2d(x,x_lbl, y,y_lbl, z,z_lbl, control, plot_casenums=plot_casenums, plot_controls=plot_controls, logx=logx, logy=logy, logz=logz)\n",
    "plt.show()\n"
   ]
  },
  {
   "cell_type": "code",
   "execution_count": null,
   "metadata": {},
   "outputs": [],
   "source": []
  },
  {
   "cell_type": "code",
   "execution_count": 21,
   "metadata": {},
   "outputs": [
    {
     "data": {
      "image/png": "[encoded data removed]",
      "text/plain": [
       "<Figure size 500x400 with 1 Axes>"
      ]
     },
     "metadata": {},
     "output_type": "display_data"
    }
   ],
   "source": [
    "x = cvars[\"mean_distance\"];  x_lbl = \"Orbital separation [AU]\"; logx = False\n",
    "z = np.array([ endn[i][\"fl_U_LW\"][0] for i in range(ncases) ]); z_lbl = \"OLR [W m-2]\"\n",
    "# z = endt * 1.0e-3; z_lbl = \"Termination time [yr]\"\n",
    "control = {\"fO2_shift_IW\":0, \"CH_ratio\":0.1}\n",
    "\n",
    "plot_controls = True\n",
    "logz = True\n",
    "\n",
    "fig,ax = make_p1d(x,x_lbl, z,z_lbl, control, plot_controls=plot_controls, logx=logx, logz=logz)\n",
    "ax.axhline(y=280, linestyle='dashed',zorder=2, label=\"SN Limit\", color='tab:red')\n",
    "plt.show()\n",
    "\n"
   ]
  },
  {
   "cell_type": "code",
   "execution_count": null,
   "metadata": {},
   "outputs": [],
   "source": []
  },
  {
   "cell_type": "code",
   "execution_count": null,
   "metadata": {},
   "outputs": [],
   "source": []
  },
  {
   "cell_type": "code",
   "execution_count": null,
   "metadata": {},
   "outputs": [],
   "source": []
  },
  {
   "cell_type": "code",
   "execution_count": null,
   "metadata": {},
   "outputs": [],
   "source": []
  }
 ],
 "metadata": {
  "kernelspec": {
   "display_name": "proteus",
   "language": "python",
   "name": "python3"
  },
  "language_info": {
   "codemirror_mode": {
    "name": "ipython",
    "version": 3
   },
   "file_extension": ".py",
   "mimetype": "text/x-python",
   "name": "python",
   "nbconvert_exporter": "python",
   "pygments_lexer": "ipython3",
   "version": "3.10.9"
  }
 },
 "nbformat": 4,
 "nbformat_minor": 2
}
