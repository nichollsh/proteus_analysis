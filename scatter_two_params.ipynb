{
 "cells": [
  {
   "cell_type": "code",
   "execution_count": 1,
   "metadata": {},
   "outputs": [],
   "source": [
    "import matplotlib as mpl\n",
    "mpl.rcParams.update({'font.size': 12})\n",
    "mpl.rcParams['axes.formatter.useoffset'] = False\n",
    "\n",
    "import matplotlib.pyplot as plt\n",
    "from mpl_toolkits.axes_grid1 import make_axes_locatable\n",
    "import numpy as np\n"
   ]
  },
  {
   "cell_type": "code",
   "execution_count": 2,
   "metadata": {},
   "outputs": [],
   "source": [
    "import utils.load_grid as lg\n",
    "from utils.load_cmaps import *"
   ]
  },
  {
   "cell_type": "markdown",
   "metadata": {},
   "source": [
    "### Read data"
   ]
  },
  {
   "cell_type": "code",
   "execution_count": 3,
   "metadata": {},
   "outputs": [],
   "source": [
    "pgrid_dir = \"data/article_data/jgr_grid_final\"\n",
    "cases = lg.get_cases(pgrid_dir)\n",
    "ncases = len(cases)"
   ]
  },
  {
   "cell_type": "code",
   "execution_count": 4,
   "metadata": {},
   "outputs": [
    {
     "name": "stderr",
     "output_type": "stream",
     "text": [
      "Helpfiles: 100%|██████████| 1029/1029 [00:15<00:00, 65.25it/s]\n",
      "Configs: 100%|██████████| 1029/1029 [00:03<00:00, 286.81it/s]\n"
     ]
    },
    {
     "name": "stdout",
     "output_type": "stream",
     "text": [
      "Done\n"
     ]
    }
   ],
   "source": [
    "stts = lg.get_statuses(pgrid_dir)\n",
    "\n",
    "# Helpfiles\n",
    "helps, hvars = lg.load_helpfiles(cases)\n",
    "\n",
    "# Collect netcdf files\n",
    "# endn = lg.load_netcdfs_end(cases)\n",
    "\n",
    "# Configuration variables\n",
    "cvars = lg.load_cvars(cases)\n",
    "\n",
    "print(\"Done\")"
   ]
  },
  {
   "cell_type": "code",
   "execution_count": 5,
   "metadata": {},
   "outputs": [],
   "source": [
    "# %matplotlib widget\n",
    "\n",
    "%matplotlib inline\n",
    "# %config InlineBackend.figure_format='retina'"
   ]
  },
  {
   "cell_type": "markdown",
   "metadata": {},
   "source": [
    "### Function to plot z vs x,y scatter graphs"
   ]
  },
  {
   "cell_type": "code",
   "execution_count": 91,
   "metadata": {},
   "outputs": [],
   "source": [
    "def make_s2d(x,x_lbl, y,y_lbl, z,z_lbl, control, \n",
    "             title=\"\",\n",
    "             plot_scatter=True, plot_casenums=False, plot_controls=False,  \n",
    "             logx=False,logy=False,logz=False, minz=None, maxz=None,\n",
    "             interp='none', hatch_solid=False, symmetric=False):\n",
    "    \n",
    "    # Plotting parameters\n",
    "    cm_key   = 'batlow' # color map name\n",
    "    norm_lev = 11       # contour levels\n",
    "    marker_e = 'none'   # scatter edge color\n",
    "    marker_s = 100      # scatter size\n",
    "    hatch_c  = 'white'  # hatch color\n",
    "    hatch_t  = '//'      # hatch type\n",
    "    hatch_w  = 1.0      # hatch line width\n",
    "    h_thresh = 0.006    # hatch threshold for phi_global\n",
    "\n",
    "    # Check params\n",
    "    if symmetric and logz:\n",
    "        print(\"WARNING: Cannot do symmetric colour-mapping with log-norm\")\n",
    "        return\n",
    "    \n",
    "    # Gather the data\n",
    "    print(\"Gather data\")\n",
    "    x_plt = np.array([], dtype=float) # x variable\n",
    "    y_plt = np.array([], dtype=float) # y variable \n",
    "    z_plt = np.array([], dtype=float) # z variable\n",
    "    h_plt = np.array([], dtype=float) # hatch variable (i.e. melt fraction)\n",
    "    c_plt = np.array([], dtype=int)   # case number\n",
    "    g_plt = np.array([], dtype=bool)  # case finished with success? (good)\n",
    "    for i in range(len(x)):\n",
    "        keep_this = True\n",
    "        for k in control.keys():\n",
    "            if k in cvars.keys():\n",
    "                if not ( abs(cvars[k][i] - control[k]) < 1.0e-20):\n",
    "                    keep_this = False\n",
    "                    break\n",
    "        if not keep_this:\n",
    "            continue \n",
    "\n",
    "        # duplicates?\n",
    "        for j in range(len(x_plt)):\n",
    "            if np.isclose(x[i], x_plt[j]) and np.isclose(y[i], y_plt[j]):\n",
    "                print(\"WARNING: Duplicate value added to array (i=%d, x=%f, y=%f)\"%(i, x[i], y[i]))\n",
    "\n",
    "        # add point\n",
    "        x_plt = np.append(x_plt, x[i])\n",
    "        y_plt = np.append(y_plt, y[i])\n",
    "        z_plt = np.append(z_plt, z[i])\n",
    "        h_plt = np.append(h_plt, lg.access_hvars(hvars, \"Phi_global\", -1)[i])\n",
    "        c_plt = np.append(c_plt, i)\n",
    "        g_plt = np.append(g_plt, bool( 10 <= stts[i] <= 19))\n",
    "    if len(z_plt) == 0:\n",
    "        print(\"WARNING: No data left after applying control variables!\")\n",
    "        return\n",
    "    b_plt = np.invert(g_plt)\n",
    "\n",
    "    print(\"shape x:\",np.shape(x_plt))\n",
    "    print(\"shape y:\",np.shape(y_plt))\n",
    "    print(\"shape z:\",np.shape(z_plt))\n",
    "\n",
    "    # Do interpolation on z-variable\n",
    "    interp_npts = 300\n",
    "    interp = interp.lower().strip()\n",
    "    do_interp = interp in ['contour', 'mesh']\n",
    "    if do_interp:\n",
    "        print(\"Interpolate z\")\n",
    "        marker_e='white'\n",
    "\n",
    "        _,_,xxi,yyi,zzi = lg.interp_2d(x_plt,y_plt,z_plt, interp_npts, method='linear')\n",
    "\n",
    "    # Hatch solid cases (if allowing interpolation)\n",
    "    hatch_solid = hatch_solid and do_interp\n",
    "    if hatch_solid:\n",
    "        print(\"Interpolate phi\")\n",
    "        _,_,_,_,hhi = lg.interp_2d(x_plt, y_plt,h_plt, interp_npts, method='linear')\n",
    "    \n",
    "    # Colour mapping\n",
    "    if minz == None:\n",
    "        minz = np.amin(z_plt)\n",
    "    if maxz == None:\n",
    "        maxz = np.amax(z_plt)\n",
    "    if minz > maxz:\n",
    "        minz, maxz = maxz, minz\n",
    "    if not logz:\n",
    "        if symmetric:\n",
    "            maxz = max(maxz, abs(minz))\n",
    "            minz = -1.0 * maxz\n",
    "            cm_key = 'vanimo'\n",
    "        norm = mpl.colors.Normalize(vmin=minz, vmax=maxz, clip=True)\n",
    "        levels = np.linspace(minz, maxz, norm_lev)\n",
    "    else:\n",
    "        norm = mpl.colors.LogNorm(vmin=minz, vmax=maxz, clip=True)\n",
    "        levels = norm_lev\n",
    "        # levels = np.logspace(np.log10(minz), np.log10(maxz), norm_lev)\n",
    "    cmap = sci_colormaps[cm_key]\n",
    "    sm = plt.cm.ScalarMappable(cmap=cmap, norm=norm)\n",
    "    sm.set_array([])\n",
    "    cm = sm # mappable for colorbar\n",
    "\n",
    "    # Make the plot\n",
    "    print(\"Plot\")\n",
    "    fig,ax = plt.subplots(1,1, figsize=(5,4))\n",
    "\n",
    "    #    plot interpolation\n",
    "    if do_interp:\n",
    "        zzi = np.clip(zzi, minz*(1+1.0e-10), maxz*(1-1.0e-10))  # avoid numerical artifacts from interpolation + cmapping\n",
    "        match interp:\n",
    "            case 'scatter':\n",
    "                ax.scatter(xxi, yyi, c=zzi,  cmap=cmap, norm=norm,)\n",
    "            case 'contour':\n",
    "                cm = ax.contourf(xxi,yyi,zzi, cmap=cmap, norm=norm, levels=levels)\n",
    "            case 'mesh':\n",
    "                ax.pcolormesh(xxi,yyi,zzi, cmap=cmap, norm=norm)\n",
    "\n",
    "    #    plot hatches\n",
    "    if hatch_solid:\n",
    "        mpl.rcParams['hatch.linewidth'] = hatch_w\n",
    "        mpl.rcParams['hatch.color'] = hatch_c\n",
    "        if np.any(hhi <= h_thresh):\n",
    "            # contour hatches\n",
    "            ax.contourf(xxi,yyi,hhi, alpha=0.0, levels=[-1,h_thresh,1],hatches=[hatch_t,''], zorder=3, extend='upper')\n",
    "            # contour boundary\n",
    "            ax.contour( xxi,yyi,hhi, alpha=1.0, levels=[-1,h_thresh,1],colors=[hatch_c]*3, zorder=3, extend='upper',linewidths=[hatch_w]*3)\n",
    "    \n",
    "    #    plot the raw values\n",
    "    if plot_scatter:\n",
    "        ax.scatter(x_plt[g_plt], y_plt[g_plt], c=z_plt[g_plt], norm=norm, cmap=cmap, marker='s', s=marker_s, edgecolors=marker_e, zorder=4)\n",
    "        ax.scatter(x_plt[b_plt], y_plt[b_plt], c=z_plt[b_plt], norm=norm, cmap=cmap, marker='o', s=marker_s, edgecolors=marker_e, zorder=4)\n",
    "\n",
    "    #    plot case numbers (debugging)\n",
    "    if plot_casenums:\n",
    "        for i in range(len(x_plt)):\n",
    "            ax.text(x_plt[i],y_plt[i],c_plt[i],fontsize=7, color='magenta', horizontalalignment='center', verticalalignment='center', zorder=10)\n",
    "\n",
    "    #    plot control variable text box (debugging)\n",
    "    if plot_controls:\n",
    "        control_str = \"Control variables:\\n\"\n",
    "        for k in control.keys():\n",
    "            control_str += \"  %s=%g\\n\" % (k,control[k])\n",
    "        control_str = control_str[:-1]\n",
    "        axt = ax.text(0.05, 0.95, control_str, zorder=12,\n",
    "                horizontalalignment='left', verticalalignment='top', transform=ax.transAxes, fontsize=10)\n",
    "        axt.set_bbox(dict(facecolor='white', alpha=0.5, linewidth=0))\n",
    "\n",
    "    #    finalise\n",
    "    ax.set_xlabel(x_lbl)\n",
    "    ax.set_ylabel(y_lbl)\n",
    "    if (title != None) and (len(title) > 0):\n",
    "        ax.set_title(title)\n",
    "    if logx:\n",
    "        ax.set_xscale(\"log\")\n",
    "    if logy:\n",
    "        ax.set_yscale(\"log\")\n",
    "    cax = make_axes_locatable(ax).append_axes('right', size='5%', pad=0.05)\n",
    "    fig.colorbar(cm, cax=cax, orientation='vertical').set_label(z_lbl) \n",
    "\n",
    "    return fig,ax"
   ]
  },
  {
   "cell_type": "code",
   "execution_count": 114,
   "metadata": {},
   "outputs": [
    {
     "name": "stdout",
     "output_type": "stream",
     "text": [
      "Gather data\n",
      "shape x: (49,)\n",
      "shape y: (49,)\n",
      "shape z: (49,)\n",
      "Interpolate z\n",
      "Interpolate phi\n",
      "Plot\n"
     ]
    },
    {
     "data": {
      "image/png": "[encoded data removed]",
      "text/plain": [
       "<Figure size 500x400 with 2 Axes>"
      ]
     },
     "metadata": {},
     "output_type": "display_data"
    }
   ],
   "source": [
    "plt.close(\"all\")\n",
    "\n",
    "x = cvars[\"CH_ratio\"];      x_lbl = \"C/H ratio\";    logx = True\n",
    "# x = cvars[\"mean_distance\"];   x_lbl = \"Separation [AU]\"; logx= True\n",
    "\n",
    "\n",
    "y = cvars[\"fO2_shift_IW\"];  y_lbl = \"log$_{10}$ (fO$_{2}$ / IW)\"; logy = False \n",
    "# y = lg.access_hvars(hvars,\"H2_mr\",-1) * 100; y_lbl = \"H$_2$ VMR [%]\"; logy=False\n",
    "\n",
    "\n",
    "# z = lg.access_hvars(hvars,\"P_surf\",-1); z_lbl = \"Surface pressure [bar]\"; logz=False\n",
    "# z = lg.access_hvars(hvars,\"Phi_global\",-1) * 100.0; z_lbl = \"Melt fraction [%]\"; logz=False\n",
    "# z = lg.access_hvars(hvars,\"Time\",-1);  z_lbl = \"Termination [Myr]\"; logz=True\n",
    "# z = lg.access_hvars(hvars,\"H2O_mr\",-1) * 100; z_lbl = \"H$_2$O VMR [%]\"; logz=False\n",
    "z = lg.access_hvars(hvars,\"H2_mr\",-1) * 100; z_lbl = \"H$_2$ VMR [%]\"; logz=False\n",
    "# z = lg.access_hvars(hvars,\"CO2_mr\",-1) * 100; z_lbl = \"CO$_2$ VMR [%]\"; logz=False\n",
    "# z = lg.access_hvars(hvars,\"F_olr\",-1); z_lbl = \"OLR [W m-2]\"; logz=False\n",
    "# z = np.array([ abs(endn[i][\"fl_N\"][0]-endn[i][\"fl_N\"][-1]) for i in range(ncases) ]); z_lbl = \"Loss [W m-2]\"; logz=False\n",
    "\n",
    "\n",
    "control = {\"mean_distance\":1.0, \"hydrogen_earth_oceans\":5.0}\n",
    "# control = {\"CH_ratio\":2.0, \"hydrogen_earth_oceans\":5.0}\n",
    "\n",
    "# title = \"$[H] = %d$ oceans , $a$ = %.1f AU\"%(control[\"hydrogen_earth_oceans\"], control[\"mean_distance\"])\n",
    "title = z_lbl\n",
    "z_lbl = \"\"\n",
    "\n",
    "plot_controls = False\n",
    "plot_casenums = False\n",
    "plot_scatter  = False\n",
    "hatch_solid   = True\n",
    "interp        = 'contour'\n",
    "\n",
    "fig,ax = make_s2d(x,x_lbl, y,y_lbl, z,z_lbl, control, title=title,\n",
    "         plot_scatter=plot_scatter,plot_casenums=plot_casenums, plot_controls=plot_controls, \n",
    "         logx=logx, logy=logy, logz=logz, minz=0, maxz=100,\n",
    "         interp=interp, hatch_solid=hatch_solid, \n",
    "         )\n",
    "\n",
    "fig.savefig(\"output/recent_s2d.pdf\", bbox_inches='tight')\n",
    "plt.show()\n"
   ]
  },
  {
   "cell_type": "markdown",
   "metadata": {},
   "source": [
    "### Function to plot z vs x using line graphs"
   ]
  },
  {
   "cell_type": "code",
   "execution_count": 138,
   "metadata": {},
   "outputs": [],
   "source": [
    "def make_p1d(x,x_lbl, z,z_lbl, control, plot_controls=False, logx=False, logz=False, fig=None, ax=None, label=\"\"):\n",
    "    # Make plot\n",
    "    x_plt = np.array([], dtype=float) # x variable\n",
    "    z_plt = np.array([], dtype=float) # z variable\n",
    "    c_plt = np.array([], dtype=int)   # case number\n",
    "    g_plt = np.array([], dtype=bool)  # case finished with success? (good)\n",
    "    for i in range(len(x)):\n",
    "        skip_this = False\n",
    "        for k in control.keys():\n",
    "            if k in cvars.keys():\n",
    "                if not np.isclose(cvars[k][i],control[k]):\n",
    "                    skip_this = True\n",
    "                    break\n",
    "        if skip_this:\n",
    "            continue \n",
    "        x_plt = np.append(x_plt, x[i])\n",
    "        z_plt = np.append(z_plt, z[i])\n",
    "        c_plt = np.append(c_plt, i)\n",
    "        g_plt = np.append(g_plt, bool( 10 <= stts[i] <= 19))\n",
    "    if len(z_plt) == 0:\n",
    "        print(\"WARNING: No data left after applying control variables!\")\n",
    "        return\n",
    "\n",
    "    b_plt = np.invert(g_plt)\n",
    "    \n",
    "    if fig == None:\n",
    "        fig,ax = plt.subplots(1,1, figsize=(4,4))\n",
    "\n",
    "    x_mask = np.argsort(x_plt)\n",
    "    x_srt = x_plt[x_mask]\n",
    "    z_srt = z_plt[x_mask]\n",
    "\n",
    "    p = ax.plot(x_srt, z_srt, lw=3, zorder=3, label=label)\n",
    "    c = p[0].get_color()\n",
    "    ax.scatter(x_srt, z_srt, marker='s', s=30, zorder=4, color=c)\n",
    "    ax.scatter(x_plt[b_plt], z_plt[b_plt], marker='x', s=30, zorder=4, color=c)\n",
    "\n",
    "    if plot_controls:\n",
    "        control_str = \"Control variables:\\n\"\n",
    "        for k in control.keys():\n",
    "            control_str += \"  %s=%g\\n\" % (k,control[k])\n",
    "        control_str = control_str[:-1]\n",
    "        axt = ax.text(0.05, 0.95, control_str, \n",
    "                horizontalalignment='left', verticalalignment='top', transform=ax.transAxes, fontsize=10)\n",
    "        axt.set_bbox(dict(facecolor='white', alpha=0.5, linewidth=0))\n",
    "\n",
    "    ax.set_xlabel(x_lbl)\n",
    "    ax.set_ylabel(z_lbl)\n",
    "    if logz:\n",
    "        ax.set_yscale(\"log\")\n",
    "    if logx:\n",
    "        ax.set_xscale(\"log\")\n",
    "\n",
    "    return fig,ax\n",
    "\n"
   ]
  },
  {
   "cell_type": "code",
   "execution_count": 141,
   "metadata": {},
   "outputs": [
    {
     "data": {
      "image/png": "[encoded data removed]",
      "text/plain": [
       "<Figure size 400x400 with 1 Axes>"
      ]
     },
     "metadata": {},
     "output_type": "display_data"
    }
   ],
   "source": [
    "control = {\"fO2_shift_IW\":-5, \"CH_ratio\":2.0}\n",
    "plot_controls = False\n",
    "logz = True\n",
    "\n",
    "x = cvars[\"mean_distance\"];  x_lbl = \"Orbital separation [AU]\"; logx = False\n",
    "z = lg.access_hvars(hvars,\"F_olr\",-1); z_lbl = \"OLR [W m-2]\"\n",
    "\n",
    "for i,h_eeo in enumerate([1.0, 5.0, 10.0]):\n",
    "    control[\"hydrogen_earth_oceans\"] = h_eeo\n",
    "    p_ctrls = False\n",
    "    if i == 0:\n",
    "        fig = None\n",
    "        ax = None \n",
    "        p_ctrls = plot_controls\n",
    "    fig,ax = make_p1d(x,x_lbl, z,z_lbl, control, label=\"%d\"%h_eeo,\n",
    "                        plot_controls=p_ctrls, logx=logx, logz=logz, fig=fig, ax=ax)\n",
    "\n",
    "ax.text(2, 320, \"S-N Limit\")\n",
    "ax.axhline(y=280, linestyle='dashed',zorder=2, color='black')\n",
    "ax.legend(title=\"H inventory\")\n",
    "ax.xaxis.set_minor_locator(mpl.ticker.MultipleLocator(0.2))\n",
    "\n",
    "fig.savefig(\"output/recent_p1d.pdf\", bbox_inches='tight')\n",
    "plt.show()\n"
   ]
  },
  {
   "cell_type": "code",
   "execution_count": null,
   "metadata": {},
   "outputs": [],
   "source": []
  },
  {
   "cell_type": "code",
   "execution_count": null,
   "metadata": {},
   "outputs": [],
   "source": []
  },
  {
   "cell_type": "code",
   "execution_count": null,
   "metadata": {},
   "outputs": [],
   "source": []
  },
  {
   "cell_type": "code",
   "execution_count": null,
   "metadata": {},
   "outputs": [],
   "source": []
  },
  {
   "cell_type": "code",
   "execution_count": null,
   "metadata": {},
   "outputs": [],
   "source": []
  },
  {
   "cell_type": "code",
   "execution_count": null,
   "metadata": {},
   "outputs": [],
   "source": []
  },
  {
   "cell_type": "code",
   "execution_count": null,
   "metadata": {},
   "outputs": [],
   "source": []
  },
  {
   "cell_type": "code",
   "execution_count": null,
   "metadata": {},
   "outputs": [],
   "source": []
  },
  {
   "cell_type": "code",
   "execution_count": null,
   "metadata": {},
   "outputs": [],
   "source": []
  },
  {
   "cell_type": "code",
   "execution_count": null,
   "metadata": {},
   "outputs": [],
   "source": []
  },
  {
   "cell_type": "code",
   "execution_count": null,
   "metadata": {},
   "outputs": [],
   "source": []
  },
  {
   "cell_type": "code",
   "execution_count": null,
   "metadata": {},
   "outputs": [],
   "source": []
  },
  {
   "cell_type": "code",
   "execution_count": null,
   "metadata": {},
   "outputs": [],
   "source": []
  },
  {
   "cell_type": "code",
   "execution_count": null,
   "metadata": {},
   "outputs": [],
   "source": []
  },
  {
   "cell_type": "code",
   "execution_count": null,
   "metadata": {},
   "outputs": [],
   "source": []
  },
  {
   "cell_type": "code",
   "execution_count": null,
   "metadata": {},
   "outputs": [],
   "source": []
  },
  {
   "cell_type": "code",
   "execution_count": null,
   "metadata": {},
   "outputs": [],
   "source": []
  },
  {
   "cell_type": "code",
   "execution_count": null,
   "metadata": {},
   "outputs": [],
   "source": []
  },
  {
   "cell_type": "code",
   "execution_count": null,
   "metadata": {},
   "outputs": [],
   "source": []
  },
  {
   "cell_type": "code",
   "execution_count": null,
   "metadata": {},
   "outputs": [],
   "source": []
  },
  {
   "cell_type": "code",
   "execution_count": null,
   "metadata": {},
   "outputs": [],
   "source": []
  },
  {
   "cell_type": "code",
   "execution_count": null,
   "metadata": {},
   "outputs": [],
   "source": []
  },
  {
   "cell_type": "code",
   "execution_count": null,
   "metadata": {},
   "outputs": [],
   "source": []
  },
  {
   "cell_type": "code",
   "execution_count": null,
   "metadata": {},
   "outputs": [],
   "source": []
  },
  {
   "cell_type": "code",
   "execution_count": null,
   "metadata": {},
   "outputs": [],
   "source": []
  }
 ],
 "metadata": {
  "kernelspec": {
   "display_name": "proteus",
   "language": "python",
   "name": "python3"
  },
  "language_info": {
   "codemirror_mode": {
    "name": "ipython",
    "version": 3
   },
   "file_extension": ".py",
   "mimetype": "text/x-python",
   "name": "python",
   "nbconvert_exporter": "python",
   "pygments_lexer": "ipython3",
   "version": "3.12.2"
  }
 },
 "nbformat": 4,
 "nbformat_minor": 2
}
