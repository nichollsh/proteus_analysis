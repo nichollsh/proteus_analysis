{
 "cells": [
  {
   "cell_type": "code",
   "execution_count": 1,
   "id": "0836324a",
   "metadata": {},
   "outputs": [],
   "source": [
    "import shutil, os\n",
    "import pandas as pd\n",
    "import subprocess as sp\n",
    "import numpy as np\n",
    "from IPython.display import HTML"
   ]
  },
  {
   "cell_type": "code",
   "execution_count": 2,
   "id": "efc21259",
   "metadata": {},
   "outputs": [],
   "source": [
    "ffmpeg = \"/cvmfs/hpc.rug.nl/versions/2023.01/rocky8/x86_64/amd/zen3/software/FFmpeg/6.0-GCCcore-12.3.0/bin/ffmpeg\""
   ]
  },
  {
   "cell_type": "code",
   "execution_count": 3,
   "id": "89ffc7bb",
   "metadata": {},
   "outputs": [],
   "source": [
    "from proteus.plot.cpl_visual import plot_visual\n",
    "from proteus.utils.helper import find_nearest"
   ]
  },
  {
   "cell_type": "code",
   "execution_count": 31,
   "id": "be6d1547",
   "metadata": {},
   "outputs": [],
   "source": [
    "outdir   = \"data/shared/l98d_habrok3/case_00000/\"\n",
    "frames   = 100\n",
    "duration = 9"
   ]
  },
  {
   "cell_type": "code",
   "execution_count": 32,
   "id": "bbac35c9",
   "metadata": {},
   "outputs": [
    {
     "name": "stdout",
     "output_type": "stream",
     "text": [
      "368\n"
     ]
    }
   ],
   "source": [
    "hf_all = pd.read_csv(os.path.join(outdir,\"runtime_helpfile.csv\"), sep=r\"\\s+\")\n",
    "leng = len(hf_all)\n",
    "print(leng)"
   ]
  },
  {
   "cell_type": "code",
   "execution_count": 33,
   "id": "dcae2f01",
   "metadata": {},
   "outputs": [],
   "source": [
    "# max_time = np.amax(hf_all[\"Time\"])\n",
    "max_time = 1e99"
   ]
  },
  {
   "cell_type": "code",
   "execution_count": 34,
   "id": "7207e747",
   "metadata": {},
   "outputs": [
    {
     "name": "stdout",
     "output_type": "stream",
     "text": [
      "Creating frame   1/100 for step   4, t=0.00 Myr\n",
      "Creating frame   2/100 for step  48, t=11.74 Myr\n",
      "Creating frame   3/100 for step  67, t=23.47 Myr\n",
      "Creating frame   4/100 for step  78, t=35.21 Myr\n",
      "Creating frame   5/100 for step  85, t=46.95 Myr\n",
      "Creating frame   6/100 for step  91, t=58.69 Myr\n",
      "Creating frame   7/100 for step  95, t=70.42 Myr\n",
      "Creating frame   8/100 for step  98, t=82.16 Myr\n",
      "Creating frame   9/100 for step 102, t=93.90 Myr\n",
      "Creating frame  10/100 for step 104, t=105.64 Myr\n",
      "Creating frame  11/100 for step 106, t=117.37 Myr\n",
      "Creating frame  12/100 for step 106, t=129.11 Myr\n",
      "Creating frame  13/100 for step 107, t=140.85 Myr\n",
      "Creating frame  14/100 for step 108, t=152.59 Myr\n",
      "Creating frame  15/100 for step 109, t=164.32 Myr\n",
      "Creating frame  16/100 for step 110, t=176.06 Myr\n",
      "Creating frame  17/100 for step 111, t=187.80 Myr\n",
      "Creating frame  18/100 for step 112, t=199.54 Myr\n",
      "Creating frame  19/100 for step 112, t=211.27 Myr\n",
      "Creating frame  20/100 for step 113, t=223.01 Myr\n",
      "Creating frame  21/100 for step 113, t=234.75 Myr\n",
      "Creating frame  22/100 for step 113, t=246.49 Myr\n",
      "Creating frame  23/100 for step 114, t=258.22 Myr\n",
      "Creating frame  24/100 for step 115, t=269.96 Myr\n",
      "Creating frame  25/100 for step 115, t=281.70 Myr\n",
      "Creating frame  26/100 for step 117, t=293.44 Myr\n",
      "Creating frame  27/100 for step 118, t=305.17 Myr\n",
      "Creating frame  28/100 for step 119, t=316.91 Myr\n",
      "Creating frame  29/100 for step 119, t=328.65 Myr\n",
      "Creating frame  30/100 for step 120, t=340.39 Myr\n",
      "Creating frame  31/100 for step 120, t=352.12 Myr\n",
      "Creating frame  32/100 for step 121, t=363.86 Myr\n",
      "Creating frame  33/100 for step 121, t=375.60 Myr\n",
      "Creating frame  34/100 for step 121, t=387.34 Myr\n",
      "Creating frame  35/100 for step 122, t=399.07 Myr\n",
      "Creating frame  36/100 for step 122, t=410.81 Myr\n",
      "Creating frame  37/100 for step 122, t=422.55 Myr\n",
      "Creating frame  38/100 for step 124, t=434.29 Myr\n",
      "Creating frame  39/100 for step 126, t=446.02 Myr\n",
      "Creating frame  40/100 for step 127, t=457.76 Myr\n",
      "Creating frame  41/100 for step 127, t=469.50 Myr\n",
      "Creating frame  42/100 for step 128, t=481.24 Myr\n",
      "Creating frame  43/100 for step 128, t=492.97 Myr\n",
      "Creating frame  44/100 for step 128, t=504.71 Myr\n",
      "Creating frame  45/100 for step 129, t=516.45 Myr\n",
      "Creating frame  46/100 for step 130, t=528.19 Myr\n",
      "Creating frame  47/100 for step 131, t=539.92 Myr\n",
      "Creating frame  48/100 for step 132, t=551.66 Myr\n",
      "Creating frame  49/100 for step 133, t=563.40 Myr\n",
      "Creating frame  50/100 for step 133, t=575.14 Myr\n",
      "Creating frame  51/100 for step 134, t=586.87 Myr\n",
      "Creating frame  52/100 for step 135, t=598.61 Myr\n",
      "Creating frame  53/100 for step 138, t=610.35 Myr\n",
      "Creating frame  54/100 for step 139, t=622.09 Myr\n",
      "Creating frame  55/100 for step 140, t=633.82 Myr\n",
      "Creating frame  56/100 for step 140, t=645.56 Myr\n",
      "Creating frame  57/100 for step 141, t=657.30 Myr\n",
      "Creating frame  58/100 for step 144, t=669.04 Myr\n",
      "Creating frame  59/100 for step 145, t=680.77 Myr\n",
      "Creating frame  60/100 for step 147, t=692.51 Myr\n",
      "Creating frame  61/100 for step 147, t=704.25 Myr\n",
      "Creating frame  62/100 for step 149, t=715.99 Myr\n",
      "Creating frame  63/100 for step 151, t=727.72 Myr\n",
      "Creating frame  64/100 for step 153, t=739.46 Myr\n",
      "Creating frame  65/100 for step 153, t=751.20 Myr\n",
      "Creating frame  66/100 for step 155, t=762.94 Myr\n",
      "Creating frame  67/100 for step 159, t=774.67 Myr\n",
      "Creating frame  68/100 for step 160, t=786.41 Myr\n",
      "Creating frame  69/100 for step 162, t=798.15 Myr\n",
      "Creating frame  70/100 for step 164, t=809.89 Myr\n",
      "Creating frame  71/100 for step 166, t=821.62 Myr\n",
      "Creating frame  72/100 for step 168, t=833.36 Myr\n",
      "Creating frame  73/100 for step 170, t=845.10 Myr\n",
      "Creating frame  74/100 for step 172, t=856.84 Myr\n",
      "Creating frame  75/100 for step 175, t=868.57 Myr\n",
      "Creating frame  76/100 for step 177, t=880.31 Myr\n",
      "Creating frame  77/100 for step 179, t=892.05 Myr\n",
      "Creating frame  78/100 for step 182, t=903.79 Myr\n",
      "Creating frame  79/100 for step 184, t=915.52 Myr\n",
      "Creating frame  80/100 for step 187, t=927.26 Myr\n",
      "Creating frame  81/100 for step 189, t=939.00 Myr\n",
      "Creating frame  82/100 for step 191, t=950.74 Myr\n",
      "Creating frame  83/100 for step 194, t=962.47 Myr\n",
      "Creating frame  84/100 for step 196, t=974.21 Myr\n",
      "Creating frame  85/100 for step 202, t=985.95 Myr\n",
      "Creating frame  86/100 for step 203, t=997.69 Myr\n",
      "Creating frame  87/100 for step 205, t=1009.42 Myr\n",
      "Creating frame  88/100 for step 206, t=1021.16 Myr\n",
      "Creating frame  89/100 for step 208, t=1032.90 Myr\n",
      "Creating frame  90/100 for step 218, t=1044.64 Myr\n",
      "Creating frame  91/100 for step 222, t=1056.37 Myr\n",
      "Creating frame  92/100 for step 225, t=1068.11 Myr\n",
      "Creating frame  93/100 for step 228, t=1079.85 Myr\n",
      "Creating frame  94/100 for step 234, t=1091.59 Myr\n",
      "Creating frame  95/100 for step 240, t=1103.32 Myr\n",
      "Creating frame  96/100 for step 248, t=1115.06 Myr\n",
      "Creating frame  97/100 for step 251, t=1126.80 Myr\n",
      "Creating frame  98/100 for step 265, t=1138.54 Myr\n",
      "Creating frame  99/100 for step 280, t=1150.27 Myr\n",
      "Creating frame 100/100 for step 367, t=1162.01 Myr\n",
      "Done\n"
     ]
    }
   ],
   "source": [
    "# get frame indicies\n",
    "frames = min(frames, leng)\n",
    "max_time = min(max_time, np.amax(hf_all[\"Time\"]))\n",
    "t_samp = np.linspace(1.0, max_time, frames)\n",
    "idxs   = [find_nearest(hf_all[\"Time\"],t)[1] for t in t_samp]\n",
    "\n",
    "# make output folder\n",
    "frame_dir = \"output/frames/\"\n",
    "if os.path.exists(frame_dir):\n",
    "    shutil.rmtree(frame_dir)\n",
    "os.mkdir(frame_dir)\n",
    "\n",
    "# make frames\n",
    "for frame,step in enumerate(idxs):\n",
    "    print(f\"Creating frame {frame+1:3d}/{frames:3d} for step {step:3d}, t={t_samp[frame]/1e6:.2f} Myr\")\n",
    "    fpath = os.path.join(frame_dir, \"%05d.png\"%frame)\n",
    "\n",
    "    plot_visual(hf_all, outdir, idx=step, plot_format=\"png\")\n",
    "\n",
    "    shutil.move(os.path.join(outdir,\"plots\",\"plot_visual.png\"), fpath)\n",
    "print(\"Done\")"
   ]
  },
  {
   "cell_type": "code",
   "execution_count": 43,
   "id": "24dd7467",
   "metadata": {},
   "outputs": [],
   "source": [
    "vid = \"output/anim_visual.mp4\"\n",
    "if os.path.exists(vid):\n",
    "    os.remove(vid)"
   ]
  },
  {
   "cell_type": "code",
   "execution_count": 44,
   "id": "94f09f85",
   "metadata": {},
   "outputs": [
    {
     "name": "stderr",
     "output_type": "stream",
     "text": [
      "ffmpeg version 6.0 Copyright (c) 2000-2023 the FFmpeg developers\n",
      "  built with gcc 12.3.0 (GCC)\n",
      "  configuration: --prefix=/cvmfs/hpc.rug.nl/versions/2023.01/rocky8/x86_64/amd/zen3/software/FFmpeg/6.0-GCCcore-12.3.0 --enable-pic --enable-shared --enable-gpl --enable-version3 --enable-nonfree --cc=gcc --cxx=g++ --enable-libx264 --enable-libx265 --enable-libmp3lame --enable-libfreetype --enable-fontconfig --enable-libfribidi --enable-sdl2\n",
      "  libavutil      58.  2.100 / 58.  2.100\n",
      "  libavcodec     60.  3.100 / 60.  3.100\n",
      "  libavformat    60.  3.100 / 60.  3.100\n",
      "  libavdevice    60.  1.100 / 60.  1.100\n",
      "  libavfilter     9.  3.100 /  9.  3.100\n",
      "  libswscale      7.  1.100 /  7.  1.100\n",
      "  libswresample   4. 10.100 /  4. 10.100\n",
      "  libpostproc    57.  1.100 / 57.  1.100\n",
      "Input #0, image2, from 'data/shared/l98d_habrok3/case_00000/plots/frames/*.png':\n",
      "  Duration: 00:00:09.00, start: 0.000000, bitrate: N/A\n",
      "  Stream #0:0: Video: png, rgba(pc), 1406x1359 [SAR 9843:9843 DAR 1406:1359], 11.11 fps, 11.11 tbr, 11.11 tbn\n",
      "Stream mapping:\n",
      "  Stream #0:0 -> #0:0 (png (native) -> h264 (libx264))\n",
      "Press [q] to stop, [?] for help\n",
      "[libx264 @ 0x1ddee00] using SAR=1/1\n",
      "[libx264 @ 0x1ddee00] using cpu capabilities: MMX2 SSE2Fast SSSE3 SSE4.2 AVX FMA3 BMI2 AVX2\n",
      "[libx264 @ 0x1ddee00] profile High, level 4.0, 4:2:0, 8-bit\n",
      "[libx264 @ 0x1ddee00] 264 - core 164 - H.264/MPEG-4 AVC codec - Copyleft 2003-2022 - http://www.videolan.org/x264.html - options: cabac=1 ref=3 deblock=1:0:0 analyse=0x3:0x113 me=hex subme=7 psy=1 psy_rd=1.00:0.00 mixed_ref=1 me_range=16 chroma_me=1 trellis=1 8x8dct=1 cqm=0 deadzone=21,11 fast_pskip=1 chroma_qp_offset=-2 threads=42 lookahead_threads=7 sliced_threads=0 nr=0 decimate=1 interlaced=0 bluray_compat=0 constrained_intra=0 bframes=3 b_pyramid=2 b_adapt=1 b_bias=0 direct=1 weightb=1 open_gop=0 weightp=2 keyint=250 keyint_min=11 scenecut=40 intra_refresh=0 rc_lookahead=40 rc=crf mbtree=1 crf=23.0 qcomp=0.60 qpmin=0 qpmax=69 qpstep=4 ip_ratio=1.40 aq=1:1.00\n",
      "Output #0, mp4, to 'output/anim_visual.mp4':\n",
      "  Metadata:\n",
      "    encoder         : Lavf60.3.100\n",
      "  Stream #0:0: Video: h264 (avc1 / 0x31637661), yuv420p(tv, progressive), 1406x1360 [SAR 1:1 DAR 703:680], q=2-31, 11.11 fps, 12800 tbn\n",
      "    Metadata:\n",
      "      encoder         : Lavc60.3.100 libx264\n",
      "    Side data:\n",
      "      cpb: bitrate max/min/avg: 0/0/0 buffer size: 0 vbv_delay: N/A\n",
      "frame=    0 fps=0.0 q=0.0 size=       0kB time=-577014:32:22.77 bitrate=  -0.0kbits/s speed=N/A    \r"
     ]
    },
    {
     "name": "stdout",
     "output_type": "stream",
     "text": [
      "0\n"
     ]
    },
    {
     "name": "stderr",
     "output_type": "stream",
     "text": [
      "frame=  100 fps=0.0 q=-1.0 Lsize=     317kB time=00:00:08.73 bitrate= 297.2kbits/s speed=8.88x    \n",
      "video:315kB audio:0kB subtitle:0kB other streams:0kB global headers:0kB muxing overhead: 0.634322%\n",
      "[libx264 @ 0x1ddee00] frame I:1     Avg QP:20.28  size: 36700\n",
      "[libx264 @ 0x1ddee00] frame P:28    Avg QP:20.08  size:  6120\n",
      "[libx264 @ 0x1ddee00] frame B:71    Avg QP:21.60  size:  1599\n",
      "[libx264 @ 0x1ddee00] consecutive B-frames:  4.0%  2.0%  6.0% 88.0%\n",
      "[libx264 @ 0x1ddee00] mb I  I16..4: 28.7% 62.9%  8.4%\n",
      "[libx264 @ 0x1ddee00] mb P  I16..4:  2.1% 12.1%  0.4%  P16..4:  8.4%  1.7%  0.9%  0.0%  0.0%    skip:74.5%\n",
      "[libx264 @ 0x1ddee00] mb B  I16..4:  0.4%  0.9%  0.0%  B16..8:  6.5%  0.3%  0.0%  direct: 3.9%  skip:87.9%  L0:43.5% L1:54.6% BI: 1.9%\n",
      "[libx264 @ 0x1ddee00] 8x8 transform intra:77.1% inter:85.6%\n",
      "[libx264 @ 0x1ddee00] coded y,uvDC,uvAC intra: 6.8% 27.7% 7.9% inter: 1.0% 5.8% 0.2%\n",
      "[libx264 @ 0x1ddee00] i16 v,h,dc,p: 33% 25%  3% 39%\n",
      "[libx264 @ 0x1ddee00] i8 v,h,dc,ddl,ddr,vr,hd,vl,hu: 47% 12% 29%  2%  3%  2%  3%  2%  1%\n",
      "[libx264 @ 0x1ddee00] i4 v,h,dc,ddl,ddr,vr,hd,vl,hu: 40% 19% 17%  4%  7%  4%  3%  4%  2%\n",
      "[libx264 @ 0x1ddee00] i8c dc,h,v,p: 66%  9%  8% 17%\n",
      "[libx264 @ 0x1ddee00] Weighted P-Frames: Y:0.0% UV:0.0%\n",
      "[libx264 @ 0x1ddee00] ref P L0: 72.5%  4.7% 17.9%  4.9%\n",
      "[libx264 @ 0x1ddee00] ref B L0: 80.2% 18.3%  1.4%\n",
      "[libx264 @ 0x1ddee00] ref B L1: 97.7%  2.3%\n",
      "[libx264 @ 0x1ddee00] kb/s:285.83\n"
     ]
    }
   ],
   "source": [
    "# animate them\n",
    "fr = 1.0*frames/duration\n",
    "cmd = f\"{ffmpeg} -framerate {fr} -pattern_type glob -i '{frame_dir}/*.png' -c:v libx264 -pix_fmt yuv420p -y -vf 'pad=ceil(iw/2)*2:ceil(ih/2)*2' {vid}\"\n",
    "pr = sp.run([cmd], shell=True)\n",
    "print(pr.returncode)"
   ]
  },
  {
   "cell_type": "code",
   "execution_count": 46,
   "id": "e0cf615a",
   "metadata": {},
   "outputs": [
    {
     "data": {
      "text/html": [
       "\n",
       "<video width=\"900\" height=\"900\" controls>\n",
       "  <source src=\"output/anim_visual.mp4\" type=\"video/mp4\">\n",
       "</video>\n"
      ],
      "text/plain": [
       "<IPython.core.display.HTML object>"
      ]
     },
     "execution_count": 46,
     "metadata": {},
     "output_type": "execute_result"
    }
   ],
   "source": [
    "size = 900\n",
    "a = None\n",
    "a = HTML(f\"\"\"\n",
    "<video width=\"{size}\" height=\"{size}\" controls>\n",
    "  <source src=\"{vid}\" type=\"video/mp4\">\n",
    "</video>\n",
    "\"\"\")\n",
    "a"
   ]
  }
 ],
 "metadata": {
  "kernelspec": {
   "display_name": "base",
   "language": "python",
   "name": "python3"
  },
  "language_info": {
   "codemirror_mode": {
    "name": "ipython",
    "version": 3
   },
   "file_extension": ".py",
   "mimetype": "text/x-python",
   "name": "python",
   "nbconvert_exporter": "python",
   "pygments_lexer": "ipython3",
   "version": "3.12.9"
  }
 },
 "nbformat": 4,
 "nbformat_minor": 5
}
