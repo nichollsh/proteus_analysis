{
 "cells": [
  {
   "cell_type": "code",
   "execution_count": 1,
   "metadata": {},
   "outputs": [],
   "source": [
    "import matplotlib as mpl\n",
    "mpl.rcParams.update({'font.size': 12})\n",
    "mpl.rcParams['axes.formatter.useoffset'] = False\n",
    "\n",
    "import json, glob, os\n",
    "import numpy as np\n",
    "import matplotlib.pyplot as plt\n"
   ]
  },
  {
   "cell_type": "code",
   "execution_count": 2,
   "metadata": {},
   "outputs": [],
   "source": [
    "import utils.load_grid as lg"
   ]
  },
  {
   "cell_type": "code",
   "execution_count": 3,
   "metadata": {},
   "outputs": [],
   "source": [
    "def read_json(fpath):\n",
    "    with open(fpath) as hdl:\n",
    "        data = json.load(hdl)\n",
    "\n",
    "    out = {}\n",
    "    for k in data[\"data\"].keys():\n",
    "        arr = [float(v) for v in data[\"data\"][k][\"values\"]]\n",
    "        out[k] = np.array(arr, dtype=float) * float(data[\"data\"][k][\"scaling\"])\n",
    "    out[\"time\"] = float(data[\"time_years\"])\n",
    "    return out"
   ]
  },
  {
   "cell_type": "code",
   "execution_count": 4,
   "metadata": {},
   "outputs": [],
   "source": [
    "case_dir = \"data/article_data/jgr_proteus_grid/fiducial/\""
   ]
  },
  {
   "cell_type": "code",
   "execution_count": 5,
   "metadata": {},
   "outputs": [],
   "source": [
    "years = lg.get_json_years(case_dir)\n",
    "files = [case_dir+\"data/%d.json\"%y for y in years]\n",
    "jsons = [read_json(f) for f in files]\n",
    "nfiles = len(years)"
   ]
  },
  {
   "cell_type": "code",
   "execution_count": 6,
   "metadata": {},
   "outputs": [
    {
     "data": {
      "text/plain": [
       "Text(0.5, 1.0, 'Level = 10')"
      ]
     },
     "execution_count": 6,
     "metadata": {},
     "output_type": "execute_result"
    }
   ],
   "source": [
    "lvl = 10\n",
    "keys = [\"Jtot_b\",\"Jconv_b\",\"Jcond_b\",\"Jmix_b\",\"Jgrav_b\"]\n",
    "ys = {}\n",
    "for k in keys:\n",
    "    ys[k] = []\n",
    "t = []\n",
    "\n",
    "for i in range(nfiles):\n",
    "    dat = jsons[i]\n",
    "    t.append(dat[\"time\"]/1e6)\n",
    "    for k in keys:\n",
    "        ys[k].append(dat[k][lvl])\n",
    "\n",
    "\n",
    "fig,ax = plt.subplots(1,1)\n",
    "for k in keys:\n",
    "    ax.plot(t,ys[k], label=k)\n",
    "\n",
    "ax.set_yscale(\"symlog\")\n",
    "ax.legend(loc=\"lower right\")\n",
    "\n",
    "ax.set_xlim(0.6,1)\n",
    "ax.set_xlabel(\"Time [Myr]\")\n",
    "ax.set_title(\"Level = %d\"%lvl)"
   ]
  },
  {
   "cell_type": "code",
   "execution_count": 7,
   "metadata": {},
   "outputs": [
    {
     "ename": "IndexError",
     "evalue": "list index out of range",
     "output_type": "error",
     "traceback": [
      "\u001b[0;31m---------------------------------------------------------------------------\u001b[0m",
      "\u001b[0;31mIndexError\u001b[0m                                Traceback (most recent call last)",
      "Cell \u001b[0;32mIn[7], line 28\u001b[0m\n\u001b[1;32m     25\u001b[0m     F_tot \u001b[38;5;241m=\u001b[39m P_tot\u001b[38;5;241m/\u001b[39mA\n\u001b[1;32m     26\u001b[0m     y\u001b[38;5;241m.\u001b[39mappend(F_tot)\n\u001b[0;32m---> 28\u001b[0m \u001b[38;5;28mprint\u001b[39m(\u001b[38;5;124m\"\u001b[39m\u001b[38;5;124mInitial flux: \u001b[39m\u001b[38;5;132;01m%g\u001b[39;00m\u001b[38;5;124m W m-2\u001b[39m\u001b[38;5;124m\"\u001b[39m\u001b[38;5;241m%\u001b[39m\u001b[43my\u001b[49m\u001b[43m[\u001b[49m\u001b[38;5;241;43m0\u001b[39;49m\u001b[43m]\u001b[49m)\n\u001b[1;32m     30\u001b[0m pctdec \u001b[38;5;241m=\u001b[39m (y[\u001b[38;5;241m-\u001b[39m\u001b[38;5;241m1\u001b[39m]\u001b[38;5;241m-\u001b[39my[\u001b[38;5;241m0\u001b[39m])\u001b[38;5;241m/\u001b[39my[\u001b[38;5;241m0\u001b[39m]\u001b[38;5;241m*\u001b[39m\u001b[38;5;241m100\u001b[39m\n\u001b[1;32m     31\u001b[0m \u001b[38;5;28mprint\u001b[39m(\u001b[38;5;124m\"\u001b[39m\u001b[38;5;124mPercentage change: \u001b[39m\u001b[38;5;132;01m%g\u001b[39;00m\u001b[38;5;124m \u001b[39m\u001b[38;5;132;01m%%\u001b[39;00m\u001b[38;5;124m\"\u001b[39m\u001b[38;5;241m%\u001b[39mpctdec )\n",
      "\u001b[0;31mIndexError\u001b[0m: list index out of range"
     ]
    }
   ],
   "source": [
    "k = \"Hradio_s\"\n",
    "y_lbl = \"Radiogenic heat flux \\n[W m-2]\"\n",
    "y = []\n",
    "t = []\n",
    "\n",
    "for i in range(nfiles):\n",
    "    dat = jsons[i]\n",
    "    t.append(dat[\"time\"])\n",
    "\n",
    "    # heating\n",
    "    H = np.array(dat[k])\n",
    "\n",
    "    # layer masses\n",
    "    m = np.array(dat[\"mass_s\"])\n",
    "\n",
    "    # layer power dissipated\n",
    "    P = H * m\n",
    "    P_tot = np.sum(P)\n",
    "\n",
    "    # planetary radius and area\n",
    "    r = float(dat[\"radius_b\"][0])\n",
    "    A = 4 * np.pi * r * r\n",
    "\n",
    "    # Flux at this time\n",
    "    F_tot = P_tot/A\n",
    "    y.append(F_tot)\n",
    "\n",
    "print(\"Initial flux: %g W m-2\"%y[0])\n",
    "\n",
    "pctdec = (y[-1]-y[0])/y[0]*100\n",
    "print(\"Percentage change: %g %%\"%pctdec )\n",
    "\n",
    "fig,ax = plt.subplots(1,1, figsize=(6,2))\n",
    "ax.plot(t,y, label=k)\n",
    "\n",
    "ax.set_yscale(\"symlog\")\n",
    "ax.legend(loc=\"lower right\")\n",
    "ax.set_xlabel(\"Time [yr]\")\n",
    "ax.set_ylabel(y_lbl)"
   ]
  }
 ],
 "metadata": {
  "kernelspec": {
   "display_name": "py313",
   "language": "python",
   "name": "python3"
  },
  "language_info": {
   "codemirror_mode": {
    "name": "ipython",
    "version": 3
   },
   "file_extension": ".py",
   "mimetype": "text/x-python",
   "name": "python",
   "nbconvert_exporter": "python",
   "pygments_lexer": "ipython3",
   "version": "3.13.0"
  }
 },
 "nbformat": 4,
 "nbformat_minor": 2
}
