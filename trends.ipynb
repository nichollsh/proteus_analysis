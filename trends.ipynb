{
 "cells": [
  {
   "cell_type": "markdown",
   "metadata": {},
   "source": [
    "## Trend analysis"
   ]
  },
  {
   "cell_type": "code",
   "execution_count": 9,
   "metadata": {},
   "outputs": [],
   "source": [
    "import matplotlib as mpl\n",
    "mpl.rcParams.update({'font.size': 12})\n",
    "mpl.rcParams['axes.formatter.useoffset'] = False\n",
    "import matplotlib.pyplot as plt\n",
    "import numpy as np\n",
    "from mpl_toolkits.axes_grid1 import make_axes_locatable\n",
    "import cmcrameri.cm as cm\n",
    "\n",
    "from proteus.config import read_config\n"
   ]
  },
  {
   "cell_type": "code",
   "execution_count": 10,
   "metadata": {},
   "outputs": [],
   "source": [
    "import utils.load_grid as lg"
   ]
  },
  {
   "cell_type": "code",
   "execution_count": 11,
   "metadata": {},
   "outputs": [],
   "source": [
    "pgrid_dir =  \"data/output/l9859b_grid2/\"\n",
    "cases = lg.get_cases(pgrid_dir)\n",
    "ncases = len(cases)"
   ]
  },
  {
   "cell_type": "code",
   "execution_count": 43,
   "metadata": {},
   "outputs": [],
   "source": [
    "# Case numbers\n",
    "cnums = [\"%d\"%int(s.split(\"_\")[-1]) for s in cases]"
   ]
  },
  {
   "cell_type": "code",
   "execution_count": 52,
   "metadata": {},
   "outputs": [
    {
     "name": "stderr",
     "output_type": "stream",
     "text": [
      "Helpfiles: 100%|██████████| 192/192 [00:01<00:00, 147.95it/s]\n"
     ]
    },
    {
     "name": "stdout",
     "output_type": "stream",
     "text": [
      "Done\n"
     ]
    }
   ],
   "source": [
    "# Helpfiles\n",
    "helps, hvars = lg.load_helpfiles(cases)\n",
    "\n",
    "# Statuses\n",
    "statuses = lg.get_statuses(pgrid_dir)\n",
    "\n",
    "# Configuration variables\n",
    "conf = []\n",
    "for f in cases:\n",
    "    conf.append( read_config(f+\"/init_coupler.toml\") )\n",
    "\n",
    "print(\"Done\")"
   ]
  },
  {
   "cell_type": "code",
   "execution_count": 29,
   "metadata": {},
   "outputs": [],
   "source": [
    "%matplotlib inline"
   ]
  },
  {
   "cell_type": "markdown",
   "metadata": {},
   "source": [
    "## Variable1 vs Variable2 scatter plot"
   ]
  },
  {
   "cell_type": "code",
   "execution_count": 68,
   "metadata": {},
   "outputs": [],
   "source": [
    "def trend_any(x,x_lbl, y,y_lbl, control,\n",
    "                xscale='linear', yscale='linear', zscale='linear',\n",
    "                histogram=True, nbins=10, plt_cnums=False):\n",
    "\n",
    "    fig,ax = plt.subplots(figsize=(5,4))\n",
    "\n",
    "    ax.set_xlabel(x_lbl)\n",
    "    ax.set_ylabel(y_lbl)\n",
    "\n",
    "    xs = []\n",
    "    ys = []\n",
    "    cs = [] # colour\n",
    "    ns = [] # case number\n",
    "    for i in range(ncases):\n",
    "        skip_this = False\n",
    "        for k in control.keys():\n",
    "            if not np.isclose(lg.descend_get(conf[i],k),control[k]):\n",
    "                skip_this = True\n",
    "                break\n",
    "\n",
    "        if not skip_this:\n",
    "            # x var\n",
    "            if '.' in x:\n",
    "                xs.append(lg.descend_get(conf[i],x))\n",
    "            else:\n",
    "                xs.append(lg.access_hvars(hvars,x,-1)[i])\n",
    "\n",
    "            # y var\n",
    "            if '.' in y:\n",
    "                ys.append(lg.descend_get(conf[i],y))\n",
    "            else:\n",
    "                ys.append(lg.access_hvars(hvars,y,-1)[i])\n",
    "\n",
    "            # case number\n",
    "            ns.append(cnums[i])\n",
    "\n",
    "            # colour\n",
    "            if lg.access_hvars(hvars,\"Phi_global\",-1)[i] < 0.05:\n",
    "                color='black'\n",
    "            else:\n",
    "                color='orange'\n",
    "            cs.append(color)\n",
    "\n",
    "    # mask = np.argsort(xs)\n",
    "    xs = np.array(xs) #[mask]\n",
    "    ys = np.array(ys) #[mask]\n",
    "    cs = np.array(cs) #[mask]\n",
    "    ns = np.array(ns) #[mask]\n",
    "\n",
    "\n",
    "    if xscale != 'linear':\n",
    "        if xscale == \"log\":\n",
    "            ax.set_xscale(\"log\")\n",
    "        else:\n",
    "            ax.set_xscale(\"symlog\", linthresh=np.amin(xs[xs>0]))\n",
    "        if histogram:\n",
    "            bins_x = np.logspace(np.log10(np.amin(xs)) , np.log10(np.amax(xs)), nbins)\n",
    "    else:\n",
    "        if histogram:\n",
    "            bins_x = np.linspace(np.amin(xs) , np.amax(xs), nbins)\n",
    "\n",
    "    if yscale != 'linear':\n",
    "        if yscale == \"log\":\n",
    "            ax.set_yscale(\"log\")\n",
    "        else:\n",
    "            ax.set_yscale(\"symlog\",linthresh=np.amin(ys[ys>0]))\n",
    "        if histogram:\n",
    "            bins_y = np.logspace(np.log10(np.amin(ys)) , np.log10(np.amax(ys)), nbins)\n",
    "    else:\n",
    "        if histogram:\n",
    "            bins_y = np.linspace(np.amin(ys) , np.amax(ys), nbins)\n",
    "\n",
    "    if histogram:\n",
    "        hist,xe,ye,img = ax.hist2d(xs,ys, bins=[bins_x, bins_y], norm=zscale, cmap=cm.oslo_r)\n",
    "        cax = make_axes_locatable(ax).append_axes('top', size='5%', pad=0.05)\n",
    "        fig.colorbar(img, cax=cax, orientation='horizontal', location='top')\n",
    "    else:\n",
    "        for i in range(len(xs)):\n",
    "\n",
    "            stat = statuses[int(cnums[i])]\n",
    "            if 10 <= stat <= 19:\n",
    "                c = 'k'\n",
    "                al = 1.0\n",
    "            else:\n",
    "                c = 'r'\n",
    "                al = 0.3\n",
    "\n",
    "            ax.scatter(xs[i],ys[i], color=cs[i], s=20, alpha=al)\n",
    "\n",
    "            if plt_cnums:\n",
    "                ax.text(xs[i], ys[i], cnums[i], color=c,\n",
    "                        fontsize=10,verticalalignment='center', horizontalalignment='left', zorder=8)\n",
    "\n",
    "    plt.show()"
   ]
  },
  {
   "cell_type": "code",
   "execution_count": null,
   "metadata": {},
   "outputs": [
    {
     "data": {
      "image/png": "[encoded data removed]",
      "text/plain": [
       "<Figure size 500x400 with 1 Axes>"
      ]
     },
     "metadata": {},
     "output_type": "display_data"
    },
    {
     "data": {
      "image/png": "[encoded data removed]",
      "text/plain": [
       "<Figure size 500x400 with 1 Axes>"
      ]
     },
     "metadata": {},
     "output_type": "display_data"
    }
   ],
   "source": [
    "plt.close(\"all\")\n",
    "\n",
    "trend_any(\n",
    "    \"F_tidal\", \"F_tidal\",\n",
    "    \"T_surf\", \"T_surf\",\n",
    "    control={},\n",
    "    xscale=\"symlog\",\n",
    "    yscale=\"linear\",\n",
    "    zscale=\"linear\",\n",
    "    histogram=False,\n",
    ")\n",
    "\n",
    "trend_any(\n",
    "    \"outgas.fO2_shift_IW\", \"fO2\",\n",
    "    \"T_surf\", \"T_surf\",\n",
    "    control={},\n",
    "    xscale=\"linear\",\n",
    "    yscale=\"linear\",\n",
    "    zscale=\"linear\",\n",
    "    histogram=False\n",
    ")\n",
    "\n",
    "trend_any(\n",
    "    \"delivery.elements.H_ppmw\", \"Hydrogen inventory\",\n",
    "    \"rho_obs\", r\"$\\rho_{obs}$ [kg m$^{-3}$]\",\n",
    "    control={},\n",
    "    xscale=\"linear\",\n",
    "    yscale=\"linear\",\n",
    "    zscale=\"linear\",\n",
    "    histogram=False\n",
    ")\n"
   ]
  }
 ],
 "metadata": {
  "kernelspec": {
   "display_name": "py313",
   "language": "python",
   "name": "python3"
  },
  "language_info": {
   "codemirror_mode": {
    "name": "ipython",
    "version": 3
   },
   "file_extension": ".py",
   "mimetype": "text/x-python",
   "name": "python",
   "nbconvert_exporter": "python",
   "pygments_lexer": "ipython3",
   "version": "3.13.0"
  }
 },
 "nbformat": 4,
 "nbformat_minor": 2
}
