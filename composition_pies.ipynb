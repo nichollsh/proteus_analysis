{
 "cells": [
  {
   "cell_type": "code",
   "execution_count": 3,
   "metadata": {},
   "outputs": [],
   "source": [
    "import matplotlib as mpl\n",
    "\n",
    "font = {'family' : 'sans',\n",
    "        'size'   : 12}\n",
    "\n",
    "mpl.rc('font', **font)\n",
    "\n",
    "import matplotlib.pyplot as plt\n",
    "import matplotlib.patches as mpatches\n",
    "from mpl_toolkits.axes_grid1.inset_locator import inset_axes\n",
    "import numpy as np\n",
    "from proteus.utils.constants import gas_list\n",
    "from proteus.utils.plot import get_colour, latexify\n",
    "\n",
    "%matplotlib inline\n",
    "\n",
    "mpl.rcParams['axes.formatter.useoffset'] = False"
   ]
  },
  {
   "cell_type": "code",
   "execution_count": 4,
   "metadata": {},
   "outputs": [],
   "source": [
    "import utils.load_grid as lg"
   ]
  },
  {
   "cell_type": "code",
   "execution_count": 22,
   "metadata": {},
   "outputs": [],
   "source": [
    "pltname = \"hd63433d\"\n",
    "outname = \"article_data/mnras_proteus_agni/hd63433d_oxfu/\"\n",
    "title = \"HD 63433 d\"\n",
    "\n",
    "# pltname = \"trappist1c\"\n",
    "# outname = \"article_data/mnras_proteus_agni/trappist1c_oxfu/\"\n",
    "# title = \"TRAPPIST-1 c\""
   ]
  },
  {
   "cell_type": "code",
   "execution_count": 23,
   "metadata": {},
   "outputs": [],
   "source": [
    "pgrid_dir = \"data/\"+outname\n",
    "cases = lg.get_cases(pgrid_dir)"
   ]
  },
  {
   "cell_type": "code",
   "execution_count": 24,
   "metadata": {},
   "outputs": [
    {
     "name": "stdout",
     "output_type": "stream",
     "text": [
      " \n"
     ]
    },
    {
     "name": "stderr",
     "output_type": "stream",
     "text": [
      "Configs:   0%|          | 0/22 [00:00<?, ?it/s]"
     ]
    },
    {
     "name": "stderr",
     "output_type": "stream",
     "text": [
      "Configs: 100%|██████████| 22/22 [00:00<00:00, 394.54it/s]\n"
     ]
    },
    {
     "name": "stdout",
     "output_type": "stream",
     "text": [
      " \n"
     ]
    },
    {
     "name": "stderr",
     "output_type": "stream",
     "text": [
      "Helpfiles: 100%|██████████| 22/22 [00:00<00:00, 88.13it/s]\n"
     ]
    },
    {
     "name": "stdout",
     "output_type": "stream",
     "text": [
      "Done\n"
     ]
    }
   ],
   "source": [
    "# Collect netcdf files\n",
    "stts = lg.get_statuses(pgrid_dir)\n",
    "\n",
    "print(\" \")\n",
    "\n",
    "# Configuration variables\n",
    "configs = lg.load_configs(cases)\n",
    "\n",
    "print(\" \")\n",
    "\n",
    "# Helpfiles\n",
    "helps, hvars = lg.load_helpfiles(cases)\n",
    "\n",
    "print(\"Done\")"
   ]
  },
  {
   "cell_type": "code",
   "execution_count": 25,
   "metadata": {},
   "outputs": [],
   "source": [
    "def _pie(ax, x, y, s, ratios, colors, tris=50):\n",
    "\n",
    "    markers = []\n",
    "    previous = 0\n",
    "    # calculate the points of the pie pieces\n",
    "    for color, ratio in zip(colors, ratios):\n",
    "        this = 2 * np.pi * ratio + previous\n",
    "        x_tmp  = [0] + np.cos(np.linspace(previous, this, tris)).tolist() + [0]\n",
    "        y_tmp  = [0] + np.sin(np.linspace(previous, this, tris)).tolist() + [0]\n",
    "        xy = np.column_stack([x_tmp, y_tmp])\n",
    "        previous = this\n",
    "        markers.append({'marker':xy, 's':(np.abs(xy).max())**2*s, 'facecolor':color})\n",
    "\n",
    "    # scatter each of the pie pieces to create pies\n",
    "    for marker in markers:\n",
    "        ax.scatter([x], [y], **marker)\n",
    "\n",
    "    return ax"
   ]
  },
  {
   "cell_type": "code",
   "execution_count": 42,
   "metadata": {},
   "outputs": [],
   "source": [
    "def make_pies(x,x_lbl, y,y_lbl, control,\n",
    "                plot_casenums=False,plot_controls=False, plot_psurf=True, plot_legend=True, dark_theme=False,\n",
    "                logx=False, logy=False, title=\"\", r_ref=3.0, time_idx=-1,\n",
    "                ytick=[], yticklbl=[], xtick=[], xticklbl=[], figsize=(6,5), xlim=[], ylim=[],\n",
    "                outpath=\"output/recent_pies.pdf\"):\n",
    "    # Make plot\n",
    "    x_plt = np.array([]) # x variable\n",
    "    y_plt = np.array([]) # y variable\n",
    "    c_plt = np.array([], dtype=int)   # case number\n",
    "    g_plt = np.array([], dtype=bool)  # case finished with success? (good)\n",
    "    for i in range(len(x)):\n",
    "        skip_this = False\n",
    "        for k in control.keys():\n",
    "            if not np.isclose(lg.descend_get(configs[i],k),control[k]):\n",
    "                skip_this = True\n",
    "                break\n",
    "        if skip_this:\n",
    "            continue\n",
    "        x_plt = np.append(x_plt, x[i])\n",
    "        y_plt = np.append(y_plt, y[i])\n",
    "        c_plt = np.append(c_plt, i)\n",
    "        g_plt = np.append(g_plt, bool( 10 <= stts[i] <= 19))\n",
    "    if len(x_plt) == 0:\n",
    "        print(\"WARNING: No data left after applying control variables!\")\n",
    "        return\n",
    "\n",
    "    fig,ax = plt.subplots(1,1, figsize=figsize)\n",
    "\n",
    "    present = np.full(len(gas_list), False)\n",
    "    for j,v in enumerate(gas_list):\n",
    "        for i in range(len(x_plt)):\n",
    "            r = lg.access_hvars(hvars,v+\"_vmr\",-1)[c_plt[i]]\n",
    "            if r > 1.0e-30:\n",
    "                present[j] = True\n",
    "\n",
    "    p_min = np.amin(lg.access_hvars(hvars,\"P_surf\",-1))\n",
    "    i_min = np.argmin(lg.access_hvars(hvars,\"P_surf\",-1))\n",
    "    print(\"Minimum pressure = %.1f bar (x=%s,y=%s)\"%(p_min,str(x_plt[i_min]),str(y_plt[i_min])))\n",
    "\n",
    "    p_max = np.amax(lg.access_hvars(hvars,\"P_surf\",-1))\n",
    "    i_max = np.argmax(lg.access_hvars(hvars,\"P_surf\",-1))\n",
    "    print(\"Maximum pressure = %.1f bar (x=%s,y=%s)\"%(p_max,str(x_plt[i_max]),str(y_plt[i_max])))\n",
    "\n",
    "    # Make the pies\n",
    "    p_ref = p_max\n",
    "    print(\"Reference pressure = %.1f bar\"%p_ref)\n",
    "    for i in range(len(x_plt)):\n",
    "        ratios = []\n",
    "        colors = []\n",
    "        for j,v in enumerate(gas_list):\n",
    "            if not present[j]:\n",
    "                continue\n",
    "            ratios.append(lg.access_hvars(hvars,v+\"_vmr\",time_idx)[c_plt[i]])\n",
    "            colors.append(get_colour(v))\n",
    "        tot = np.sum(ratios)\n",
    "        if tot < 1.0 - 1e-5:\n",
    "            raise Exception(\"Mixing ratios do not sum to unity (sum=%.10f)\"%tot)\n",
    "\n",
    "        ax.scatter([x_plt[i]], [y_plt[i]], alpha=0.0)\n",
    "\n",
    "        # plot pie chart\n",
    "        ax_sub= inset_axes(ax, width=r_ref, height=r_ref, loc=\"center\",\n",
    "                    bbox_to_anchor=(x_plt[i], y_plt[i]),\n",
    "                    bbox_transform=ax.transData,\n",
    "                    borderpad=0)\n",
    "        wedges,texts= ax_sub.pie(ratios, colors=colors)\n",
    "\n",
    "        # move pie chart weges onto base plot\n",
    "        # https://stackoverflow.com/a/56935492\n",
    "        for p in wedges:\n",
    "            p.remove()\n",
    "            ax.add_patch(p)\n",
    "            p.set_zorder(2)\n",
    "            p.set_clip_on(True)\n",
    "\n",
    "        if plot_psurf:\n",
    "            p_surf_log = np.log10(lg.access_hvars(hvars,\"P_surf\",time_idx)[c_plt[i]])\n",
    "            ax.text(x_plt[i],y_plt[i],\n",
    "                        \"%.1f\"%p_surf_log,\n",
    "                        color=\"white\",\n",
    "                        horizontalalignment=\"center\", verticalalignment=\"center\",\n",
    "                        fontsize=10.9)\n",
    "\n",
    "    # Legend\n",
    "    if plot_legend:\n",
    "        patches = []\n",
    "        for j,v in enumerate(gas_list):\n",
    "            if present[j]:\n",
    "                patches.append(mpatches.Patch(color=get_colour(v), label=latexify(v)))\n",
    "        leg = ax.legend(handles=patches,loc='upper center', bbox_to_anchor=(0.5, -0.53), ncol=4,\n",
    "                        title=\"\",fancybox=True, framealpha=0.5, labelspacing=0.2)\n",
    "        if dark_theme:\n",
    "            leg.get_frame().set_alpha(0)\n",
    "\n",
    "    if plot_casenums:\n",
    "        for i in range(len(x_plt)):\n",
    "            ax.text(x_plt[i],y_plt[i],c_plt[i],fontsize=7, color='magenta', horizontalalignment='center', verticalalignment='center')\n",
    "\n",
    "    if plot_controls:\n",
    "        control_str = \"Control variables:\\n\"\n",
    "        for k in control.keys():\n",
    "            control_str += \"  %s=%g\\n\" % (k,control[k])\n",
    "        control_str = control_str[:-1]\n",
    "        axt = ax.text(0.05, 0.95, control_str,\n",
    "                horizontalalignment='left', verticalalignment='top', transform=ax.transAxes, fontsize=10)\n",
    "        axt.set_bbox(dict(facecolor='white', alpha=0.5, linewidth=0))\n",
    "\n",
    "    ax.set_xlabel(x_lbl)\n",
    "    ax.set_ylabel(y_lbl)\n",
    "    if logy:\n",
    "        ax.set_yscale(\"log\")\n",
    "    if logx:\n",
    "        ax.set_xscale(\"log\")\n",
    "\n",
    "    if len(xtick) > 0:\n",
    "        ax.set_xticks(xtick)\n",
    "    if len(xticklbl) > 0:\n",
    "        ax.set_xticklabels(xticklbl)\n",
    "\n",
    "    if len(ytick) > 0:\n",
    "        ax.set_yticks(ytick)\n",
    "    if len(yticklbl) > 0:\n",
    "        ax.set_yticklabels(yticklbl)\n",
    "\n",
    "    if len(xlim) == 2:\n",
    "        ax.set_xlim(xlim)\n",
    "\n",
    "    if len(ylim) == 2:\n",
    "        ax.set_ylim(ylim)\n",
    "\n",
    "    if len(title)>0:\n",
    "        ax.set_title(title, fontsize=12)\n",
    "\n",
    "    fig.savefig(outpath, bbox_inches='tight', transparent=True)\n",
    "    plt.show()"
   ]
  },
  {
   "cell_type": "code",
   "execution_count": 43,
   "metadata": {},
   "outputs": [
    {
     "name": "stdout",
     "output_type": "stream",
     "text": [
      "Minimum pressure = 399.7 bar (x=-5.0,y=0.0)\n",
      "Maximum pressure = 663.0 bar (x=5.0,y=0.0)\n",
      "Reference pressure = 663.0 bar\n"
     ]
    },
    {
     "data": {
      "image/png": "[encoded data removed]",
      "text/plain": [
       "<Figure size 600x110 with 23 Axes>"
      ]
     },
     "metadata": {},
     "output_type": "display_data"
    },
    {
     "name": "stdout",
     "output_type": "stream",
     "text": [
      "data/article_data/mnras_proteus_agni/hd63433d_oxfu/\n"
     ]
    }
   ],
   "source": [
    "# Y-variables\n",
    "y = lg.access_configs(configs,\"atmos_clim.module\")\n",
    "for i in range(len(y)):\n",
    "    if y[i] == \"janus\":\n",
    "        y[i] = 1\n",
    "    else:\n",
    "        y[i] = 0\n",
    "y_lbl = \"\"\n",
    "logy=False\n",
    "ytick = [0,1]\n",
    "yticklbl = [\"AGNI\",\"JANUS\"]\n",
    "ylim=[-0.5,1.5]\n",
    "\n",
    "# X-variables\n",
    "x = lg.access_configs(configs,\"outgas.fO2_shift_IW\")\n",
    "x_lbl = r\"log$_{10}$ (fO$_{2}$ / IW)\"\n",
    "logx=False\n",
    "xtick = np.unique(x)\n",
    "xticklbl = []\n",
    "xlim=[]\n",
    "\n",
    "\n",
    "# Control variables\n",
    "# control = {\"mean_distance\":0.1, \"hydrogen_earth_oceans\":1.0}\n",
    "control = {}\n",
    "\n",
    "# Plotting parameters\n",
    "plot_controls = False\n",
    "plot_casenums = False\n",
    "plot_psurf    = True\n",
    "r_ref         = 0.4\n",
    "figsize       = (6,1.1)\n",
    "outpath       = \"output/recent_pies.pdf\"\n",
    "plot_legend   = True\n",
    "time_idx      = -5\n",
    "dark          = False\n",
    "\n",
    "if dark:\n",
    "    COLOR = 'white'\n",
    "else:\n",
    "    COLOR = 'black'\n",
    "\n",
    "mpl.rcParams['text.color'] = COLOR\n",
    "mpl.rcParams['axes.labelcolor'] = COLOR\n",
    "mpl.rcParams['xtick.color'] = COLOR\n",
    "mpl.rcParams['ytick.color'] = COLOR\n",
    "mpl.rcParams['axes.edgecolor'] = COLOR\n",
    "\n",
    "make_pies(x,x_lbl, y,y_lbl, control, logx=logx, logy=logy, time_idx=time_idx, dark_theme=dark, plot_psurf=plot_psurf,\n",
    "            ytick=ytick, yticklbl=yticklbl, xtick=xtick, xticklbl=xticklbl, figsize=figsize, ylim=ylim, xlim=xlim,\n",
    "            plot_casenums=plot_casenums, plot_controls=plot_controls, plot_legend=plot_legend, title=title, r_ref=r_ref, outpath=outpath)\n",
    "\n",
    "print(pgrid_dir)"
   ]
  }
 ],
 "metadata": {
  "kernelspec": {
   "display_name": "proteus",
   "language": "python",
   "name": "python3"
  },
  "language_info": {
   "codemirror_mode": {
    "name": "ipython",
    "version": 3
   },
   "file_extension": ".py",
   "mimetype": "text/x-python",
   "name": "python",
   "nbconvert_exporter": "python",
   "pygments_lexer": "ipython3",
   "version": "3.13.0"
  }
 },
 "nbformat": 4,
 "nbformat_minor": 2
}
