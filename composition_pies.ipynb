{
 "cells": [
  {
   "cell_type": "code",
   "execution_count": 1,
   "metadata": {},
   "outputs": [],
   "source": [
    "import matplotlib as mpl\n",
    "import matplotlib.pyplot as plt\n",
    "import matplotlib.patches as mpatches\n",
    "import numpy as np\n",
    "\n"
   ]
  },
  {
   "cell_type": "code",
   "execution_count": 2,
   "metadata": {},
   "outputs": [],
   "source": [
    "import utils.load_grid as lg\n",
    "from utils.load_cmaps import *"
   ]
  },
  {
   "cell_type": "code",
   "execution_count": 3,
   "metadata": {},
   "outputs": [],
   "source": [
    "pgrid_dir = \"data/shared/jgr_2\"\n",
    "cases = lg.get_cases(pgrid_dir)"
   ]
  },
  {
   "cell_type": "code",
   "execution_count": 4,
   "metadata": {},
   "outputs": [
    {
     "name": "stderr",
     "output_type": "stream",
     "text": [
      "Configs: 100%|██████████| 266/266 [00:00<00:00, 417.51it/s]\n",
      "Helpfiles: 100%|██████████| 266/266 [00:06<00:00, 39.34it/s]\n"
     ]
    },
    {
     "name": "stdout",
     "output_type": "stream",
     "text": [
      "Done\n"
     ]
    }
   ],
   "source": [
    "# Collect netcdf files\n",
    "stts = lg.get_statuses(pgrid_dir)\n",
    "\n",
    "# Configuration variables\n",
    "cvars = lg.load_cvars(cases)\n",
    "\n",
    "# Helpfiles\n",
    "helps, hvars = lg.load_helpfiles(cases)\n",
    "\n",
    "print(\"Done\")"
   ]
  },
  {
   "cell_type": "code",
   "execution_count": 5,
   "metadata": {},
   "outputs": [],
   "source": [
    "def _pie(ax, x, y, s, ratios, colors, tris=50):\n",
    "\n",
    "    markers = []\n",
    "    previous = 0\n",
    "    # calculate the points of the pie pieces\n",
    "    for color, ratio in zip(colors, ratios):\n",
    "        this = 2 * np.pi * ratio + previous\n",
    "        x_tmp  = [0] + np.cos(np.linspace(previous, this, tris)).tolist() + [0]\n",
    "        y_tmp  = [0] + np.sin(np.linspace(previous, this, tris)).tolist() + [0]\n",
    "        xy = np.column_stack([x_tmp, y_tmp])\n",
    "        previous = this\n",
    "        markers.append({'marker':xy, 's':(np.abs(xy).max())**2*s, 'facecolor':color})\n",
    "\n",
    "    # scatter each of the pie pieces to create pies\n",
    "    for marker in markers:\n",
    "        ax.scatter([x], [y], **marker)\n",
    "\n",
    "    return ax"
   ]
  },
  {
   "cell_type": "code",
   "execution_count": 6,
   "metadata": {},
   "outputs": [],
   "source": [
    "def make_pies(x,x_lbl, y,y_lbl, control,plot_casenums=False,plot_controls=False, logx=False, logy=False):\n",
    "    # Make plot\n",
    "    x_plt = np.array([], dtype=float) # x variable\n",
    "    y_plt = np.array([], dtype=float) # y variable \n",
    "    c_plt = np.array([], dtype=int)   # case number\n",
    "    g_plt = np.array([], dtype=bool)  # case finished with success? (good)\n",
    "    g_plt = np.array([], dtype=bool)  # case finished with failure? (bad)\n",
    "    for i in range(len(x)):\n",
    "        skip_this = False\n",
    "        for k in control.keys():\n",
    "            if k in cvars.keys():\n",
    "                if not np.isclose(cvars[k][i],control[k]):\n",
    "                    skip_this = True\n",
    "                    break\n",
    "        if skip_this:\n",
    "            continue \n",
    "        x_plt = np.append(x_plt, x[i])\n",
    "        y_plt = np.append(y_plt, y[i])\n",
    "        c_plt = np.append(c_plt, i)\n",
    "        g_plt = np.append(g_plt, bool( 10 <= stts[i] <= 19))\n",
    "    if len(x_plt) == 0:\n",
    "        print(\"WARNING: No data left after applying control variables!\")\n",
    "        return\n",
    "\n",
    "    b_plt = np.invert(g_plt)\n",
    "        \n",
    "    fig,ax = plt.subplots(1,1, figsize=(7,5))\n",
    "\n",
    "    present = np.full(len(lg.volatile_species), False)\n",
    "    for j,v in enumerate(lg.volatile_species):\n",
    "        for i in range(len(x_plt)):\n",
    "            r = lg.access_hvars(hvars,v+\"_mr\",-1)[c_plt[i]]\n",
    "            if r > 1.0e-30:\n",
    "                present[j] = True\n",
    "    \n",
    "    # Make the pies\n",
    "    for i in range(len(x_plt)):\n",
    "        ratios = []\n",
    "        colors = []\n",
    "        for j,v in enumerate(lg.volatile_species):\n",
    "            if not present[j]:\n",
    "                continue\n",
    "            ratios.append(lg.access_hvars(hvars,v+\"_mr\",-1)[c_plt[i]])\n",
    "            colors.append(lg.volatile_colors[v])\n",
    "        # s = (endp[i]*1.0e-5) / 1e3 * 1200.0\n",
    "        s = 1000\n",
    "        ax = _pie(ax, x_plt[i], y_plt[i], s, ratios, colors)\n",
    "\n",
    "    # Legend\n",
    "    patches = []\n",
    "    for j,v in enumerate(lg.volatile_species):\n",
    "        if present[j]:\n",
    "            patches.append(mpatches.Patch(color=lg.volatile_colors[v], label=v))\n",
    "    ax.legend(handles=patches,loc='center left', bbox_to_anchor=(1, 0.5))\n",
    "\n",
    "    if plot_casenums:\n",
    "        for i in range(len(x_plt)):\n",
    "            ax.text(x_plt[i],y_plt[i],c_plt[i],fontsize=7, color='magenta', horizontalalignment='center', verticalalignment='center')\n",
    "\n",
    "    if plot_controls:\n",
    "        control_str = \"Control variables:\\n\"\n",
    "        for k in control.keys():\n",
    "            control_str += \"  %s=%g\\n\" % (k,control[k])\n",
    "        control_str = control_str[:-1]\n",
    "        axt = ax.text(0.05, 0.95, control_str, \n",
    "                horizontalalignment='left', verticalalignment='top', transform=ax.transAxes, fontsize=10)\n",
    "        axt.set_bbox(dict(facecolor='white', alpha=0.5, linewidth=0))\n",
    "\n",
    "    ax.set_xlabel(x_lbl)\n",
    "    ax.set_ylabel(y_lbl)\n",
    "    if logy:\n",
    "        ax.set_yscale(\"log\")\n",
    "    if logx:\n",
    "        ax.set_xscale(\"log\")\n",
    "\n",
    "    plt.show()"
   ]
  },
  {
   "cell_type": "code",
   "execution_count": 7,
   "metadata": {},
   "outputs": [
    {
     "ename": "IndexError",
     "evalue": "index -1 is out of bounds for axis 0 with size 0",
     "output_type": "error",
     "traceback": [
      "\u001b[0;31m---------------------------------------------------------------------------\u001b[0m",
      "\u001b[0;31mIndexError\u001b[0m                                Traceback (most recent call last)",
      "Cell \u001b[0;32mIn[7], line 9\u001b[0m\n\u001b[1;32m      6\u001b[0m plot_controls \u001b[38;5;241m=\u001b[39m \u001b[38;5;28;01mTrue\u001b[39;00m\n\u001b[1;32m      7\u001b[0m plot_casenums \u001b[38;5;241m=\u001b[39m \u001b[38;5;28;01mFalse\u001b[39;00m\n\u001b[0;32m----> 9\u001b[0m \u001b[43mmake_pies\u001b[49m\u001b[43m(\u001b[49m\u001b[43mx\u001b[49m\u001b[43m,\u001b[49m\u001b[43mx_lbl\u001b[49m\u001b[43m,\u001b[49m\u001b[43m \u001b[49m\u001b[43my\u001b[49m\u001b[43m,\u001b[49m\u001b[43my_lbl\u001b[49m\u001b[43m,\u001b[49m\u001b[43m \u001b[49m\u001b[43mcontrol\u001b[49m\u001b[43m,\u001b[49m\u001b[43m \u001b[49m\u001b[43mlogx\u001b[49m\u001b[38;5;241;43m=\u001b[39;49m\u001b[38;5;28;43;01mTrue\u001b[39;49;00m\u001b[43m,\u001b[49m\u001b[43m \u001b[49m\u001b[43mlogy\u001b[49m\u001b[38;5;241;43m=\u001b[39;49m\u001b[38;5;28;43;01mTrue\u001b[39;49;00m\u001b[43m,\u001b[49m\n\u001b[1;32m     10\u001b[0m \u001b[43m          \u001b[49m\u001b[43mplot_casenums\u001b[49m\u001b[38;5;241;43m=\u001b[39;49m\u001b[43mplot_casenums\u001b[49m\u001b[43m,\u001b[49m\u001b[43m \u001b[49m\u001b[43mplot_controls\u001b[49m\u001b[38;5;241;43m=\u001b[39;49m\u001b[43mplot_controls\u001b[49m\u001b[43m)\u001b[49m\n",
      "Cell \u001b[0;32mIn[6], line 32\u001b[0m, in \u001b[0;36mmake_pies\u001b[0;34m(x, x_lbl, y, y_lbl, control, plot_casenums, plot_controls, logx, logy)\u001b[0m\n\u001b[1;32m     30\u001b[0m \u001b[38;5;28;01mfor\u001b[39;00m j,v \u001b[38;5;129;01min\u001b[39;00m \u001b[38;5;28menumerate\u001b[39m(lg\u001b[38;5;241m.\u001b[39mvolatile_species):\n\u001b[1;32m     31\u001b[0m     \u001b[38;5;28;01mfor\u001b[39;00m i \u001b[38;5;129;01min\u001b[39;00m \u001b[38;5;28mrange\u001b[39m(\u001b[38;5;28mlen\u001b[39m(x_plt)):\n\u001b[0;32m---> 32\u001b[0m         r \u001b[38;5;241m=\u001b[39m \u001b[43mlg\u001b[49m\u001b[38;5;241;43m.\u001b[39;49m\u001b[43maccess_hvars\u001b[49m\u001b[43m(\u001b[49m\u001b[43mhvars\u001b[49m\u001b[43m,\u001b[49m\u001b[43mv\u001b[49m\u001b[38;5;241;43m+\u001b[39;49m\u001b[38;5;124;43m\"\u001b[39;49m\u001b[38;5;124;43m_mr\u001b[39;49m\u001b[38;5;124;43m\"\u001b[39;49m\u001b[43m,\u001b[49m\u001b[38;5;241;43m-\u001b[39;49m\u001b[38;5;241;43m1\u001b[39;49m\u001b[43m)\u001b[49m[c_plt[i]]\n\u001b[1;32m     33\u001b[0m         \u001b[38;5;28;01mif\u001b[39;00m r \u001b[38;5;241m>\u001b[39m \u001b[38;5;241m1.0e-30\u001b[39m:\n\u001b[1;32m     34\u001b[0m             present[j] \u001b[38;5;241m=\u001b[39m \u001b[38;5;28;01mTrue\u001b[39;00m\n",
      "File \u001b[0;32m~/grid_analysis/utils/load_grid.py:198\u001b[0m, in \u001b[0;36maccess_hvars\u001b[0;34m(hvars, key, idx)\u001b[0m\n\u001b[1;32m    196\u001b[0m vals \u001b[38;5;241m=\u001b[39m []\n\u001b[1;32m    197\u001b[0m \u001b[38;5;28;01mfor\u001b[39;00m i \u001b[38;5;129;01min\u001b[39;00m \u001b[38;5;28mrange\u001b[39m(np\u001b[38;5;241m.\u001b[39mshape(rag)[\u001b[38;5;241m0\u001b[39m]):\n\u001b[0;32m--> 198\u001b[0m     vals\u001b[38;5;241m.\u001b[39mappend(\u001b[43mrag\u001b[49m\u001b[43m[\u001b[49m\u001b[43mi\u001b[49m\u001b[43m]\u001b[49m\u001b[43m[\u001b[49m\u001b[43midx\u001b[49m\u001b[43m]\u001b[49m)\n\u001b[1;32m    200\u001b[0m \u001b[38;5;66;03m# return array value of 'key' for each case, at 'idx'\u001b[39;00m\n\u001b[1;32m    201\u001b[0m \u001b[38;5;28;01mreturn\u001b[39;00m np\u001b[38;5;241m.\u001b[39marray(vals,dtype\u001b[38;5;241m=\u001b[39m\u001b[38;5;28mtype\u001b[39m(rag[\u001b[38;5;241m0\u001b[39m][\u001b[38;5;241m0\u001b[39m]))\n",
      "\u001b[0;31mIndexError\u001b[0m: index -1 is out of bounds for axis 0 with size 0"
     ]
    },
    {
     "data": {
      "image/png": "[encoded data removed]",
      "text/plain": [
       "<Figure size 700x500 with 1 Axes>"
      ]
     },
     "metadata": {},
     "output_type": "display_data"
    }
   ],
   "source": [
    "# Variables\n",
    "x = cvars[\"mean_distance\"];  x_lbl = \"Orbital separation [AU]\"\n",
    "y = cvars[\"CH_ratio\"];      y_lbl = \"C/H ratio\"\n",
    "control = {\"fO2_shift_IW\":0.0}\n",
    "\n",
    "plot_controls = True\n",
    "plot_casenums = False\n",
    "\n",
    "make_pies(x,x_lbl, y,y_lbl, control, logx=True, logy=True,\n",
    "          plot_casenums=plot_casenums, plot_controls=plot_controls)\n"
   ]
  },
  {
   "cell_type": "code",
   "execution_count": null,
   "metadata": {},
   "outputs": [],
   "source": []
  }
 ],
 "metadata": {
  "kernelspec": {
   "display_name": "proteus",
   "language": "python",
   "name": "python3"
  },
  "language_info": {
   "codemirror_mode": {
    "name": "ipython",
    "version": 3
   },
   "file_extension": ".py",
   "mimetype": "text/x-python",
   "name": "python",
   "nbconvert_exporter": "python",
   "pygments_lexer": "ipython3",
   "version": "3.10.9"
  }
 },
 "nbformat": 4,
 "nbformat_minor": 2
}
