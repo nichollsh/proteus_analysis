{
 "cells": [
  {
   "cell_type": "code",
   "execution_count": 14,
   "metadata": {},
   "outputs": [],
   "source": [
    "import matplotlib as mpl\n",
    "mpl.use(backend=\"ipympl\")\n",
    "\n",
    "font = {'family' : 'sans',\n",
    "        'size'   : 12}\n",
    "\n",
    "mpl.rc('font', **font)\n",
    "\n",
    "import matplotlib.pyplot as plt\n",
    "import matplotlib.patches as mpatches\n",
    "from mpl_toolkits.axes_grid1.inset_locator import inset_axes\n",
    "import numpy as np\n",
    "from proteus.utils.constants import gas_list\n",
    "from proteus.utils.plot import get_colour, latexify\n",
    "mpl.use(backend=\"ipympl\")\n",
    "\n",
    "mpl.rcParams['axes.formatter.useoffset'] = False"
   ]
  },
  {
   "cell_type": "code",
   "execution_count": 2,
   "metadata": {},
   "outputs": [],
   "source": [
    "import utils.load_grid as lg"
   ]
  },
  {
   "cell_type": "code",
   "execution_count": 3,
   "metadata": {},
   "outputs": [],
   "source": [
    "pgrid_dir = \"data/article_data/mnras_proteus_agni/hd63433d_v6\"\n",
    "# pgrid_dir = \"data/article_data/mnras_proteus_agni/ltt3780b_v5\"\n",
    "\n",
    "pgrid_dir = \"data/output/dummy_grid\"\n",
    "\n",
    "cases = lg.get_cases(pgrid_dir)"
   ]
  },
  {
   "cell_type": "code",
   "execution_count": 4,
   "metadata": {},
   "outputs": [
    {
     "name": "stdout",
     "output_type": "stream",
     "text": [
      " \n"
     ]
    },
    {
     "name": "stderr",
     "output_type": "stream",
     "text": [
      "Configs: 100%|██████████| 30/30 [00:00<00:00, 374.86it/s]\n"
     ]
    },
    {
     "name": "stdout",
     "output_type": "stream",
     "text": [
      " \n"
     ]
    },
    {
     "name": "stderr",
     "output_type": "stream",
     "text": [
      "Helpfiles: 100%|██████████| 30/30 [00:00<00:00, 60.23it/s]\n"
     ]
    },
    {
     "name": "stdout",
     "output_type": "stream",
     "text": [
      "Done\n"
     ]
    }
   ],
   "source": [
    "# Collect netcdf files\n",
    "stts = lg.get_statuses(pgrid_dir)\n",
    "\n",
    "print(\" \")\n",
    "\n",
    "# Configuration variables\n",
    "configs = lg.load_configs(cases)\n",
    "\n",
    "print(\" \")\n",
    "\n",
    "# Helpfiles\n",
    "helps, hvars = lg.load_helpfiles(cases)\n",
    "\n",
    "print(\"Done\")"
   ]
  },
  {
   "cell_type": "code",
   "execution_count": 5,
   "metadata": {},
   "outputs": [],
   "source": [
    "def _pie(ax, x, y, s, ratios, colors, tris=50):\n",
    "\n",
    "    markers = []\n",
    "    previous = 0\n",
    "    # calculate the points of the pie pieces\n",
    "    for color, ratio in zip(colors, ratios):\n",
    "        this = 2 * np.pi * ratio + previous\n",
    "        x_tmp  = [0] + np.cos(np.linspace(previous, this, tris)).tolist() + [0]\n",
    "        y_tmp  = [0] + np.sin(np.linspace(previous, this, tris)).tolist() + [0]\n",
    "        xy = np.column_stack([x_tmp, y_tmp])\n",
    "        previous = this\n",
    "        markers.append({'marker':xy, 's':(np.abs(xy).max())**2*s, 'facecolor':color})\n",
    "\n",
    "    # scatter each of the pie pieces to create pies\n",
    "    for marker in markers:\n",
    "        ax.scatter([x], [y], **marker)\n",
    "\n",
    "    return ax"
   ]
  },
  {
   "cell_type": "code",
   "execution_count": 12,
   "metadata": {},
   "outputs": [],
   "source": [
    "def make_pies(x,x_lbl, y,y_lbl, control,\n",
    "                plot_casenums=False,plot_controls=False, plot_psurf=True, plot_legend=True, dark_theme=False,\n",
    "                logx=False, logy=False, title=\"\", r_ref=3.0, time_idx=-1,\n",
    "                ytick=[], yticklbl=[], xtick=[], xticklbl=[], figsize=(6,5), xlim=[], ylim=[],\n",
    "                outpath=\"output/recent_pies.pdf\"):\n",
    "    # Make plot\n",
    "    x_plt = np.array([], dtype=float) # x variable\n",
    "    y_plt = np.array([], dtype=float) # y variable\n",
    "    c_plt = np.array([], dtype=int)   # case number\n",
    "    g_plt = np.array([], dtype=bool)  # case finished with success? (good)\n",
    "    g_plt = np.array([], dtype=bool)  # case finished with failure? (bad)\n",
    "    for i in range(len(x)):\n",
    "        skip_this = False\n",
    "        for k in control.keys():\n",
    "            if not np.isclose(lg.descend_get(configs[i],k),control[k]):\n",
    "                skip_this = True\n",
    "                break\n",
    "        if skip_this:\n",
    "            continue\n",
    "        x_plt = np.append(x_plt, x[i])\n",
    "        y_plt = np.append(y_plt, y[i])\n",
    "        c_plt = np.append(c_plt, i)\n",
    "        g_plt = np.append(g_plt, bool( 10 <= stts[i] <= 19))\n",
    "    if len(x_plt) == 0:\n",
    "        print(\"WARNING: No data left after applying control variables!\")\n",
    "        return\n",
    "\n",
    "    b_plt = np.invert(g_plt)\n",
    "\n",
    "    fig,ax = plt.subplots(1,1, figsize=figsize)\n",
    "\n",
    "    present = np.full(len(gas_list), False)\n",
    "    for j,v in enumerate(gas_list):\n",
    "        for i in range(len(x_plt)):\n",
    "            r = lg.access_hvars(hvars,v+\"_vmr\",-1)[c_plt[i]]\n",
    "            if r > 1.0e-30:\n",
    "                present[j] = True\n",
    "\n",
    "    # Make the pies\n",
    "    p_ref = np.amax(lg.access_hvars(hvars,\"P_surf\",-1))\n",
    "    print(\"Reference pressure = %g bar\"%p_ref)\n",
    "    for i in range(len(x_plt)):\n",
    "        ratios = []\n",
    "        colors = []\n",
    "        for j,v in enumerate(gas_list):\n",
    "            if not present[j]:\n",
    "                continue\n",
    "            ratios.append(lg.access_hvars(hvars,v+\"_vmr\",time_idx)[c_plt[i]])\n",
    "            colors.append(get_colour(v))\n",
    "        tot = np.sum(ratios)\n",
    "        if tot < 1.0 - 1e-5:\n",
    "            raise Exception(\"Mixing ratios do not sum to unity (sum=%.10f)\"%tot)\n",
    "\n",
    "        ax.scatter([x_plt[i]], [y_plt[i]], alpha=0.0)\n",
    "\n",
    "        # plot pie chart\n",
    "        ax_sub= inset_axes(ax, width=r_ref, height=r_ref, loc=\"center\",\n",
    "                    bbox_to_anchor=(x_plt[i], y_plt[i]),\n",
    "                    bbox_transform=ax.transData,\n",
    "                    borderpad=0)\n",
    "        wedges,texts= ax_sub.pie(ratios, colors=colors)\n",
    "\n",
    "        # move pie chart weges onto base plot\n",
    "        # https://stackoverflow.com/a/56935492\n",
    "        for p in wedges:\n",
    "            p.remove()\n",
    "            ax.add_patch(p)\n",
    "            p.set_zorder(2)\n",
    "            p.set_clip_on(True)\n",
    "\n",
    "        if plot_psurf:\n",
    "            p_surf_log = np.log10(lg.access_hvars(hvars,\"P_surf\",time_idx)[c_plt[i]])\n",
    "            ax.text(x_plt[i],y_plt[i],\n",
    "                        \"%.1f\"%p_surf_log,\n",
    "                        color=\"white\",\n",
    "                        horizontalalignment=\"center\", verticalalignment=\"center\",\n",
    "                        fontsize=10.9)\n",
    "\n",
    "    # Legend\n",
    "    if plot_legend:\n",
    "        patches = []\n",
    "        for j,v in enumerate(gas_list):\n",
    "            if present[j]:\n",
    "                patches.append(mpatches.Patch(color=get_colour(v), label=latexify(v)))\n",
    "        leg = ax.legend(handles=patches,loc='upper center', bbox_to_anchor=(0.5, -0.53), ncol=4,\n",
    "                        title=\"\",fancybox=True, framealpha=0.5, labelspacing=0.2)\n",
    "        if dark_theme:\n",
    "            leg.get_frame().set_alpha(0)\n",
    "\n",
    "    if plot_casenums:\n",
    "        for i in range(len(x_plt)):\n",
    "            ax.text(x_plt[i],y_plt[i],c_plt[i],fontsize=7, color='magenta', horizontalalignment='center', verticalalignment='center')\n",
    "\n",
    "    if plot_controls:\n",
    "        control_str = \"Control variables:\\n\"\n",
    "        for k in control.keys():\n",
    "            control_str += \"  %s=%g\\n\" % (k,control[k])\n",
    "        control_str = control_str[:-1]\n",
    "        axt = ax.text(0.05, 0.95, control_str,\n",
    "                horizontalalignment='left', verticalalignment='top', transform=ax.transAxes, fontsize=10)\n",
    "        axt.set_bbox(dict(facecolor='white', alpha=0.5, linewidth=0))\n",
    "\n",
    "    ax.set_xlabel(x_lbl)\n",
    "    ax.set_ylabel(y_lbl)\n",
    "    if logy:\n",
    "        ax.set_yscale(\"log\")\n",
    "    if logx:\n",
    "        ax.set_xscale(\"log\")\n",
    "\n",
    "    if len(xtick) > 0:\n",
    "        ax.set_xticks(xtick)\n",
    "    if len(xticklbl) > 0:\n",
    "        ax.set_xticklabels(xticklbl)\n",
    "\n",
    "    if len(ytick) > 0:\n",
    "        ax.set_yticks(ytick)\n",
    "    if len(yticklbl) > 0:\n",
    "        ax.set_yticklabels(yticklbl)\n",
    "\n",
    "    if len(xlim) == 2:\n",
    "        ax.set_xlim(xlim)\n",
    "\n",
    "    if len(ylim) == 2:\n",
    "        ax.set_ylim(ylim)\n",
    "\n",
    "    if len(title)>0:\n",
    "        ax.set_title(title, fontsize=12)\n",
    "\n",
    "    fig.savefig(outpath, bbox_inches='tight', transparent=True)\n",
    "    plt.show()"
   ]
  },
  {
   "cell_type": "code",
   "execution_count": 16,
   "metadata": {},
   "outputs": [
    {
     "name": "stdout",
     "output_type": "stream",
     "text": [
      "Reference pressure = 252.583 bar\n"
     ]
    },
    {
     "data": {
      "application/vnd.jupyter.widget-view+json": {
       "model_id": "4dec7c34b2c741158556a72067b751f8",
       "version_major": 2,
       "version_minor": 0
      },
      "image/png": "[encoded data removed]",
      "text/html": [
       "\n",
       "            <div style=\"display: inline-block;\">\n",
       "                <div class=\"jupyter-widgets widget-label\" style=\"text-align: center;\">\n",
       "                    Figure\n",
       "                </div>\n",
       "                <img src='data:image/png;base64,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' width=600.0/>\n",
       "            </div>\n",
       "        "
      ],
      "text/plain": [
       "Canvas(toolbar=Toolbar(toolitems=[('Home', 'Reset original view', 'home', 'home'), ('Back', 'Back to previous …"
      ]
     },
     "metadata": {},
     "output_type": "display_data"
    },
    {
     "name": "stdout",
     "output_type": "stream",
     "text": [
      "data/output/dummy_grid\n"
     ]
    }
   ],
   "source": [
    "# Y-variables\n",
    "y = lg.access_configs(configs,\"delivery.elements.CH_ratio\")\n",
    "y_lbl = \"C/H\"\n",
    "logy=False\n",
    "ytick = []\n",
    "yticklbl = []\n",
    "ylim=[]\n",
    "\n",
    "# X-variables\n",
    "x = lg.access_configs(configs,\"star.dummy.Teff\")\n",
    "x_lbl = \"Teff\"\n",
    "logx=False\n",
    "xtick = []\n",
    "xticklbl = []\n",
    "xlim=[]\n",
    "\n",
    "\n",
    "# Control variables\n",
    "# control = {\"mean_distance\":0.1, \"hydrogen_earth_oceans\":1.0}\n",
    "control = {}\n",
    "\n",
    "# Plotting parameters\n",
    "plot_controls = False\n",
    "plot_casenums = False\n",
    "plot_psurf =    True\n",
    "title = \"test\"\n",
    "r_ref         = 0.4\n",
    "figsize = (6,1.1)\n",
    "outpath       = \"output/recent_pies.pdf\"\n",
    "plot_legend   = False\n",
    "time_idx      = -5\n",
    "dark          = False\n",
    "\n",
    "if dark:\n",
    "    COLOR = 'white'\n",
    "else:\n",
    "    COLOR = 'black'\n",
    "\n",
    "mpl.rcParams['text.color'] = COLOR\n",
    "mpl.rcParams['axes.labelcolor'] = COLOR\n",
    "mpl.rcParams['xtick.color'] = COLOR\n",
    "mpl.rcParams['ytick.color'] = COLOR\n",
    "mpl.rcParams['axes.edgecolor'] = COLOR\n",
    "\n",
    "make_pies(x,x_lbl, y,y_lbl, control, logx=logx, logy=logy, time_idx=time_idx, dark_theme=dark, plot_psurf=plot_psurf,\n",
    "            ytick=ytick, yticklbl=yticklbl, xtick=xtick, xticklbl=xticklbl, figsize=figsize, ylim=ylim, xlim=xlim,\n",
    "            plot_casenums=plot_casenums, plot_controls=plot_controls, plot_legend=plot_legend, title=title, r_ref=r_ref, outpath=outpath)\n",
    "\n",
    "print(pgrid_dir)"
   ]
  }
 ],
 "metadata": {
  "kernelspec": {
   "display_name": "proteus",
   "language": "python",
   "name": "python3"
  },
  "language_info": {
   "codemirror_mode": {
    "name": "ipython",
    "version": 3
   },
   "file_extension": ".py",
   "mimetype": "text/x-python",
   "name": "python",
   "nbconvert_exporter": "python",
   "pygments_lexer": "ipython3",
   "version": "3.13.0"
  }
 },
 "nbformat": 4,
 "nbformat_minor": 2
}
