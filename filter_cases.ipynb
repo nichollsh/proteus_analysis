{
 "cells": [
  {
   "cell_type": "code",
   "execution_count": 6,
   "metadata": {},
   "outputs": [],
   "source": [
    "import matplotlib as mpl\n",
    "mpl.rcParams.update({'font.size': 12})\n",
    "mpl.rcParams['axes.formatter.useoffset'] = False\n",
    "\n",
    "import matplotlib.pyplot as plt\n",
    "import matplotlib.patches as mpatches\n",
    "import numpy as np\n",
    "import glob, os\n"
   ]
  },
  {
   "cell_type": "code",
   "execution_count": 7,
   "metadata": {},
   "outputs": [],
   "source": [
    "import utils.load_grid as lg\n",
    "from utils.load_cmaps import *"
   ]
  },
  {
   "cell_type": "code",
   "execution_count": 8,
   "metadata": {},
   "outputs": [],
   "source": [
    "pgrid_dir = \"data/shared/jgr_2/\"\n",
    "cases = lg.get_cases(pgrid_dir)"
   ]
  },
  {
   "cell_type": "code",
   "execution_count": 10,
   "metadata": {},
   "outputs": [
    {
     "name": "stderr",
     "output_type": "stream",
     "text": [
      "Configs: 100%|██████████| 263/263 [00:00<00:00, 1151.71it/s]\n",
      "Helpfiles: 100%|██████████| 263/263 [00:06<00:00, 41.48it/s]\n"
     ]
    },
    {
     "name": "stdout",
     "output_type": "stream",
     "text": [
      "Done\n"
     ]
    }
   ],
   "source": [
    "# Collect netcdf files\n",
    "stts = lg.get_statuses(pgrid_dir)\n",
    "# endn = lg.load_netcdfs_end(cases)\n",
    "\n",
    "# Configuration variables\n",
    "cvars = lg.load_cvars(cases)\n",
    "ncases = len(cases)\n",
    "\n",
    "# Helpfiles\n",
    "helps, hvars = lg.load_helpfiles(cases)\n",
    "\n",
    "print(\"Done\")"
   ]
  },
  {
   "cell_type": "code",
   "execution_count": 11,
   "metadata": {},
   "outputs": [
    {
     "name": "stdout",
     "output_type": "stream",
     "text": [
      "Case=80    at   time=6.22e+05   has   status=11  and F_atm=1.00e-08   |   a=0.10   C/H=8.27e-01   fO2=+3   [H]=1.0   \n",
      "6.18e+05 : 1.80e+03\n",
      "Case=82    at   time=4.24e+05   has   status=11  and F_atm=1.00e-08   |   a=0.10   C/H=2.00e+00   fO2=+3   [H]=1.0   \n",
      "4.20e+05 : 1.65e+03\n",
      "Case=92    at   time=6.05e+05   has   status= 1  and F_atm=1.00e-08   |   a=0.10   C/H=3.42e-01   fO2=+5   [H]=1.0   \n",
      "6.01e+05 : 2.95e+03\n",
      "Case=94    at   time=3.89e+05   has   status=11  and F_atm=1.00e-08   |   a=0.10   C/H=8.27e-01   fO2=+5   [H]=1.0   \n",
      "3.85e+05 : 1.87e+03\n",
      "Case=96    at   time=2.92e+05   has   status=11  and F_atm=1.00e-08   |   a=0.10   C/H=2.00e+00   fO2=+5   [H]=1.0   \n",
      "2.88e+05 : 1.69e+03\n",
      "Case=140   at   time=1.06e+06   has   status= 1  and F_atm=1.00e-08   |   a=0.30   C/H=1.00e-02   fO2=+0   [H]=1.0   \n",
      "1.05e+06 : 3.68e+03\n",
      "Case=142   at   time=9.49e+05   has   status= 1  and F_atm=1.00e-08   |   a=0.30   C/H=2.42e-02   fO2=+0   [H]=1.0   \n",
      "9.45e+05 : 3.26e+03\n",
      "Case=144   at   time=8.60e+05   has   status=11  and F_atm=1.00e-08   |   a=0.30   C/H=5.85e-02   fO2=+0   [H]=1.0   \n",
      "8.56e+05 : 1.98e+03\n",
      "Case=146   at   time=1.03e+06   has   status= 1  and F_atm=1.00e-08   |   a=0.30   C/H=1.41e-01   fO2=+0   [H]=1.0   \n",
      "1.02e+06 : 3.12e+03\n",
      "Case=154   at   time=6.32e+05   has   status= 1  and F_atm=1.00e-08   |   a=0.30   C/H=1.00e-02   fO2=+1   [H]=1.0   \n",
      "6.28e+05 : 3.00e+03\n",
      "Case=156   at   time=7.33e+05   has   status= 1  and F_atm=1.00e-08   |   a=0.30   C/H=2.42e-02   fO2=+1   [H]=1.0   \n",
      "7.29e+05 : 2.67e+03\n",
      "Case=158   at   time=8.56e+05   has   status= 1  and F_atm=1.00e-08   |   a=0.30   C/H=5.85e-02   fO2=+1   [H]=1.0   \n",
      "8.52e+05 : 3.11e+03\n",
      "Case=160   at   time=9.26e+05   has   status= 1  and F_atm=1.00e-08   |   a=0.30   C/H=1.41e-01   fO2=+1   [H]=1.0   \n",
      "9.22e+05 : 2.47e+03\n",
      "Case=162   at   time=1.60e+06   has   status= 1  and F_atm=1.00e-08   |   a=0.30   C/H=3.42e-01   fO2=+1   [H]=1.0   \n",
      "1.59e+06 : 2.77e+03\n",
      "Case=168   at   time=5.84e+05   has   status= 1  and F_atm=1.00e-08   |   a=0.30   C/H=1.00e-02   fO2=+3   [H]=1.0   \n",
      "5.80e+05 : 2.61e+03\n",
      "Case=170   at   time=6.66e+05   has   status= 1  and F_atm=1.00e-08   |   a=0.30   C/H=2.42e-02   fO2=+3   [H]=1.0   \n",
      "6.62e+05 : 1.95e+03\n",
      "Case=172   at   time=7.19e+05   has   status= 1  and F_atm=1.00e-08   |   a=0.30   C/H=5.85e-02   fO2=+3   [H]=1.0   \n",
      "7.15e+05 : 3.23e+03\n",
      "Case=174   at   time=7.31e+05   has   status= 1  and F_atm=1.00e-08   |   a=0.30   C/H=1.41e-01   fO2=+3   [H]=1.0   \n",
      "7.27e+05 : 2.29e+03\n",
      "Case=176   at   time=8.18e+05   has   status= 1  and F_atm=1.00e-08   |   a=0.30   C/H=3.42e-01   fO2=+3   [H]=1.0   \n",
      "8.14e+05 : 2.56e+03\n",
      "Case=178   at   time=9.41e+05   has   status= 1  and F_atm=1.00e-08   |   a=0.30   C/H=8.27e-01   fO2=+3   [H]=1.0   \n",
      "9.37e+05 : 2.01e+03\n",
      "Case=182   at   time=5.72e+05   has   status= 1  and F_atm=1.00e-08   |   a=0.30   C/H=1.00e-02   fO2=+5   [H]=1.0   \n",
      "5.68e+05 : 2.81e+03\n",
      "Case=184   at   time=6.46e+05   has   status= 1  and F_atm=1.00e-08   |   a=0.30   C/H=2.42e-02   fO2=+5   [H]=1.0   \n",
      "6.42e+05 : 2.96e+03\n",
      "Case=186   at   time=5.80e+05   has   status= 1  and F_atm=1.00e-08   |   a=0.30   C/H=5.85e-02   fO2=+5   [H]=1.0   \n",
      "5.76e+05 : 3.19e+03\n",
      "Case=188   at   time=6.16e+05   has   status= 1  and F_atm=1.00e-08   |   a=0.30   C/H=1.41e-01   fO2=+5   [H]=1.0   \n",
      "6.12e+05 : 3.27e+03\n",
      "Case=190   at   time=6.42e+05   has   status= 1  and F_atm=1.00e-08   |   a=0.30   C/H=3.42e-01   fO2=+5   [H]=1.0   \n",
      "6.38e+05 : 3.22e+03\n",
      "Case=192   at   time=8.20e+05   has   status= 1  and F_atm=1.00e-08   |   a=0.30   C/H=8.27e-01   fO2=+5   [H]=1.0   \n",
      "8.16e+05 : 1.58e+03\n",
      "Case=196   at   time=7.62e+05   has   status= 1  and F_atm=1.00e-08   |   a=0.50   C/H=1.00e-02   fO2=-5   [H]=1.0   \n",
      "7.58e+05 : 1.88e+03\n",
      "Case=198   at   time=8.16e+05   has   status= 1  and F_atm=1.00e-08   |   a=0.50   C/H=2.42e-02   fO2=-5   [H]=1.0   \n",
      "8.12e+05 : 2.14e+03\n",
      "Case=200   at   time=9.60e+05   has   status= 1  and F_atm=1.00e-08   |   a=0.50   C/H=5.85e-02   fO2=-5   [H]=1.0   \n",
      "9.56e+05 : 2.95e+03\n",
      "29 (11.03%) flagged\n"
     ]
    }
   ],
   "source": [
    "flag_count = 0\n",
    "for i in range(ncases):\n",
    "    crop = 5\n",
    "    F_atm = np.array(helps[i][\"F_atm\"])[crop:]\n",
    "    Times = np.array(helps[i][\"Time\"])[crop:]\n",
    "    Phigl = np.array(helps[i][\"Phi_global\"])[crop:]\n",
    "    for j in range(len(F_atm)):\n",
    "        f = F_atm[j]\n",
    "        t = Times[j]\n",
    "        phi = Phigl[j]\n",
    "\n",
    "        if abs(f) < 1.0e-6:\n",
    "            flag_count += 1\n",
    "\n",
    "            for file in glob.glob(os.path.join(cases[i],\"runtime_spectral*\")):\n",
    "                os.remove(file)\n",
    "\n",
    "            k = j-2\n",
    "            dfdt = (F_atm[k]-F_atm[k-4])/(Times[k]-Times[k-4])\n",
    "            # f_predict = f + dfdt * (Times[k+1]-Times[k])\n",
    "            dt_max = (1.0e-8 - F_atm[k]) / dfdt\n",
    "            dt_time = Times[k]\n",
    "\n",
    "            print_str = \"Case=%-4d  at   time=%.2e   has   status=%2d  and F_atm=%.2e\" % (i,t,stts[i],f)\n",
    "            print_str += \"   |   \"\n",
    "            print_str += \"a=%.2f   \"%cvars[\"mean_distance\"][i]\n",
    "            print_str += \"C/H=%.2e   \"%cvars[\"CH_ratio\"][i]\n",
    "            print_str += \"fO2=%+d   \"%cvars[\"fO2_shift_IW\"][i]\n",
    "            print_str += \"[H]=%.1f   \"%cvars[\"hydrogen_earth_oceans\"][i]\n",
    "            print(print_str)\n",
    "\n",
    "            print(\"%.2e : %.2e\" % (dt_time, dt_max))\n",
    "\n",
    "            # with np.printoptions(linewidth=np.inf):\n",
    "            #     print(F_atm[j-7:j+1])\n",
    "            break \n",
    "\n",
    "print(\"%d (%.2f%%) flagged\" % (  flag_count  , flag_count/ncases*100.0  ))\n"
   ]
  }
 ],
 "metadata": {
  "kernelspec": {
   "display_name": "proteus",
   "language": "python",
   "name": "python3"
  },
  "language_info": {
   "codemirror_mode": {
    "name": "ipython",
    "version": 3
   },
   "file_extension": ".py",
   "mimetype": "text/x-python",
   "name": "python",
   "nbconvert_exporter": "python",
   "pygments_lexer": "ipython3",
   "version": "3.10.9"
  }
 },
 "nbformat": 4,
 "nbformat_minor": 2
}
