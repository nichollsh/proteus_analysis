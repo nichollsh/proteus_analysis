{
 "cells": [
  {
   "cell_type": "code",
   "execution_count": 8,
   "metadata": {},
   "outputs": [],
   "source": [
    "import matplotlib as mpl\n",
    "mpl.rcParams.update({'font.size': 12})\n",
    "mpl.rcParams['axes.formatter.useoffset'] = False\n",
    "\n",
    "import matplotlib.pyplot as plt\n",
    "from matplotlib.colors import LinearSegmentedColormap\n",
    "from mpl_toolkits.axes_grid1 import make_axes_locatable\n",
    "from matplotlib.ticker import LinearLocator, LogLocator, MaxNLocator, FormatStrFormatter\n",
    "import matplotlib.patheffects as pe\n",
    "import numpy as np\n",
    "import copy\n",
    "from cmcrameri import cm"
   ]
  },
  {
   "cell_type": "code",
   "execution_count": 1,
   "metadata": {},
   "outputs": [],
   "source": [
    "import utils.load_grid as lg\n",
    "from proteus.config import read_config\n",
    "from proteus.utils.constants import vol_list as gas_list\n",
    "from proteus.utils.plot import get_colour, latexify"
   ]
  },
  {
   "cell_type": "markdown",
   "metadata": {},
   "source": [
    "### Read data"
   ]
  },
  {
   "cell_type": "code",
   "execution_count": 2,
   "metadata": {},
   "outputs": [],
   "source": [
    "pgrid_dir = \"data/output/l98d_escape15/\"\n",
    "cases = lg.get_cases(pgrid_dir, only_completed=True)\n",
    "ncases = len(cases)"
   ]
  },
  {
   "cell_type": "code",
   "execution_count": 3,
   "metadata": {},
   "outputs": [
    {
     "name": "stderr",
     "output_type": "stream",
     "text": [
      "Helpfiles: 100%|██████████| 125/125 [00:05<00:00, 23.20it/s]\n"
     ]
    },
    {
     "name": "stdout",
     "output_type": "stream",
     "text": [
      "Done\n"
     ]
    }
   ],
   "source": [
    "cnums = [\"%d\"%int(s.split(\"_\")[-1]) for s in cases]\n",
    "stts = lg.get_statuses(pgrid_dir)\n",
    "helps, hvars = lg.load_helpfiles(cases)\n",
    "\n",
    "# Configuration variables\n",
    "conf = []\n",
    "for f in cases:\n",
    "    conf.append( read_config(f+\"/init_coupler.toml\") )\n",
    "\n",
    "print(\"Done\")"
   ]
  },
  {
   "cell_type": "code",
   "execution_count": 4,
   "metadata": {},
   "outputs": [
    {
     "name": "stdout",
     "output_type": "stream",
     "text": [
      "Solidification threshold = 2.020%\n"
     ]
    }
   ],
   "source": [
    "solid_thresh = float(lg.descend_get(conf[0],\"params.stop.solid.phi_crit\"))*1.01\n",
    "print(\"Solidification threshold = %.3f%%\"%(solid_thresh*100))"
   ]
  },
  {
   "cell_type": "code",
   "execution_count": 9,
   "metadata": {},
   "outputs": [],
   "source": [
    "# %matplotlib widget\n",
    "%matplotlib inline\n",
    "# %config InlineBackend.figure_format='retina'"
   ]
  },
  {
   "cell_type": "code",
   "execution_count": 10,
   "metadata": {},
   "outputs": [],
   "source": [
    "def make_atlas(x,x_lbl, y,y_lbl, dom_idx, control,\n",
    "                title=\"\",\n",
    "                figscale=1.0, figsize=(5.0,4.0),\n",
    "                annotate=\"\", plot_scatter=True, plot_casenums=False, plot_controls=False,\n",
    "                xscale=\"linear\", xmult=1.0, marker_s=50,\n",
    "                yscale=\"linear\",ymult=1.0,\n",
    "                interp='none', hatch_solid=False):\n",
    "\n",
    "    # Plotting parameters\n",
    "    marker_e = 'none'   # scatter edge color\n",
    "    hatch_c  = 'white'  # hatch color\n",
    "    hatch_t  = '//'      # hatch type\n",
    "    hatch_w  = 1.0      # hatch line width\n",
    "\n",
    "    # Gather the data\n",
    "    print(\"Gather data\")\n",
    "    x_plt = np.array([], dtype=float) # x variable\n",
    "    y_plt = np.array([], dtype=float) # y variable\n",
    "    h_plt = np.array([], dtype=float) # hatch variable (i.e. melt fraction)\n",
    "    c_plt = np.array([], dtype=str)   # case number\n",
    "    z_plt = {} # gas arrays\n",
    "    for gas in gas_list:\n",
    "        z_plt[gas] = np.array([], dtype=float) # minor if <0, otherwise equal to vmr\n",
    "\n",
    "    # Read each case, fill array values\n",
    "    for i in range(ncases):\n",
    "        keep_this = True\n",
    "        for k in control.keys():\n",
    "            if not (lg.descend_get(conf[i],k) == control[k]):\n",
    "                keep_this = False\n",
    "        if not keep_this:\n",
    "            continue\n",
    "\n",
    "        cn = cnums[i]\n",
    "\n",
    "        # duplicates?\n",
    "        this_x =  lg.descend_get(conf[i],x)\n",
    "        this_y = lg.descend_get(conf[i],y)\n",
    "        for j in range(len(x_plt)):\n",
    "            if np.isclose(this_x, x_plt[j]) and np.isclose(this_y, y_plt[j]):\n",
    "                print(\"WARNING: Duplicate point added to array (case=%s, x=%g, y=%g)\"%(cn, this_x, this_y))\n",
    "\n",
    "        # add point\n",
    "        x_plt = np.append(x_plt, xmult*this_x)\n",
    "        y_plt = np.append(y_plt, ymult*this_y)\n",
    "        h_plt = np.append(h_plt, lg.access_hvars(hvars, \"Phi_global\", -1)[i])\n",
    "        c_plt = np.append(c_plt, cn)\n",
    "\n",
    "        # store gas\n",
    "        compos = [lg.access_hvars(hvars,\"%s_vmr\"%g,-1)[i] for g in gas_list]\n",
    "        dom_i = np.argsort(compos)[::-1][dom_idx]\n",
    "        for j,g in enumerate(gas_list):\n",
    "            val = 0\n",
    "            if j == dom_i:\n",
    "                val = compos[j]\n",
    "            z_plt[g] = np.append(z_plt[g], val)\n",
    "\n",
    "    if len(x_plt) == 0:\n",
    "        print(\"WARNING: No data left after applying control variables!\")\n",
    "        return\n",
    "\n",
    "    print(\"shape x:\",np.shape(x_plt))\n",
    "    print(\"shape y:\",np.shape(y_plt))\n",
    "\n",
    "    # Do interpolation on z-variables\n",
    "    interp_npts = 30\n",
    "    z_itp = {}\n",
    "    print(\"Interpolate z\")\n",
    "    marker_e='white'\n",
    "    for g in gas_list:\n",
    "        _,_,xxi,yyi,zzi = lg.interp_2d(x_plt,y_plt,z_plt[g], interp_npts, method='nearest')\n",
    "        z_itp[g] = zzi\n",
    "\n",
    "    # Hatch solid cases (if allowing interpolation)\n",
    "    if hatch_solid:\n",
    "        print(\"Interpolate phi\")\n",
    "        _,_,_,_,hhi = lg.interp_2d(x_plt, y_plt,h_plt, interp_npts, method='linear')\n",
    "\n",
    "    # Make the plot\n",
    "    print(\"Plot\")\n",
    "    fig,ax = plt.subplots(1,1, figsize=(figsize[0]*figscale,figsize[1]*figscale))\n",
    "\n",
    "    #    plot interpolation\n",
    "    # zzi = np.clip(zzi, minz*(1+1.0e-10), maxz*(1-1.0e-10))  # avoid numerical artifacts from interpolation + cmapping\n",
    "    for g in gas_list:\n",
    "\n",
    "        zzi = z_itp[g]\n",
    "        levels = [-1, 0, 1]\n",
    "        colors = [(0,0,0,0), get_colour(g)]\n",
    "        mappable = ax.contourf(xxi,yyi,zzi, levels=levels, colors=colors)\n",
    "\n",
    "    #    plot hatches\n",
    "    if hatch_solid:\n",
    "        mpl.rcParams['hatch.linewidth'] = hatch_w\n",
    "        mpl.rcParams['hatch.color'] = hatch_c\n",
    "        if np.any(hhi <= solid_thresh):\n",
    "            # contour hatches\n",
    "            ax.contourf(xxi,yyi,hhi, alpha=0.0, levels=[-1,solid_thresh,1],hatches=[hatch_t,''], zorder=3, extend='upper')\n",
    "            # contour boundary\n",
    "            ax.contour( xxi,yyi,hhi, alpha=1.0, levels=[-1,solid_thresh,1],colors=[hatch_c]*3, zorder=3, extend='upper',linewidths=[hatch_w]*3)\n",
    "\n",
    "    #    plot case numbers (debugging)\n",
    "    if plot_casenums:\n",
    "        for i in range(len(x_plt)):\n",
    "            _c = 'white'\n",
    "            ax.text(x_plt[i],y_plt[i],c_plt[i],fontsize=7, color=_c, horizontalalignment='center', verticalalignment='center', zorder=10)\n",
    "\n",
    "    #    plot control variable text box (debugging)\n",
    "    if plot_controls:\n",
    "        control_str = \"Control variables:\\n\"\n",
    "        for k in control.keys():\n",
    "            control_str += \"  %s=%g\\n\" % (k,control[k])\n",
    "        control_str = control_str[:-1]\n",
    "        axt = ax.text(0.05, 0.95, control_str, zorder=12,\n",
    "                horizontalalignment='left', verticalalignment='top', transform=ax.transAxes, fontsize=10)\n",
    "        axt.set_bbox(dict(facecolor='white', alpha=0.5, linewidth=0))\n",
    "\n",
    "    #    plot annotation\n",
    "    if len(annotate) > 0:\n",
    "        axt = ax.text(0.95, 0.95, annotate, zorder=12,\n",
    "                horizontalalignment='right', verticalalignment='top', transform=ax.transAxes, fontsize=10)\n",
    "        axt.set_bbox(dict(facecolor='white', alpha=0.5, linewidth=0))\n",
    "\n",
    "    # legend\n",
    "    x = np.median(x_plt)\n",
    "    y = np.median(y_plt)\n",
    "    for g in gas_list:\n",
    "        ax.scatter(x,y,label=latexify(g), color=get_colour(g), zorder=-20, s=40, marker='s')\n",
    "    ax.legend(loc='lower center', bbox_to_anchor=(0.5,1.0), ncols=4)\n",
    "\n",
    "    #    finalise\n",
    "    ax.set_xlabel(x_lbl)\n",
    "    ax.set_ylabel(y_lbl)\n",
    "    if (title != None) and (len(title) > 0):\n",
    "        ax.set_title(title)\n",
    "\n",
    "    if xscale == \"symlog\":\n",
    "        ax.set_xscale(xscale, linthresh=np.amin(x_plt[x_plt>0]))\n",
    "    else:\n",
    "        ax.set_xscale(xscale)\n",
    "\n",
    "    if yscale == \"symlog\":\n",
    "        ax.set_yscale(yscale, linthresh=np.amin(y_plt[y_plt>0]))\n",
    "    else:\n",
    "        ax.set_yscale(yscale)\n",
    "\n",
    "    return fig,ax"
   ]
  },
  {
   "cell_type": "code",
   "execution_count": 16,
   "metadata": {},
   "outputs": [
    {
     "name": "stdout",
     "output_type": "stream",
     "text": [
      "Gather data\n",
      "shape x: (14,)\n",
      "shape y: (14,)\n",
      "Interpolate z\n",
      "Plot\n"
     ]
    },
    {
     "data": {
      "image/png": "[encoded data removed]",
      "text/plain": [
       "<Figure size 550x330 with 1 Axes>"
      ]
     },
     "metadata": {},
     "output_type": "display_data"
    },
    {
     "name": "stdout",
     "output_type": "stream",
     "text": [
      "data/output/l98d_escape15/\n"
     ]
    }
   ],
   "source": [
    "# -----------\n",
    "# Reset\n",
    "plt.close(\"all\")\n",
    "xmult, ymult, zmult = 1.0, 1.0, 1.0\n",
    "title = \"\"\n",
    "control = {}\n",
    "marker_s = 220\n",
    "annotate = \"\"\n",
    "outpath = \"output/atlas_recent.pdf\"\n",
    "\n",
    "# -----------\n",
    "# Variables\n",
    "\n",
    "x = \"outgas.fO2_shift_IW\";  x_lbl = \"log$_{10}$ (fO$_{2}$ / IW)\"; xscale=\"linear\"\n",
    "# x = \"delivery.elements.H_ppmw\";   x_lbl = \"Hydrogen [ppmw]\"; xscale=\"linear\"\n",
    "\n",
    "# y = \"struct.corefrac\";   y_lbl = \"Core radius [%]\"; yscale=\"linear\"; ymult=100\n",
    "y = \"delivery.elements.H_ppmw\";   y_lbl = \"Total hydrogen [ppmw]\"; yscale=\"linear\"\n",
    "# y = \"orbit.dummy.H_tide\";   y_lbl = \"$H_{tide}$ [W kg$^{-1}$]\"; yscale=\"symlog\"\n",
    "\n",
    "# control[\"delivery.elements.H_ppmw\"] = 100.0\n",
    "# control[\"outgas.fO2_shift_IW\"] = 0\n",
    "control[\"delivery.elements.SH_ratio\"] = 9\n",
    "control[\"struct.mass_tot\"] = 2.25\n",
    "\n",
    "\n",
    "# -----------\n",
    "# Make plot\n",
    "figsize       = (5,3)\n",
    "plot_controls = True\n",
    "plot_casenums = True\n",
    "plot_scatter  = False\n",
    "hatch_solid   = False\n",
    "figscale      = 1.1\n",
    "dom_idx       = 0\n",
    "\n",
    "outpath       = \"output/%s-atlas.pdf\"%(pgrid_dir.split(\"/\")[-2])\n",
    "\n",
    "fig,ax = make_atlas(x,x_lbl, y,y_lbl, dom_idx, control, title=title,\n",
    "         plot_scatter=plot_scatter,plot_casenums=plot_casenums, plot_controls=plot_controls,\n",
    "         xscale=xscale, xmult=xmult,\n",
    "         yscale=yscale, ymult=ymult, marker_s=marker_s, hatch_solid=hatch_solid,\n",
    "         figscale=figscale, figsize=figsize, annotate=annotate\n",
    "         )\n",
    "\n",
    "fig.savefig(outpath, bbox_inches='tight')\n",
    "plt.show()\n",
    "\n",
    "print(pgrid_dir)"
   ]
  }
 ],
 "metadata": {
  "kernelspec": {
   "display_name": "py313",
   "language": "python",
   "name": "python3"
  },
  "language_info": {
   "codemirror_mode": {
    "name": "ipython",
    "version": 3
   },
   "file_extension": ".py",
   "mimetype": "text/x-python",
   "name": "python",
   "nbconvert_exporter": "python",
   "pygments_lexer": "ipython3",
   "version": "3.13.0"
  }
 },
 "nbformat": 4,
 "nbformat_minor": 2
}
